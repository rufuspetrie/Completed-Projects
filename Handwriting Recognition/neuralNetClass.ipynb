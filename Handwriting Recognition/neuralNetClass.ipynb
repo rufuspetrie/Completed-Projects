{
 "cells": [
  {
   "cell_type": "markdown",
   "metadata": {},
   "source": [
    "Here is some code that I used for Neural Network while working through Tariq Rashid's book 'Make Your Own Neural Network'. The purpose of this Neural Network is to classify handwritten numbers, and it uses the MNIST training and test datasets."
   ]
  },
  {
   "cell_type": "code",
   "execution_count": 1,
   "metadata": {
    "collapsed": true
   },
   "outputs": [],
   "source": [
    "import numpy as np\n",
    "import scipy.special\n",
    "import scipy.misc\n",
    "import matplotlib.pyplot\n",
    "%matplotlib inline"
   ]
  },
  {
   "cell_type": "code",
   "execution_count": 2,
   "metadata": {
    "collapsed": true
   },
   "outputs": [],
   "source": [
    "trainingDataFile=open(\"MNIST datasets/mnist_train.csv\",'r')\n",
    "trainingDataList=trainingDataFile.readlines()\n",
    "trainingDataFile.close()"
   ]
  },
  {
   "cell_type": "code",
   "execution_count": 3,
   "metadata": {
    "collapsed": true
   },
   "outputs": [],
   "source": [
    "testingDataFile=open(\"MNIST datasets/mnist_test.csv\",'r')\n",
    "testingDataList=testingDataFile.readlines()\n",
    "testingDataFile.close()"
   ]
  },
  {
   "cell_type": "code",
   "execution_count": 4,
   "metadata": {
    "collapsed": true
   },
   "outputs": [],
   "source": [
    "class neuralNetwork:\n",
    "    \n",
    "    def __init__(self,inputNodes,hiddenNodes,outputNodes,learningRate):\n",
    "        self.inodes=inputNodes\n",
    "        self.hnodes=hiddenNodes\n",
    "        self.onodes=outputNodes\n",
    "        self.lr=learningRate\n",
    "        # Initial weights/defining sigmoid function\n",
    "        self.inputWeights=np.random.normal(0.0,pow(self.hnodes,-0.5),(self.hnodes,self.inodes))\n",
    "        self.outputWeights=np.random.normal(0.0,pow(self.onodes,-0.5),(self.onodes,self.hnodes))\n",
    "        self.activationFunction=lambda x: scipy.special.expit(x)\n",
    "    \n",
    "    def train(self,inputsList,targetsList):\n",
    "        inputs=np.array(inputsList,ndmin=2).T\n",
    "        targets=np.array(targetsList,ndmin=2).T\n",
    "        # Hidden layer\n",
    "        hiddenInputs=np.dot(self.inputWeights,inputs)\n",
    "        hiddenOutputs=self.activationFunction(hiddenInputs)\n",
    "        # Output layer\n",
    "        finalInputs=np.dot(self.outputWeights,hiddenOutputs)\n",
    "        finalOutputs=self.activationFunction(finalInputs)\n",
    "        \n",
    "        outputErrors=targets-finalOutputs\n",
    "        hiddenErrors=np.dot(self.outputWeights.T,outputErrors)\n",
    "        \n",
    "        self.outputWeights+=self.lr*np.dot((outputErrors*finalOutputs*(1-finalOutputs)),np.transpose(hiddenOutputs))\n",
    "        self.inputWeights+=self.lr*np.dot((hiddenErrors*hiddenOutputs*(1-hiddenOutputs)),np.transpose(inputs))\n",
    "    \n",
    "    def query(self,inputsList): \n",
    "        inputs=np.array(inputsList,ndmin=2).T\n",
    "        # Hidden layer\n",
    "        hiddenInputs=np.dot(self.inputWeights,inputs)\n",
    "        hiddenOutputs=self.activationFunction(hiddenInputs)\n",
    "        # Output layer\n",
    "        finalInputs=np.dot(self.outputWeights,hiddenOutputs)\n",
    "        finalOutputs=self.activationFunction(finalInputs)\n",
    "        return finalOutputs"
   ]
  },
  {
   "cell_type": "code",
   "execution_count": 5,
   "metadata": {
    "collapsed": true
   },
   "outputs": [],
   "source": [
    "inputNodes=784\n",
    "hiddenNodes=196\n",
    "outputNodes=10\n",
    "lr=0.10\n",
    "n=neuralNetwork(inputNodes,hiddenNodes,outputNodes,lr)"
   ]
  },
  {
   "cell_type": "code",
   "execution_count": 6,
   "metadata": {
    "collapsed": true
   },
   "outputs": [],
   "source": [
    "allValues=testingDataList[0].split(',')\n",
    "epochs=5\n",
    "\n",
    "for i in range(epochs):\n",
    "    for record in trainingDataList:\n",
    "        allValues=record.split(',')\n",
    "        inputs=(np.asfarray(allValues[1:])/255*0.99+0.01)\n",
    "        targets=np.zeros(outputNodes)+0.01\n",
    "        targets[int(allValues[0])]=0.99\n",
    "        n.train(inputs,targets)"
   ]
  },
  {
   "cell_type": "code",
   "execution_count": 7,
   "metadata": {
    "collapsed": true
   },
   "outputs": [],
   "source": [
    "scorecard=[]\n",
    "for record in testingDataList:\n",
    "    allValues=record.split(',')\n",
    "    correctLabel=int(allValues[0])\n",
    "    inputs=(np.asfarray(allValues[1:])/255*0.99)+0.01\n",
    "    outputs=n.query(inputs)\n",
    "    label=np.argmax(outputs)\n",
    "    if (label==correctLabel):\n",
    "        scorecard.append(1)\n",
    "    else:\n",
    "        scorecard.append(0)\n",
    "    pass"
   ]
  },
  {
   "cell_type": "code",
   "execution_count": 8,
   "metadata": {},
   "outputs": [
    {
     "name": "stdout",
     "output_type": "stream",
     "text": [
      "0.9733\n"
     ]
    }
   ],
   "source": [
    "print np.mean(scorecard)"
   ]
  },
  {
   "cell_type": "markdown",
   "metadata": {},
   "source": [
    "So, the Neural Network achieved 97.33% accuracy, which is pretty solid considering that it's hard to optimize the network when each iteration takes so long to compute given the number of epochs and nodes. Now, I am going to test the Neural Network on my own handwriting."
   ]
  },
  {
   "cell_type": "code",
   "execution_count": 9,
   "metadata": {},
   "outputs": [
    {
     "data": {
      "text/plain": [
       "<matplotlib.image.AxesImage at 0x146e7b38>"
      ]
     },
     "execution_count": 9,
     "metadata": {},
     "output_type": "execute_result"
    },
    {
     "data": {
      "image/png": "[encoded data removed]",
      "text/plain": [
       "<matplotlib.figure.Figure at 0xbc03a58>"
      ]
     },
     "metadata": {},
     "output_type": "display_data"
    }
   ],
   "source": [
    "imgArray=scipy.misc.imread('Numbers/0.png',flatten=True)\n",
    "imgData=255-imgArray.reshape(784)\n",
    "imgData=(imgData/255*0.99+0.01)\n",
    "imgArray=np.asfarray((imgData).reshape((28,28)))\n",
    "matplotlib.pyplot.imshow(imgArray,cmap='Greys',interpolation='None')"
   ]
  },
  {
   "cell_type": "code",
   "execution_count": 10,
   "metadata": {},
   "outputs": [
    {
     "data": {
      "text/plain": [
       "0"
      ]
     },
     "execution_count": 10,
     "metadata": {},
     "output_type": "execute_result"
    }
   ],
   "source": [
    "np.argmax(n.query((np.asfarray(imgData))))"
   ]
  },
  {
   "cell_type": "code",
   "execution_count": 11,
   "metadata": {},
   "outputs": [
    {
     "data": {
      "text/plain": [
       "<matplotlib.image.AxesImage at 0x147ab518>"
      ]
     },
     "execution_count": 11,
     "metadata": {},
     "output_type": "execute_result"
    },
    {
     "data": {
      "image/png": "[encoded data removed]",
      "text/plain": [
       "<matplotlib.figure.Figure at 0x146b7390>"
      ]
     },
     "metadata": {},
     "output_type": "display_data"
    }
   ],
   "source": [
    "imgArray=scipy.misc.imread('Numbers/1.png',flatten=True)\n",
    "imgData=255-imgArray.reshape(784)\n",
    "imgData=(imgData/255*0.99+0.01)\n",
    "imgArray=np.asfarray((imgData).reshape((28,28)))\n",
    "matplotlib.pyplot.imshow(imgArray,cmap='Greys',interpolation='None')"
   ]
  },
  {
   "cell_type": "code",
   "execution_count": 236,
   "metadata": {},
   "outputs": [
    {
     "data": {
      "text/plain": [
       "1"
      ]
     },
     "execution_count": 236,
     "metadata": {},
     "output_type": "execute_result"
    }
   ],
   "source": [
    "np.argmax(n.query((np.asfarray(imgData))))"
   ]
  },
  {
   "cell_type": "code",
   "execution_count": 241,
   "metadata": {},
   "outputs": [
    {
     "data": {
      "text/plain": [
       "<matplotlib.image.AxesImage at 0x10fce6a0>"
      ]
     },
     "execution_count": 241,
     "metadata": {},
     "output_type": "execute_result"
    },
    {
     "data": {
      "image/png": "[encoded data removed]",
      "text/plain": [
       "<matplotlib.figure.Figure at 0x10da4048>"
      ]
     },
     "metadata": {},
     "output_type": "display_data"
    }
   ],
   "source": [
    "imgArray=scipy.misc.imread('Numbers/2.png',flatten=True)\n",
    "imgData=255-imgArray.reshape(784)\n",
    "imgData=(imgData/255*0.99+0.01)\n",
    "imgArray=np.asfarray((imgData).reshape((28,28)))\n",
    "matplotlib.pyplot.imshow(imgArray,cmap='Greys',interpolation='None')"
   ]
  },
  {
   "cell_type": "code",
   "execution_count": 242,
   "metadata": {},
   "outputs": [
    {
     "data": {
      "text/plain": [
       "2"
      ]
     },
     "execution_count": 242,
     "metadata": {},
     "output_type": "execute_result"
    }
   ],
   "source": [
    "np.argmax(n.query((np.asfarray(imgData))))"
   ]
  },
  {
   "cell_type": "code",
   "execution_count": 204,
   "metadata": {},
   "outputs": [
    {
     "data": {
      "text/plain": [
       "<matplotlib.image.AxesImage at 0x13a51e48>"
      ]
     },
     "execution_count": 204,
     "metadata": {},
     "output_type": "execute_result"
    },
    {
     "data": {
      "image/png": "[encoded data removed]",
      "text/plain": [
       "<matplotlib.figure.Figure at 0x13bf40f0>"
      ]
     },
     "metadata": {},
     "output_type": "display_data"
    }
   ],
   "source": [
    "imgArray=scipy.misc.imread('Numbers/3.png',flatten=True)\n",
    "imgData=255-imgArray.reshape(784)\n",
    "imgData=(imgData/255*0.99+0.01)\n",
    "imgArray=np.asfarray((imgData).reshape((28,28)))\n",
    "matplotlib.pyplot.imshow(imgArray,cmap='Greys',interpolation='None')"
   ]
  },
  {
   "cell_type": "code",
   "execution_count": 205,
   "metadata": {},
   "outputs": [
    {
     "data": {
      "text/plain": [
       "3"
      ]
     },
     "execution_count": 205,
     "metadata": {},
     "output_type": "execute_result"
    }
   ],
   "source": [
    "np.argmax(n.query((np.asfarray(imgData))))"
   ]
  },
  {
   "cell_type": "code",
   "execution_count": 206,
   "metadata": {},
   "outputs": [
    {
     "data": {
      "text/plain": [
       "<matplotlib.image.AxesImage at 0xd64a198>"
      ]
     },
     "execution_count": 206,
     "metadata": {},
     "output_type": "execute_result"
    },
    {
     "data": {
      "image/png": "[encoded data removed]",
      "text/plain": [
       "<matplotlib.figure.Figure at 0xc542160>"
      ]
     },
     "metadata": {},
     "output_type": "display_data"
    }
   ],
   "source": [
    "imgArray=scipy.misc.imread('Numbers/4.png',flatten=True)\n",
    "imgData=255-imgArray.reshape(784)\n",
    "imgData=(imgData/255*0.99+0.01)\n",
    "imgArray=np.asfarray((imgData).reshape((28,28)))\n",
    "matplotlib.pyplot.imshow(imgArray,cmap='Greys',interpolation='None')"
   ]
  },
  {
   "cell_type": "code",
   "execution_count": 207,
   "metadata": {},
   "outputs": [
    {
     "data": {
      "text/plain": [
       "4"
      ]
     },
     "execution_count": 207,
     "metadata": {},
     "output_type": "execute_result"
    }
   ],
   "source": [
    "np.argmax(n.query((np.asfarray(imgData))))"
   ]
  },
  {
   "cell_type": "code",
   "execution_count": 243,
   "metadata": {},
   "outputs": [
    {
     "data": {
      "text/plain": [
       "<matplotlib.image.AxesImage at 0x12e3d940>"
      ]
     },
     "execution_count": 243,
     "metadata": {},
     "output_type": "execute_result"
    },
    {
     "data": {
      "image/png": "[encoded data removed]",
      "text/plain": [
       "<matplotlib.figure.Figure at 0x10f4a9b0>"
      ]
     },
     "metadata": {},
     "output_type": "display_data"
    }
   ],
   "source": [
    "imgArray=scipy.misc.imread('Numbers/5.png',flatten=True)\n",
    "imgData=255-imgArray.reshape(784)\n",
    "imgData=(imgData/255*0.99+0.01)\n",
    "imgArray=np.asfarray((imgData).reshape((28,28)))\n",
    "matplotlib.pyplot.imshow(imgArray,cmap='Greys',interpolation='None')"
   ]
  },
  {
   "cell_type": "code",
   "execution_count": 244,
   "metadata": {},
   "outputs": [
    {
     "data": {
      "text/plain": [
       "5"
      ]
     },
     "execution_count": 244,
     "metadata": {},
     "output_type": "execute_result"
    }
   ],
   "source": [
    "np.argmax(n.query((np.asfarray(imgData))))"
   ]
  },
  {
   "cell_type": "code",
   "execution_count": 251,
   "metadata": {},
   "outputs": [
    {
     "data": {
      "text/plain": [
       "<matplotlib.image.AxesImage at 0x134115c0>"
      ]
     },
     "execution_count": 251,
     "metadata": {},
     "output_type": "execute_result"
    },
    {
     "data": {
      "image/png": "[encoded data removed]",
      "text/plain": [
       "<matplotlib.figure.Figure at 0x12e16588>"
      ]
     },
     "metadata": {},
     "output_type": "display_data"
    }
   ],
   "source": [
    "imgArray=scipy.misc.imread('Numbers/6.png',flatten=True)\n",
    "imgData=255-imgArray.reshape(784)\n",
    "imgData=(imgData/255*0.99+0.01)\n",
    "imgArray=np.asfarray((imgData).reshape((28,28)))\n",
    "matplotlib.pyplot.imshow(imgArray,cmap='Greys',interpolation='None')"
   ]
  },
  {
   "cell_type": "code",
   "execution_count": 252,
   "metadata": {},
   "outputs": [
    {
     "data": {
      "text/plain": [
       "6"
      ]
     },
     "execution_count": 252,
     "metadata": {},
     "output_type": "execute_result"
    }
   ],
   "source": [
    "np.argmax(n.query((np.asfarray(imgData))))"
   ]
  },
  {
   "cell_type": "code",
   "execution_count": 247,
   "metadata": {},
   "outputs": [
    {
     "data": {
      "text/plain": [
       "<matplotlib.image.AxesImage at 0x12ff3f60>"
      ]
     },
     "execution_count": 247,
     "metadata": {},
     "output_type": "execute_result"
    },
    {
     "data": {
      "image/png": "[encoded data removed]",
      "text/plain": [
       "<matplotlib.figure.Figure at 0x12f4b668>"
      ]
     },
     "metadata": {},
     "output_type": "display_data"
    }
   ],
   "source": [
    "imgArray=scipy.misc.imread('Numbers/7.png',flatten=True)\n",
    "imgData=255-imgArray.reshape(784)\n",
    "imgData=(imgData/255*0.99+0.01)\n",
    "imgArray=np.asfarray((imgData).reshape((28,28)))\n",
    "matplotlib.pyplot.imshow(imgArray,cmap='Greys',interpolation='None')"
   ]
  },
  {
   "cell_type": "code",
   "execution_count": 248,
   "metadata": {},
   "outputs": [
    {
     "data": {
      "text/plain": [
       "7"
      ]
     },
     "execution_count": 248,
     "metadata": {},
     "output_type": "execute_result"
    }
   ],
   "source": [
    "np.argmax(n.query((np.asfarray(imgData))))"
   ]
  },
  {
   "cell_type": "code",
   "execution_count": 214,
   "metadata": {},
   "outputs": [
    {
     "data": {
      "text/plain": [
       "<matplotlib.image.AxesImage at 0xdf03dd8>"
      ]
     },
     "execution_count": 214,
     "metadata": {},
     "output_type": "execute_result"
    },
    {
     "data": {
      "image/png": "[encoded data removed]",
      "text/plain": [
       "<matplotlib.figure.Figure at 0x13ca66d8>"
      ]
     },
     "metadata": {},
     "output_type": "display_data"
    }
   ],
   "source": [
    "imgArray=scipy.misc.imread('Numbers/8.png',flatten=True)\n",
    "imgData=255-imgArray.reshape(784)\n",
    "imgData=(imgData/255*0.99+0.01)\n",
    "imgArray=np.asfarray((imgData).reshape((28,28)))\n",
    "matplotlib.pyplot.imshow(imgArray,cmap='Greys',interpolation='None')"
   ]
  },
  {
   "cell_type": "code",
   "execution_count": 216,
   "metadata": {},
   "outputs": [
    {
     "data": {
      "text/plain": [
       "8"
      ]
     },
     "execution_count": 216,
     "metadata": {},
     "output_type": "execute_result"
    }
   ],
   "source": [
    "np.argmax(n.query((np.asfarray(imgData))))"
   ]
  },
  {
   "cell_type": "code",
   "execution_count": 217,
   "metadata": {},
   "outputs": [
    {
     "data": {
      "text/plain": [
       "<matplotlib.image.AxesImage at 0xe1cb128>"
      ]
     },
     "execution_count": 217,
     "metadata": {},
     "output_type": "execute_result"
    },
    {
     "data": {
      "image/png": "[encoded data removed]",
      "text/plain": [
       "<matplotlib.figure.Figure at 0xdd830f0>"
      ]
     },
     "metadata": {},
     "output_type": "display_data"
    }
   ],
   "source": [
    "imgArray=scipy.misc.imread('Numbers/9.png',flatten=True)\n",
    "imgData=255-imgArray.reshape(784)\n",
    "imgData=(imgData/255*0.99+0.01)\n",
    "imgArray=np.asfarray((imgData).reshape((28,28)))\n",
    "matplotlib.pyplot.imshow(imgArray,cmap='Greys',interpolation='None')"
   ]
  },
  {
   "cell_type": "code",
   "execution_count": 218,
   "metadata": {},
   "outputs": [
    {
     "data": {
      "text/plain": [
       "9"
      ]
     },
     "execution_count": 218,
     "metadata": {},
     "output_type": "execute_result"
    }
   ],
   "source": [
    "np.argmax(n.query((np.asfarray(imgData))))"
   ]
  },
  {
   "cell_type": "markdown",
   "metadata": {},
   "source": [
    "As we can see, the Neural Network succeeded in correctly classifying all of my written numbers."
   ]
  }
 ],
 "metadata": {
  "kernelspec": {
   "display_name": "Python 2",
   "language": "python",
   "name": "python2"
  },
  "language_info": {
   "codemirror_mode": {
    "name": "ipython",
    "version": 2
   },
   "file_extension": ".py",
   "mimetype": "text/x-python",
   "name": "python",
   "nbconvert_exporter": "python",
   "pygments_lexer": "ipython2",
   "version": "2.7.14"
  }
 },
 "nbformat": 4,
 "nbformat_minor": 2
}
