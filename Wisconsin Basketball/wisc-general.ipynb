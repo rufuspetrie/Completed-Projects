{
 "cells": [
  {
   "cell_type": "markdown",
   "metadata": {
    "papermill": {
     "duration": 0.018661,
     "end_time": "2021-06-13T21:01:19.403927",
     "exception": false,
     "start_time": "2021-06-13T21:01:19.385266",
     "status": "completed"
    },
    "tags": []
   },
   "source": [
    "# Analysis of NCAA Basketball Data\n",
    "In this notebook, I analyze a variety of information about NCAA basketball. I use a large database hosted on Google Bigquery, which can be found at https://www.kaggle.com/ncaa/ncaa-basketball.\n",
    "\n",
    "\n",
    "The database contains the following tables:\n",
    "- mascots\n",
    "- team_colors\n",
    "- mbb_teams\n",
    "- mbb_historical_teams_seasons - historical season data (1894/1895-present)\n",
    "- mbb_historical_teams_games - final scores, one entry per team per game (1996/1997-present)\n",
    "- mbb_historical_tournament_games - historical data about tournament games (1984/1985-present)\n",
    "- mbb_games_sr - team level box scores (2013/2014-2017/2018)\n",
    "- mbb_pbp_sr - play by play information about games (2013/2014-present)\n",
    "- mbb_players_games_sr - player level box scores (2013/2014-2017/2018)\n",
    "- mbb_teams_games_sr - team level box scores (2013/2014-2017/2018)\n",
    "\n",
    "Because I attended Boston College and Wisconsin, and Wisconsin has the much better basketball team, I will mainly attempt to get a sense of Wisconsin's program and its performance over the years. Based on the database tables, it looks like I may be able to answer the following questions:\n",
    "- What is Wisconin's mascot?\n",
    "- What is Wisconsin's team color?\n",
    "- Where does Wisconsin play home games?\n",
    "- Where has Wisconsin played the most games?\n",
    "- Home vs. away performance\n",
    "- Highest scoring games\n",
    "- Tournament performance\n",
    "- Chokes vs. Upsets"
   ]
  },
  {
   "cell_type": "code",
   "execution_count": 1,
   "metadata": {
    "_cell_guid": "b1076dfc-b9ad-4769-8c92-a6c4dae69d19",
    "_uuid": "8f2839f25d086af736a60e9eeb907d3b93b6e0e5",
    "execution": {
     "iopub.execute_input": "2021-06-13T21:01:19.450763Z",
     "iopub.status.busy": "2021-06-13T21:01:19.450084Z",
     "iopub.status.idle": "2021-06-13T21:01:19.453258Z",
     "shell.execute_reply": "2021-06-13T21:01:19.452602Z",
     "shell.execute_reply.started": "2021-06-13T18:05:05.893592Z"
    },
    "papermill": {
     "duration": 0.032164,
     "end_time": "2021-06-13T21:01:19.453407",
     "exception": false,
     "start_time": "2021-06-13T21:01:19.421243",
     "status": "completed"
    },
    "tags": []
   },
   "outputs": [],
   "source": [
    "# Import packages\n",
    "import numpy as np\n",
    "import pandas as pd\n",
    "import datetime as dt\n",
    "import matplotlib.pyplot as plt\n",
    "from google.cloud import bigquery\n",
    "%matplotlib inline\n",
    "\n",
    "# Accessing Kaggle data files\n",
    "import os\n",
    "for dirname, _, filenames in os.walk('/kaggle/input'):\n",
    "    for filename in filenames:\n",
    "        print(os.path.join(dirname, filename))"
   ]
  },
  {
   "cell_type": "code",
   "execution_count": 2,
   "metadata": {
    "execution": {
     "iopub.execute_input": "2021-06-13T21:01:19.495883Z",
     "iopub.status.busy": "2021-06-13T21:01:19.493471Z",
     "iopub.status.idle": "2021-06-13T21:01:19.737156Z",
     "shell.execute_reply": "2021-06-13T21:01:19.737601Z",
     "shell.execute_reply.started": "2021-06-13T18:05:05.909894Z"
    },
    "papermill": {
     "duration": 0.266381,
     "end_time": "2021-06-13T21:01:19.737775",
     "exception": false,
     "start_time": "2021-06-13T21:01:19.471394",
     "status": "completed"
    },
    "tags": []
   },
   "outputs": [
    {
     "name": "stdout",
     "output_type": "stream",
     "text": [
      "Using Kaggle's public dataset BigQuery integration.\n"
     ]
    }
   ],
   "source": [
    "# Retrieve NCAA data\n",
    "client = bigquery.Client()\n",
    "dataset_ref = client.dataset(\"ncaa_basketball\", project=\"bigquery-public-data\")\n",
    "dataset = client.get_dataset(dataset_ref)"
   ]
  },
  {
   "cell_type": "code",
   "execution_count": 3,
   "metadata": {
    "execution": {
     "iopub.execute_input": "2021-06-13T21:01:19.776767Z",
     "iopub.status.busy": "2021-06-13T21:01:19.776164Z",
     "iopub.status.idle": "2021-06-13T21:01:19.922672Z",
     "shell.execute_reply": "2021-06-13T21:01:19.923332Z",
     "shell.execute_reply.started": "2021-06-13T18:05:06.187507Z"
    },
    "papermill": {
     "duration": 0.16769,
     "end_time": "2021-06-13T21:01:19.923572",
     "exception": false,
     "start_time": "2021-06-13T21:01:19.755882",
     "status": "completed"
    },
    "tags": []
   },
   "outputs": [
    {
     "name": "stdout",
     "output_type": "stream",
     "text": [
      "mascots\n",
      "mbb_games_sr\n",
      "mbb_historical_teams_games\n",
      "mbb_historical_teams_seasons\n",
      "mbb_historical_tournament_games\n",
      "mbb_pbp_sr\n",
      "mbb_players_games_sr\n",
      "mbb_teams\n",
      "mbb_teams_games_sr\n",
      "team_colors\n"
     ]
    }
   ],
   "source": [
    "# Make sure we have the correct database\n",
    "tables = list(client.list_tables(dataset))\n",
    "for table in tables:  \n",
    "    print(table.table_id)"
   ]
  },
  {
   "cell_type": "markdown",
   "metadata": {
    "papermill": {
     "duration": 0.018711,
     "end_time": "2021-06-13T21:01:19.961988",
     "exception": false,
     "start_time": "2021-06-13T21:01:19.943277",
     "status": "completed"
    },
    "tags": []
   },
   "source": [
    "# General Information\n",
    "To start off, we'll take a peek at some of the general information held in the following tables:\n",
    "- mascots\n",
    "- team_colors\n",
    "- mbb_teams"
   ]
  },
  {
   "cell_type": "markdown",
   "metadata": {
    "papermill": {
     "duration": 0.019639,
     "end_time": "2021-06-13T21:01:19.999995",
     "exception": false,
     "start_time": "2021-06-13T21:01:19.980356",
     "status": "completed"
    },
    "tags": []
   },
   "source": [
    "# Exploring Mascots"
   ]
  },
  {
   "cell_type": "code",
   "execution_count": 4,
   "metadata": {
    "execution": {
     "iopub.execute_input": "2021-06-13T21:01:20.046910Z",
     "iopub.status.busy": "2021-06-13T21:01:20.046288Z",
     "iopub.status.idle": "2021-06-13T21:01:20.213429Z",
     "shell.execute_reply": "2021-06-13T21:01:20.212889Z",
     "shell.execute_reply.started": "2021-06-13T18:05:06.424954Z"
    },
    "papermill": {
     "duration": 0.193671,
     "end_time": "2021-06-13T21:01:20.213592",
     "exception": false,
     "start_time": "2021-06-13T21:01:20.019921",
     "status": "completed"
    },
    "tags": []
   },
   "outputs": [],
   "source": [
    "# Select the mascot table\n",
    "table_ref = dataset_ref.table(\"mascots\")\n",
    "table = client.get_table(table_ref)"
   ]
  },
  {
   "cell_type": "code",
   "execution_count": 5,
   "metadata": {
    "execution": {
     "iopub.execute_input": "2021-06-13T21:01:20.252426Z",
     "iopub.status.busy": "2021-06-13T21:01:20.251828Z",
     "iopub.status.idle": "2021-06-13T21:01:20.259297Z",
     "shell.execute_reply": "2021-06-13T21:01:20.259703Z",
     "shell.execute_reply.started": "2021-06-13T18:05:06.660112Z"
    },
    "papermill": {
     "duration": 0.028176,
     "end_time": "2021-06-13T21:01:20.259868",
     "exception": false,
     "start_time": "2021-06-13T21:01:20.231692",
     "status": "completed"
    },
    "tags": []
   },
   "outputs": [
    {
     "data": {
      "text/plain": [
       "[SchemaField('id', 'STRING', 'NULLABLE', 'University unique ID from Sportradar', (), None),\n",
       " SchemaField('market', 'STRING', 'NULLABLE', 'The university to which the mascot belongs', (), None),\n",
       " SchemaField('name', 'STRING', 'NULLABLE', 'The name of the university’s team', (), None),\n",
       " SchemaField('mascot', 'STRING', 'NULLABLE', \"The name of the university's mascot\", (), None),\n",
       " SchemaField('mascot_name', 'STRING', 'NULLABLE', \"The proper name of the university's mascot, if available (e.g. a character)\", (), None),\n",
       " SchemaField('mascot_common_name', 'STRING', 'NULLABLE', 'The type of being or creature that the mascot embodies', (), None),\n",
       " SchemaField('tax_subspecies', 'STRING', 'NULLABLE', 'The subspecies to which the mascot belongs', (), None),\n",
       " SchemaField('tax_species', 'STRING', 'NULLABLE', 'The species to which the mascot belongs', (), None),\n",
       " SchemaField('tax_genus', 'STRING', 'NULLABLE', 'The genus to which the mascot belongs', (), None),\n",
       " SchemaField('tax_family', 'STRING', 'NULLABLE', 'The family to which the mascot belongs', (), None),\n",
       " SchemaField('tax_order', 'STRING', 'NULLABLE', 'The order to which the mascot belongs', (), None),\n",
       " SchemaField('tax_class', 'STRING', 'NULLABLE', 'The class to which the mascot belongs', (), None),\n",
       " SchemaField('tax_phylum', 'STRING', 'NULLABLE', 'The phylum to which the mascot belongs', (), None),\n",
       " SchemaField('tax_kingdom', 'STRING', 'NULLABLE', 'The kingdom to which the mascot belongs', (), None),\n",
       " SchemaField('tax_domain', 'STRING', 'NULLABLE', 'The domain to which the mascot belongs', (), None),\n",
       " SchemaField('non_tax_type', 'STRING', 'NULLABLE', 'The non-Linnean type of being or creature to which the mascot belongs, if applicable', (), None)]"
      ]
     },
     "execution_count": 5,
     "metadata": {},
     "output_type": "execute_result"
    }
   ],
   "source": [
    "# Check layout of mascots table\n",
    "table.schema"
   ]
  },
  {
   "cell_type": "code",
   "execution_count": 6,
   "metadata": {
    "execution": {
     "iopub.execute_input": "2021-06-13T21:01:20.299528Z",
     "iopub.status.busy": "2021-06-13T21:01:20.298885Z",
     "iopub.status.idle": "2021-06-13T21:01:20.582199Z",
     "shell.execute_reply": "2021-06-13T21:01:20.582627Z",
     "shell.execute_reply.started": "2021-06-13T18:05:06.670094Z"
    },
    "papermill": {
     "duration": 0.304363,
     "end_time": "2021-06-13T21:01:20.582826",
     "exception": false,
     "start_time": "2021-06-13T21:01:20.278463",
     "status": "completed"
    },
    "tags": []
   },
   "outputs": [
    {
     "name": "stderr",
     "output_type": "stream",
     "text": [
      "/opt/conda/lib/python3.7/site-packages/ipykernel_launcher.py:2: UserWarning: Cannot use bqstorage_client if max_results is set, reverting to fetching data with the tabledata.list endpoint.\n",
      "  \n"
     ]
    },
    {
     "data": {
      "text/html": [
       "<div>\n",
       "<style scoped>\n",
       "    .dataframe tbody tr th:only-of-type {\n",
       "        vertical-align: middle;\n",
       "    }\n",
       "\n",
       "    .dataframe tbody tr th {\n",
       "        vertical-align: top;\n",
       "    }\n",
       "\n",
       "    .dataframe thead th {\n",
       "        text-align: right;\n",
       "    }\n",
       "</style>\n",
       "<table border=\"1\" class=\"dataframe\">\n",
       "  <thead>\n",
       "    <tr style=\"text-align: right;\">\n",
       "      <th></th>\n",
       "      <th>id</th>\n",
       "      <th>market</th>\n",
       "      <th>name</th>\n",
       "      <th>mascot</th>\n",
       "      <th>mascot_name</th>\n",
       "      <th>mascot_common_name</th>\n",
       "      <th>tax_subspecies</th>\n",
       "      <th>tax_species</th>\n",
       "      <th>tax_genus</th>\n",
       "      <th>tax_family</th>\n",
       "      <th>tax_order</th>\n",
       "      <th>tax_class</th>\n",
       "      <th>tax_phylum</th>\n",
       "      <th>tax_kingdom</th>\n",
       "      <th>tax_domain</th>\n",
       "      <th>non_tax_type</th>\n",
       "    </tr>\n",
       "  </thead>\n",
       "  <tbody>\n",
       "    <tr>\n",
       "      <th>0</th>\n",
       "      <td>2959bd24-7007-41ae-a3a3-abdf26888cfc</td>\n",
       "      <td>Tulsa</td>\n",
       "      <td>Golden Hurricane</td>\n",
       "      <td>Hurricane</td>\n",
       "      <td>Captain Cane</td>\n",
       "      <td>None</td>\n",
       "      <td>None</td>\n",
       "      <td>None</td>\n",
       "      <td>None</td>\n",
       "      <td>None</td>\n",
       "      <td>None</td>\n",
       "      <td>None</td>\n",
       "      <td>None</td>\n",
       "      <td>None</td>\n",
       "      <td>None</td>\n",
       "      <td>Weather</td>\n",
       "    </tr>\n",
       "    <tr>\n",
       "      <th>1</th>\n",
       "      <td>ad4bc983-8d2e-4e6f-a8f9-80840a786c64</td>\n",
       "      <td>Arizona State</td>\n",
       "      <td>Sun Devils</td>\n",
       "      <td>Devil</td>\n",
       "      <td>Sparky</td>\n",
       "      <td>None</td>\n",
       "      <td>None</td>\n",
       "      <td>None</td>\n",
       "      <td>None</td>\n",
       "      <td>None</td>\n",
       "      <td>None</td>\n",
       "      <td>None</td>\n",
       "      <td>None</td>\n",
       "      <td>None</td>\n",
       "      <td>None</td>\n",
       "      <td>Devils</td>\n",
       "    </tr>\n",
       "    <tr>\n",
       "      <th>2</th>\n",
       "      <td>f2d01b77-0f5d-4574-9e49-2a3eaf822e44</td>\n",
       "      <td>Drexel</td>\n",
       "      <td>Dragons</td>\n",
       "      <td>Dragon</td>\n",
       "      <td>Mario the Magnificent</td>\n",
       "      <td>None</td>\n",
       "      <td>None</td>\n",
       "      <td>None</td>\n",
       "      <td>None</td>\n",
       "      <td>None</td>\n",
       "      <td>None</td>\n",
       "      <td>None</td>\n",
       "      <td>None</td>\n",
       "      <td>None</td>\n",
       "      <td>None</td>\n",
       "      <td>Dragons</td>\n",
       "    </tr>\n",
       "    <tr>\n",
       "      <th>3</th>\n",
       "      <td>b47d10b8-a2a5-47df-a2f9-7bd0b9d51beb</td>\n",
       "      <td>Bradley</td>\n",
       "      <td>Braves</td>\n",
       "      <td>Gargoyle</td>\n",
       "      <td>Kaboom!</td>\n",
       "      <td>None</td>\n",
       "      <td>None</td>\n",
       "      <td>None</td>\n",
       "      <td>None</td>\n",
       "      <td>None</td>\n",
       "      <td>None</td>\n",
       "      <td>None</td>\n",
       "      <td>None</td>\n",
       "      <td>None</td>\n",
       "      <td>None</td>\n",
       "      <td>None</td>\n",
       "    </tr>\n",
       "    <tr>\n",
       "      <th>4</th>\n",
       "      <td>0113eea0-c943-4fff-9780-ae0fb099e7ef</td>\n",
       "      <td>Canisius</td>\n",
       "      <td>Golden Griffins</td>\n",
       "      <td>Griffin</td>\n",
       "      <td>Petey</td>\n",
       "      <td>None</td>\n",
       "      <td>None</td>\n",
       "      <td>None</td>\n",
       "      <td>None</td>\n",
       "      <td>None</td>\n",
       "      <td>None</td>\n",
       "      <td>None</td>\n",
       "      <td>None</td>\n",
       "      <td>None</td>\n",
       "      <td>None</td>\n",
       "      <td>Griffins</td>\n",
       "    </tr>\n",
       "  </tbody>\n",
       "</table>\n",
       "</div>"
      ],
      "text/plain": [
       "                                     id         market              name  \\\n",
       "0  2959bd24-7007-41ae-a3a3-abdf26888cfc          Tulsa  Golden Hurricane   \n",
       "1  ad4bc983-8d2e-4e6f-a8f9-80840a786c64  Arizona State        Sun Devils   \n",
       "2  f2d01b77-0f5d-4574-9e49-2a3eaf822e44         Drexel           Dragons   \n",
       "3  b47d10b8-a2a5-47df-a2f9-7bd0b9d51beb        Bradley            Braves   \n",
       "4  0113eea0-c943-4fff-9780-ae0fb099e7ef       Canisius   Golden Griffins   \n",
       "\n",
       "      mascot            mascot_name mascot_common_name tax_subspecies  \\\n",
       "0  Hurricane           Captain Cane               None           None   \n",
       "1      Devil                 Sparky               None           None   \n",
       "2     Dragon  Mario the Magnificent               None           None   \n",
       "3   Gargoyle                Kaboom!               None           None   \n",
       "4    Griffin                  Petey               None           None   \n",
       "\n",
       "  tax_species tax_genus tax_family tax_order tax_class tax_phylum tax_kingdom  \\\n",
       "0        None      None       None      None      None       None        None   \n",
       "1        None      None       None      None      None       None        None   \n",
       "2        None      None       None      None      None       None        None   \n",
       "3        None      None       None      None      None       None        None   \n",
       "4        None      None       None      None      None       None        None   \n",
       "\n",
       "  tax_domain non_tax_type  \n",
       "0       None      Weather  \n",
       "1       None       Devils  \n",
       "2       None      Dragons  \n",
       "3       None         None  \n",
       "4       None     Griffins  "
      ]
     },
     "execution_count": 6,
     "metadata": {},
     "output_type": "execute_result"
    }
   ],
   "source": [
    "# Some example records\n",
    "client.list_rows(table, max_results=5).to_dataframe()"
   ]
  },
  {
   "cell_type": "code",
   "execution_count": 7,
   "metadata": {
    "execution": {
     "iopub.execute_input": "2021-06-13T21:01:20.629059Z",
     "iopub.status.busy": "2021-06-13T21:01:20.628116Z",
     "iopub.status.idle": "2021-06-13T21:01:21.897415Z",
     "shell.execute_reply": "2021-06-13T21:01:21.897831Z",
     "shell.execute_reply.started": "2021-06-13T18:05:06.993098Z"
    },
    "papermill": {
     "duration": 1.296225,
     "end_time": "2021-06-13T21:01:21.897993",
     "exception": false,
     "start_time": "2021-06-13T21:01:20.601768",
     "status": "completed"
    },
    "tags": []
   },
   "outputs": [
    {
     "name": "stdout",
     "output_type": "stream",
     "text": [
      "Using Kaggle's public dataset BigQuery integration.\n"
     ]
    },
    {
     "name": "stderr",
     "output_type": "stream",
     "text": [
      "/opt/conda/lib/python3.7/site-packages/google/cloud/bigquery/client.py:440: UserWarning: Cannot create BigQuery Storage client, the dependency google-cloud-bigquery-storage is not installed.\n",
      "  \"Cannot create BigQuery Storage client, the dependency \"\n"
     ]
    },
    {
     "data": {
      "text/html": [
       "<div>\n",
       "<style scoped>\n",
       "    .dataframe tbody tr th:only-of-type {\n",
       "        vertical-align: middle;\n",
       "    }\n",
       "\n",
       "    .dataframe tbody tr th {\n",
       "        vertical-align: top;\n",
       "    }\n",
       "\n",
       "    .dataframe thead th {\n",
       "        text-align: right;\n",
       "    }\n",
       "</style>\n",
       "<table border=\"1\" class=\"dataframe\">\n",
       "  <thead>\n",
       "    <tr style=\"text-align: right;\">\n",
       "      <th></th>\n",
       "      <th>id</th>\n",
       "      <th>market</th>\n",
       "      <th>name</th>\n",
       "      <th>mascot</th>\n",
       "      <th>mascot_name</th>\n",
       "      <th>mascot_common_name</th>\n",
       "      <th>tax_subspecies</th>\n",
       "      <th>tax_species</th>\n",
       "      <th>tax_genus</th>\n",
       "      <th>tax_family</th>\n",
       "      <th>tax_order</th>\n",
       "      <th>tax_class</th>\n",
       "      <th>tax_phylum</th>\n",
       "      <th>tax_kingdom</th>\n",
       "      <th>tax_domain</th>\n",
       "      <th>non_tax_type</th>\n",
       "    </tr>\n",
       "  </thead>\n",
       "  <tbody>\n",
       "    <tr>\n",
       "      <th>0</th>\n",
       "      <td>c7569eae-5b93-4197-b204-6f3a62146b25</td>\n",
       "      <td>Wisconsin</td>\n",
       "      <td>Badgers</td>\n",
       "      <td>Badger</td>\n",
       "      <td>Bucky</td>\n",
       "      <td>Badger</td>\n",
       "      <td>None</td>\n",
       "      <td>None</td>\n",
       "      <td>None</td>\n",
       "      <td>Mustelidae</td>\n",
       "      <td>Carnivora</td>\n",
       "      <td>Mammalia</td>\n",
       "      <td>Chordata</td>\n",
       "      <td>Animalia</td>\n",
       "      <td>Eukaryota</td>\n",
       "      <td>None</td>\n",
       "    </tr>\n",
       "  </tbody>\n",
       "</table>\n",
       "</div>"
      ],
      "text/plain": [
       "                                     id     market     name  mascot  \\\n",
       "0  c7569eae-5b93-4197-b204-6f3a62146b25  Wisconsin  Badgers  Badger   \n",
       "\n",
       "  mascot_name mascot_common_name tax_subspecies tax_species tax_genus  \\\n",
       "0       Bucky             Badger           None        None      None   \n",
       "\n",
       "   tax_family  tax_order tax_class tax_phylum tax_kingdom tax_domain  \\\n",
       "0  Mustelidae  Carnivora  Mammalia   Chordata    Animalia  Eukaryota   \n",
       "\n",
       "  non_tax_type  \n",
       "0         None  "
      ]
     },
     "execution_count": 7,
     "metadata": {},
     "output_type": "execute_result"
    }
   ],
   "source": [
    "# As a sanity check, let's see Wisconsin's mascot\n",
    "query = \"\"\"\n",
    "        SELECT *\n",
    "        FROM `bigquery-public-data.ncaa_basketball.mascots`\n",
    "        WHERE market = 'Wisconsin'\n",
    "        \"\"\"\n",
    "\n",
    "client = bigquery.Client()\n",
    "query_job = client.query(query)\n",
    "wisc = query_job.to_dataframe()\n",
    "wisc"
   ]
  },
  {
   "cell_type": "markdown",
   "metadata": {
    "execution": {
     "iopub.execute_input": "2021-06-12T16:46:14.98686Z",
     "iopub.status.busy": "2021-06-12T16:46:14.986497Z",
     "iopub.status.idle": "2021-06-12T16:46:14.992802Z",
     "shell.execute_reply": "2021-06-12T16:46:14.991562Z",
     "shell.execute_reply.started": "2021-06-12T16:46:14.98683Z"
    },
    "papermill": {
     "duration": 0.019533,
     "end_time": "2021-06-13T21:01:21.937304",
     "exception": false,
     "start_time": "2021-06-13T21:01:21.917771",
     "status": "completed"
    },
    "tags": []
   },
   "source": [
    "![](https://cdn.wrn.com/wp-content/uploads/2012/09/BuckyBadger.jpg)"
   ]
  },
  {
   "cell_type": "code",
   "execution_count": 8,
   "metadata": {
    "execution": {
     "iopub.execute_input": "2021-06-13T21:01:21.979755Z",
     "iopub.status.busy": "2021-06-13T21:01:21.979142Z",
     "iopub.status.idle": "2021-06-13T21:01:22.827566Z",
     "shell.execute_reply": "2021-06-13T21:01:22.827063Z",
     "shell.execute_reply.started": "2021-06-13T18:05:08.930039Z"
    },
    "papermill": {
     "duration": 0.870624,
     "end_time": "2021-06-13T21:01:22.827691",
     "exception": false,
     "start_time": "2021-06-13T21:01:21.957067",
     "status": "completed"
    },
    "tags": []
   },
   "outputs": [
    {
     "name": "stdout",
     "output_type": "stream",
     "text": [
      "Using Kaggle's public dataset BigQuery integration.\n"
     ]
    },
    {
     "name": "stderr",
     "output_type": "stream",
     "text": [
      "/opt/conda/lib/python3.7/site-packages/google/cloud/bigquery/client.py:440: UserWarning: Cannot create BigQuery Storage client, the dependency google-cloud-bigquery-storage is not installed.\n",
      "  \"Cannot create BigQuery Storage client, the dependency \"\n"
     ]
    },
    {
     "data": {
      "text/html": [
       "<div>\n",
       "<style scoped>\n",
       "    .dataframe tbody tr th:only-of-type {\n",
       "        vertical-align: middle;\n",
       "    }\n",
       "\n",
       "    .dataframe tbody tr th {\n",
       "        vertical-align: top;\n",
       "    }\n",
       "\n",
       "    .dataframe thead th {\n",
       "        text-align: right;\n",
       "    }\n",
       "</style>\n",
       "<table border=\"1\" class=\"dataframe\">\n",
       "  <thead>\n",
       "    <tr style=\"text-align: right;\">\n",
       "      <th></th>\n",
       "      <th>market</th>\n",
       "      <th>name</th>\n",
       "      <th>mascot</th>\n",
       "      <th>mascot_name</th>\n",
       "    </tr>\n",
       "  </thead>\n",
       "  <tbody>\n",
       "    <tr>\n",
       "      <th>0</th>\n",
       "      <td>Wisconsin</td>\n",
       "      <td>Badgers</td>\n",
       "      <td>Badger</td>\n",
       "      <td>Bucky</td>\n",
       "    </tr>\n",
       "  </tbody>\n",
       "</table>\n",
       "</div>"
      ],
      "text/plain": [
       "      market     name  mascot mascot_name\n",
       "0  Wisconsin  Badgers  Badger       Bucky"
      ]
     },
     "execution_count": 8,
     "metadata": {},
     "output_type": "execute_result"
    }
   ],
   "source": [
    "# Are there any other badger mascots?\n",
    "query = \"\"\"\n",
    "        SELECT market, name, mascot, mascot_name\n",
    "        FROM `bigquery-public-data.ncaa_basketball.mascots`\n",
    "        WHERE mascot = 'Badger'\n",
    "        \"\"\"\n",
    "\n",
    "client = bigquery.Client()\n",
    "query_job = client.query(query)\n",
    "badgers = query_job.to_dataframe()\n",
    "badgers"
   ]
  },
  {
   "cell_type": "code",
   "execution_count": 9,
   "metadata": {
    "execution": {
     "iopub.execute_input": "2021-06-13T21:01:22.877457Z",
     "iopub.status.busy": "2021-06-13T21:01:22.876854Z",
     "iopub.status.idle": "2021-06-13T21:01:24.054181Z",
     "shell.execute_reply": "2021-06-13T21:01:24.054618Z",
     "shell.execute_reply.started": "2021-06-13T18:05:10.337656Z"
    },
    "papermill": {
     "duration": 1.20562,
     "end_time": "2021-06-13T21:01:24.054777",
     "exception": false,
     "start_time": "2021-06-13T21:01:22.849157",
     "status": "completed"
    },
    "tags": []
   },
   "outputs": [
    {
     "name": "stdout",
     "output_type": "stream",
     "text": [
      "Using Kaggle's public dataset BigQuery integration.\n"
     ]
    },
    {
     "name": "stderr",
     "output_type": "stream",
     "text": [
      "/opt/conda/lib/python3.7/site-packages/google/cloud/bigquery/client.py:440: UserWarning: Cannot create BigQuery Storage client, the dependency google-cloud-bigquery-storage is not installed.\n",
      "  \"Cannot create BigQuery Storage client, the dependency \"\n"
     ]
    },
    {
     "data": {
      "text/html": [
       "<div>\n",
       "<style scoped>\n",
       "    .dataframe tbody tr th:only-of-type {\n",
       "        vertical-align: middle;\n",
       "    }\n",
       "\n",
       "    .dataframe tbody tr th {\n",
       "        vertical-align: top;\n",
       "    }\n",
       "\n",
       "    .dataframe thead th {\n",
       "        text-align: right;\n",
       "    }\n",
       "</style>\n",
       "<table border=\"1\" class=\"dataframe\">\n",
       "  <thead>\n",
       "    <tr style=\"text-align: right;\">\n",
       "      <th></th>\n",
       "      <th>market</th>\n",
       "      <th>name</th>\n",
       "      <th>mascot</th>\n",
       "      <th>mascot_name</th>\n",
       "    </tr>\n",
       "  </thead>\n",
       "  <tbody>\n",
       "    <tr>\n",
       "      <th>0</th>\n",
       "      <td>East Tennessee State</td>\n",
       "      <td>Buccaneers</td>\n",
       "      <td>Pirate</td>\n",
       "      <td>Bucky</td>\n",
       "    </tr>\n",
       "    <tr>\n",
       "      <th>1</th>\n",
       "      <td>Charleston Southern</td>\n",
       "      <td>Buccaneers</td>\n",
       "      <td>Pirate</td>\n",
       "      <td>Bucky</td>\n",
       "    </tr>\n",
       "    <tr>\n",
       "      <th>2</th>\n",
       "      <td>Wisconsin</td>\n",
       "      <td>Badgers</td>\n",
       "      <td>Badger</td>\n",
       "      <td>Bucky</td>\n",
       "    </tr>\n",
       "    <tr>\n",
       "      <th>3</th>\n",
       "      <td>Bucknell</td>\n",
       "      <td>Bison</td>\n",
       "      <td>Bison</td>\n",
       "      <td>Bucky</td>\n",
       "    </tr>\n",
       "    <tr>\n",
       "      <th>4</th>\n",
       "      <td>Texas Rio Grande Valley</td>\n",
       "      <td>Vaqueros</td>\n",
       "      <td>Horse</td>\n",
       "      <td>Bucky</td>\n",
       "    </tr>\n",
       "    <tr>\n",
       "      <th>5</th>\n",
       "      <td>Santa Clara</td>\n",
       "      <td>Broncos</td>\n",
       "      <td>Bronco</td>\n",
       "      <td>Bucky</td>\n",
       "    </tr>\n",
       "  </tbody>\n",
       "</table>\n",
       "</div>"
      ],
      "text/plain": [
       "                    market        name  mascot mascot_name\n",
       "0     East Tennessee State  Buccaneers  Pirate       Bucky\n",
       "1      Charleston Southern  Buccaneers  Pirate       Bucky\n",
       "2                Wisconsin     Badgers  Badger       Bucky\n",
       "3                 Bucknell       Bison   Bison       Bucky\n",
       "4  Texas Rio Grande Valley    Vaqueros   Horse       Bucky\n",
       "5              Santa Clara     Broncos  Bronco       Bucky"
      ]
     },
     "execution_count": 9,
     "metadata": {},
     "output_type": "execute_result"
    }
   ],
   "source": [
    "# Are there any other mascots named Bucky?\n",
    "query = \"\"\"\n",
    "        SELECT market, name, mascot, mascot_name\n",
    "        FROM `bigquery-public-data.ncaa_basketball.mascots`\n",
    "        WHERE mascot_name = 'Bucky'\n",
    "        \"\"\"\n",
    "\n",
    "client = bigquery.Client()\n",
    "query_job = client.query(query)\n",
    "buckys = query_job.to_dataframe()\n",
    "buckys"
   ]
  },
  {
   "cell_type": "code",
   "execution_count": 10,
   "metadata": {
    "execution": {
     "iopub.execute_input": "2021-06-13T21:01:24.105970Z",
     "iopub.status.busy": "2021-06-13T21:01:24.102975Z",
     "iopub.status.idle": "2021-06-13T21:01:24.914648Z",
     "shell.execute_reply": "2021-06-13T21:01:24.914014Z",
     "shell.execute_reply.started": "2021-06-13T18:05:11.630828Z"
    },
    "papermill": {
     "duration": 0.838846,
     "end_time": "2021-06-13T21:01:24.914808",
     "exception": false,
     "start_time": "2021-06-13T21:01:24.075962",
     "status": "completed"
    },
    "tags": []
   },
   "outputs": [
    {
     "name": "stdout",
     "output_type": "stream",
     "text": [
      "Using Kaggle's public dataset BigQuery integration.\n"
     ]
    },
    {
     "name": "stderr",
     "output_type": "stream",
     "text": [
      "/opt/conda/lib/python3.7/site-packages/google/cloud/bigquery/client.py:440: UserWarning: Cannot create BigQuery Storage client, the dependency google-cloud-bigquery-storage is not installed.\n",
      "  \"Cannot create BigQuery Storage client, the dependency \"\n"
     ]
    },
    {
     "data": {
      "text/html": [
       "<div>\n",
       "<style scoped>\n",
       "    .dataframe tbody tr th:only-of-type {\n",
       "        vertical-align: middle;\n",
       "    }\n",
       "\n",
       "    .dataframe tbody tr th {\n",
       "        vertical-align: top;\n",
       "    }\n",
       "\n",
       "    .dataframe thead th {\n",
       "        text-align: right;\n",
       "    }\n",
       "</style>\n",
       "<table border=\"1\" class=\"dataframe\">\n",
       "  <thead>\n",
       "    <tr style=\"text-align: right;\">\n",
       "      <th></th>\n",
       "      <th>mascot_name</th>\n",
       "      <th>total</th>\n",
       "    </tr>\n",
       "  </thead>\n",
       "  <tbody>\n",
       "    <tr>\n",
       "      <th>0</th>\n",
       "      <td>Bucky</td>\n",
       "      <td>6</td>\n",
       "    </tr>\n",
       "    <tr>\n",
       "      <th>1</th>\n",
       "      <td>Rowdy</td>\n",
       "      <td>5</td>\n",
       "    </tr>\n",
       "    <tr>\n",
       "      <th>2</th>\n",
       "      <td>Willie</td>\n",
       "      <td>4</td>\n",
       "    </tr>\n",
       "    <tr>\n",
       "      <th>3</th>\n",
       "      <td>Big Red</td>\n",
       "      <td>3</td>\n",
       "    </tr>\n",
       "    <tr>\n",
       "      <th>4</th>\n",
       "      <td>Sparky</td>\n",
       "      <td>3</td>\n",
       "    </tr>\n",
       "    <tr>\n",
       "      <th>5</th>\n",
       "      <td>Benny</td>\n",
       "      <td>3</td>\n",
       "    </tr>\n",
       "    <tr>\n",
       "      <th>6</th>\n",
       "      <td>Swoop</td>\n",
       "      <td>3</td>\n",
       "    </tr>\n",
       "    <tr>\n",
       "      <th>7</th>\n",
       "      <td>Sparty</td>\n",
       "      <td>2</td>\n",
       "    </tr>\n",
       "    <tr>\n",
       "      <th>8</th>\n",
       "      <td>Sammy</td>\n",
       "      <td>2</td>\n",
       "    </tr>\n",
       "    <tr>\n",
       "      <th>9</th>\n",
       "      <td>Pistol Pete</td>\n",
       "      <td>2</td>\n",
       "    </tr>\n",
       "  </tbody>\n",
       "</table>\n",
       "</div>"
      ],
      "text/plain": [
       "   mascot_name  total\n",
       "0        Bucky      6\n",
       "1        Rowdy      5\n",
       "2       Willie      4\n",
       "3      Big Red      3\n",
       "4       Sparky      3\n",
       "5        Benny      3\n",
       "6        Swoop      3\n",
       "7       Sparty      2\n",
       "8        Sammy      2\n",
       "9  Pistol Pete      2"
      ]
     },
     "execution_count": 10,
     "metadata": {},
     "output_type": "execute_result"
    }
   ],
   "source": [
    "# What is the most common mascot name?\n",
    "query = \"\"\"\n",
    "        SELECT mascot_name, count(mascot_name) as total\n",
    "        FROM `bigquery-public-data.ncaa_basketball.mascots`\n",
    "        GROUP BY mascot_name\n",
    "        ORDER BY total DESC\n",
    "        LIMIT 10\n",
    "        \"\"\"\n",
    "\n",
    "client = bigquery.Client()\n",
    "query_job = client.query(query)\n",
    "name_count = query_job.to_dataframe()\n",
    "name_count"
   ]
  },
  {
   "cell_type": "code",
   "execution_count": 11,
   "metadata": {
    "execution": {
     "iopub.execute_input": "2021-06-13T21:01:24.966729Z",
     "iopub.status.busy": "2021-06-13T21:01:24.965794Z",
     "iopub.status.idle": "2021-06-13T21:01:25.726773Z",
     "shell.execute_reply": "2021-06-13T21:01:25.726292Z",
     "shell.execute_reply.started": "2021-06-13T18:05:13.142231Z"
    },
    "papermill": {
     "duration": 0.789923,
     "end_time": "2021-06-13T21:01:25.726909",
     "exception": false,
     "start_time": "2021-06-13T21:01:24.936986",
     "status": "completed"
    },
    "tags": []
   },
   "outputs": [
    {
     "name": "stdout",
     "output_type": "stream",
     "text": [
      "Using Kaggle's public dataset BigQuery integration.\n"
     ]
    },
    {
     "name": "stderr",
     "output_type": "stream",
     "text": [
      "/opt/conda/lib/python3.7/site-packages/google/cloud/bigquery/client.py:440: UserWarning: Cannot create BigQuery Storage client, the dependency google-cloud-bigquery-storage is not installed.\n",
      "  \"Cannot create BigQuery Storage client, the dependency \"\n"
     ]
    },
    {
     "data": {
      "text/html": [
       "<div>\n",
       "<style scoped>\n",
       "    .dataframe tbody tr th:only-of-type {\n",
       "        vertical-align: middle;\n",
       "    }\n",
       "\n",
       "    .dataframe tbody tr th {\n",
       "        vertical-align: top;\n",
       "    }\n",
       "\n",
       "    .dataframe thead th {\n",
       "        text-align: right;\n",
       "    }\n",
       "</style>\n",
       "<table border=\"1\" class=\"dataframe\">\n",
       "  <thead>\n",
       "    <tr style=\"text-align: right;\">\n",
       "      <th></th>\n",
       "      <th>mascot</th>\n",
       "      <th>total</th>\n",
       "    </tr>\n",
       "  </thead>\n",
       "  <tbody>\n",
       "    <tr>\n",
       "      <th>0</th>\n",
       "      <td>Bulldog</td>\n",
       "      <td>19</td>\n",
       "    </tr>\n",
       "    <tr>\n",
       "      <th>1</th>\n",
       "      <td>Tigers</td>\n",
       "      <td>13</td>\n",
       "    </tr>\n",
       "    <tr>\n",
       "      <th>2</th>\n",
       "      <td>Eagle</td>\n",
       "      <td>12</td>\n",
       "    </tr>\n",
       "    <tr>\n",
       "      <th>3</th>\n",
       "      <td>Wildcat</td>\n",
       "      <td>10</td>\n",
       "    </tr>\n",
       "    <tr>\n",
       "      <th>4</th>\n",
       "      <td>Brown Bear</td>\n",
       "      <td>9</td>\n",
       "    </tr>\n",
       "    <tr>\n",
       "      <th>5</th>\n",
       "      <td>Hawk</td>\n",
       "      <td>9</td>\n",
       "    </tr>\n",
       "    <tr>\n",
       "      <th>6</th>\n",
       "      <td>Panther</td>\n",
       "      <td>8</td>\n",
       "    </tr>\n",
       "    <tr>\n",
       "      <th>7</th>\n",
       "      <td>Wolf</td>\n",
       "      <td>8</td>\n",
       "    </tr>\n",
       "    <tr>\n",
       "      <th>8</th>\n",
       "      <td>Cougar</td>\n",
       "      <td>7</td>\n",
       "    </tr>\n",
       "    <tr>\n",
       "      <th>9</th>\n",
       "      <td>Lion</td>\n",
       "      <td>7</td>\n",
       "    </tr>\n",
       "  </tbody>\n",
       "</table>\n",
       "</div>"
      ],
      "text/plain": [
       "       mascot  total\n",
       "0     Bulldog     19\n",
       "1      Tigers     13\n",
       "2       Eagle     12\n",
       "3     Wildcat     10\n",
       "4  Brown Bear      9\n",
       "5        Hawk      9\n",
       "6     Panther      8\n",
       "7        Wolf      8\n",
       "8      Cougar      7\n",
       "9        Lion      7"
      ]
     },
     "execution_count": 11,
     "metadata": {},
     "output_type": "execute_result"
    }
   ],
   "source": [
    "# What is the most common mascot\n",
    "query = \"\"\"\n",
    "        SELECT mascot, count(mascot) as total\n",
    "        FROM `bigquery-public-data.ncaa_basketball.mascots`\n",
    "        GROUP BY mascot\n",
    "        ORDER BY total DESC\n",
    "        LIMIT 10\n",
    "        \"\"\"\n",
    "\n",
    "client = bigquery.Client()\n",
    "query_job = client.query(query)\n",
    "masc_count = query_job.to_dataframe()\n",
    "masc_count"
   ]
  },
  {
   "cell_type": "code",
   "execution_count": 12,
   "metadata": {
    "execution": {
     "iopub.execute_input": "2021-06-13T21:01:25.778149Z",
     "iopub.status.busy": "2021-06-13T21:01:25.777270Z",
     "iopub.status.idle": "2021-06-13T21:01:26.540743Z",
     "shell.execute_reply": "2021-06-13T21:01:26.540228Z",
     "shell.execute_reply.started": "2021-06-13T18:05:14.606392Z"
    },
    "papermill": {
     "duration": 0.790755,
     "end_time": "2021-06-13T21:01:26.540901",
     "exception": false,
     "start_time": "2021-06-13T21:01:25.750146",
     "status": "completed"
    },
    "tags": []
   },
   "outputs": [
    {
     "name": "stdout",
     "output_type": "stream",
     "text": [
      "Using Kaggle's public dataset BigQuery integration.\n"
     ]
    },
    {
     "name": "stderr",
     "output_type": "stream",
     "text": [
      "/opt/conda/lib/python3.7/site-packages/google/cloud/bigquery/client.py:440: UserWarning: Cannot create BigQuery Storage client, the dependency google-cloud-bigquery-storage is not installed.\n",
      "  \"Cannot create BigQuery Storage client, the dependency \"\n"
     ]
    },
    {
     "data": {
      "text/html": [
       "<div>\n",
       "<style scoped>\n",
       "    .dataframe tbody tr th:only-of-type {\n",
       "        vertical-align: middle;\n",
       "    }\n",
       "\n",
       "    .dataframe tbody tr th {\n",
       "        vertical-align: top;\n",
       "    }\n",
       "\n",
       "    .dataframe thead th {\n",
       "        text-align: right;\n",
       "    }\n",
       "</style>\n",
       "<table border=\"1\" class=\"dataframe\">\n",
       "  <thead>\n",
       "    <tr style=\"text-align: right;\">\n",
       "      <th></th>\n",
       "      <th>non_tax_type</th>\n",
       "      <th>total</th>\n",
       "    </tr>\n",
       "  </thead>\n",
       "  <tbody>\n",
       "    <tr>\n",
       "      <th>0</th>\n",
       "      <td>Warriors</td>\n",
       "      <td>10</td>\n",
       "    </tr>\n",
       "    <tr>\n",
       "      <th>1</th>\n",
       "      <td>Devils</td>\n",
       "      <td>7</td>\n",
       "    </tr>\n",
       "    <tr>\n",
       "      <th>2</th>\n",
       "      <td>Seafarers</td>\n",
       "      <td>7</td>\n",
       "    </tr>\n",
       "    <tr>\n",
       "      <th>3</th>\n",
       "      <td>Aristocrats</td>\n",
       "      <td>6</td>\n",
       "    </tr>\n",
       "    <tr>\n",
       "      <th>4</th>\n",
       "      <td>Explorers</td>\n",
       "      <td>6</td>\n",
       "    </tr>\n",
       "    <tr>\n",
       "      <th>5</th>\n",
       "      <td>Cowboys</td>\n",
       "      <td>4</td>\n",
       "    </tr>\n",
       "    <tr>\n",
       "      <th>6</th>\n",
       "      <td>Mythical Creatures</td>\n",
       "      <td>4</td>\n",
       "    </tr>\n",
       "    <tr>\n",
       "      <th>7</th>\n",
       "      <td>Weather</td>\n",
       "      <td>3</td>\n",
       "    </tr>\n",
       "    <tr>\n",
       "      <th>8</th>\n",
       "      <td>Dragons</td>\n",
       "      <td>3</td>\n",
       "    </tr>\n",
       "    <tr>\n",
       "      <th>9</th>\n",
       "      <td>Clergy</td>\n",
       "      <td>2</td>\n",
       "    </tr>\n",
       "  </tbody>\n",
       "</table>\n",
       "</div>"
      ],
      "text/plain": [
       "         non_tax_type  total\n",
       "0            Warriors     10\n",
       "1              Devils      7\n",
       "2           Seafarers      7\n",
       "3         Aristocrats      6\n",
       "4           Explorers      6\n",
       "5             Cowboys      4\n",
       "6  Mythical Creatures      4\n",
       "7             Weather      3\n",
       "8             Dragons      3\n",
       "9              Clergy      2"
      ]
     },
     "execution_count": 12,
     "metadata": {},
     "output_type": "execute_result"
    }
   ],
   "source": [
    "# What is the most common non-animal mascot\n",
    "query = \"\"\"\n",
    "        SELECT non_tax_type, count(non_tax_type) as total\n",
    "        FROM `bigquery-public-data.ncaa_basketball.mascots`\n",
    "        GROUP BY non_tax_type\n",
    "        ORDER BY total DESC\n",
    "        LIMIT 10\n",
    "        \"\"\"\n",
    "\n",
    "client = bigquery.Client()\n",
    "query_job = client.query(query)\n",
    "masc_count = query_job.to_dataframe()\n",
    "masc_count"
   ]
  },
  {
   "cell_type": "markdown",
   "metadata": {
    "papermill": {
     "duration": 0.02448,
     "end_time": "2021-06-13T21:01:26.589312",
     "exception": false,
     "start_time": "2021-06-13T21:01:26.564832",
     "status": "completed"
    },
    "tags": []
   },
   "source": [
    "# Team Colors"
   ]
  },
  {
   "cell_type": "code",
   "execution_count": 13,
   "metadata": {
    "execution": {
     "iopub.execute_input": "2021-06-13T21:01:26.643066Z",
     "iopub.status.busy": "2021-06-13T21:01:26.642468Z",
     "iopub.status.idle": "2021-06-13T21:01:26.761515Z",
     "shell.execute_reply": "2021-06-13T21:01:26.761030Z",
     "shell.execute_reply.started": "2021-06-13T18:05:15.87534Z"
    },
    "papermill": {
     "duration": 0.147957,
     "end_time": "2021-06-13T21:01:26.761658",
     "exception": false,
     "start_time": "2021-06-13T21:01:26.613701",
     "status": "completed"
    },
    "tags": []
   },
   "outputs": [],
   "source": [
    "# Select the team colors table\n",
    "table_ref = dataset_ref.table(\"team_colors\")\n",
    "table = client.get_table(table_ref)"
   ]
  },
  {
   "cell_type": "code",
   "execution_count": 14,
   "metadata": {
    "execution": {
     "iopub.execute_input": "2021-06-13T21:01:26.813028Z",
     "iopub.status.busy": "2021-06-13T21:01:26.812250Z",
     "iopub.status.idle": "2021-06-13T21:01:26.815348Z",
     "shell.execute_reply": "2021-06-13T21:01:26.815894Z",
     "shell.execute_reply.started": "2021-06-13T18:05:16.097351Z"
    },
    "papermill": {
     "duration": 0.031212,
     "end_time": "2021-06-13T21:01:26.816050",
     "exception": false,
     "start_time": "2021-06-13T21:01:26.784838",
     "status": "completed"
    },
    "tags": []
   },
   "outputs": [
    {
     "data": {
      "text/plain": [
       "[SchemaField('market', 'STRING', 'NULLABLE', None, (), None),\n",
       " SchemaField('id', 'STRING', 'NULLABLE', None, (), None),\n",
       " SchemaField('code_ncaa', 'INTEGER', 'NULLABLE', None, (), None),\n",
       " SchemaField('color', 'STRING', 'NULLABLE', None, (), None)]"
      ]
     },
     "execution_count": 14,
     "metadata": {},
     "output_type": "execute_result"
    }
   ],
   "source": [
    "# Check layout of colors table\n",
    "table.schema"
   ]
  },
  {
   "cell_type": "code",
   "execution_count": 15,
   "metadata": {
    "execution": {
     "iopub.execute_input": "2021-06-13T21:01:26.868580Z",
     "iopub.status.busy": "2021-06-13T21:01:26.867709Z",
     "iopub.status.idle": "2021-06-13T21:01:27.157054Z",
     "shell.execute_reply": "2021-06-13T21:01:27.157581Z",
     "shell.execute_reply.started": "2021-06-13T18:05:16.103512Z"
    },
    "papermill": {
     "duration": 0.317063,
     "end_time": "2021-06-13T21:01:27.157755",
     "exception": false,
     "start_time": "2021-06-13T21:01:26.840692",
     "status": "completed"
    },
    "tags": []
   },
   "outputs": [
    {
     "name": "stderr",
     "output_type": "stream",
     "text": [
      "/opt/conda/lib/python3.7/site-packages/ipykernel_launcher.py:2: UserWarning: Cannot use bqstorage_client if max_results is set, reverting to fetching data with the tabledata.list endpoint.\n",
      "  \n"
     ]
    },
    {
     "data": {
      "text/html": [
       "<div>\n",
       "<style scoped>\n",
       "    .dataframe tbody tr th:only-of-type {\n",
       "        vertical-align: middle;\n",
       "    }\n",
       "\n",
       "    .dataframe tbody tr th {\n",
       "        vertical-align: top;\n",
       "    }\n",
       "\n",
       "    .dataframe thead th {\n",
       "        text-align: right;\n",
       "    }\n",
       "</style>\n",
       "<table border=\"1\" class=\"dataframe\">\n",
       "  <thead>\n",
       "    <tr style=\"text-align: right;\">\n",
       "      <th></th>\n",
       "      <th>market</th>\n",
       "      <th>id</th>\n",
       "      <th>code_ncaa</th>\n",
       "      <th>color</th>\n",
       "    </tr>\n",
       "  </thead>\n",
       "  <tbody>\n",
       "    <tr>\n",
       "      <th>0</th>\n",
       "      <td>Milwaukee</td>\n",
       "      <td>5d77800f-1ae6-4b66-8e97-b0dbb8bbc717</td>\n",
       "      <td>797</td>\n",
       "      <td>#000000</td>\n",
       "    </tr>\n",
       "    <tr>\n",
       "      <th>1</th>\n",
       "      <td>Colorado</td>\n",
       "      <td>9fccbf28-2858-4263-821c-fdefb3c7efa3</td>\n",
       "      <td>157</td>\n",
       "      <td>#000000</td>\n",
       "    </tr>\n",
       "    <tr>\n",
       "      <th>2</th>\n",
       "      <td>Northeastern</td>\n",
       "      <td>93df9b18-e9fc-42a7-bb45-a736c203b4dc</td>\n",
       "      <td>500</td>\n",
       "      <td>#000000</td>\n",
       "    </tr>\n",
       "    <tr>\n",
       "      <th>3</th>\n",
       "      <td>Georgia Southern</td>\n",
       "      <td>6b955b96-b736-475e-bffd-e4acf2054169</td>\n",
       "      <td>253</td>\n",
       "      <td>#000066</td>\n",
       "    </tr>\n",
       "    <tr>\n",
       "      <th>4</th>\n",
       "      <td>Richmond</td>\n",
       "      <td>9b66e1e0-aace-4671-9be2-54c8acf5ecfc</td>\n",
       "      <td>575</td>\n",
       "      <td>#000066</td>\n",
       "    </tr>\n",
       "  </tbody>\n",
       "</table>\n",
       "</div>"
      ],
      "text/plain": [
       "             market                                    id  code_ncaa    color\n",
       "0         Milwaukee  5d77800f-1ae6-4b66-8e97-b0dbb8bbc717        797  #000000\n",
       "1          Colorado  9fccbf28-2858-4263-821c-fdefb3c7efa3        157  #000000\n",
       "2      Northeastern  93df9b18-e9fc-42a7-bb45-a736c203b4dc        500  #000000\n",
       "3  Georgia Southern  6b955b96-b736-475e-bffd-e4acf2054169        253  #000066\n",
       "4          Richmond  9b66e1e0-aace-4671-9be2-54c8acf5ecfc        575  #000066"
      ]
     },
     "execution_count": 15,
     "metadata": {},
     "output_type": "execute_result"
    }
   ],
   "source": [
    "# Some example records\n",
    "client.list_rows(table, max_results=5).to_dataframe()"
   ]
  },
  {
   "cell_type": "code",
   "execution_count": 16,
   "metadata": {
    "execution": {
     "iopub.execute_input": "2021-06-13T21:01:27.216089Z",
     "iopub.status.busy": "2021-06-13T21:01:27.215195Z",
     "iopub.status.idle": "2021-06-13T21:01:28.441281Z",
     "shell.execute_reply": "2021-06-13T21:01:28.441683Z",
     "shell.execute_reply.started": "2021-06-13T18:05:16.684136Z"
    },
    "papermill": {
     "duration": 1.258561,
     "end_time": "2021-06-13T21:01:28.441848",
     "exception": false,
     "start_time": "2021-06-13T21:01:27.183287",
     "status": "completed"
    },
    "tags": []
   },
   "outputs": [
    {
     "name": "stdout",
     "output_type": "stream",
     "text": [
      "Using Kaggle's public dataset BigQuery integration.\n"
     ]
    },
    {
     "name": "stderr",
     "output_type": "stream",
     "text": [
      "/opt/conda/lib/python3.7/site-packages/google/cloud/bigquery/client.py:440: UserWarning: Cannot create BigQuery Storage client, the dependency google-cloud-bigquery-storage is not installed.\n",
      "  \"Cannot create BigQuery Storage client, the dependency \"\n"
     ]
    },
    {
     "data": {
      "text/html": [
       "<div>\n",
       "<style scoped>\n",
       "    .dataframe tbody tr th:only-of-type {\n",
       "        vertical-align: middle;\n",
       "    }\n",
       "\n",
       "    .dataframe tbody tr th {\n",
       "        vertical-align: top;\n",
       "    }\n",
       "\n",
       "    .dataframe thead th {\n",
       "        text-align: right;\n",
       "    }\n",
       "</style>\n",
       "<table border=\"1\" class=\"dataframe\">\n",
       "  <thead>\n",
       "    <tr style=\"text-align: right;\">\n",
       "      <th></th>\n",
       "      <th>market</th>\n",
       "      <th>id</th>\n",
       "      <th>code_ncaa</th>\n",
       "      <th>color</th>\n",
       "    </tr>\n",
       "  </thead>\n",
       "  <tbody>\n",
       "    <tr>\n",
       "      <th>0</th>\n",
       "      <td>Wisconsin</td>\n",
       "      <td>c7569eae-5b93-4197-b204-6f3a62146b25</td>\n",
       "      <td>796</td>\n",
       "      <td>#be0f34</td>\n",
       "    </tr>\n",
       "  </tbody>\n",
       "</table>\n",
       "</div>"
      ],
      "text/plain": [
       "      market                                    id  code_ncaa    color\n",
       "0  Wisconsin  c7569eae-5b93-4197-b204-6f3a62146b25        796  #be0f34"
      ]
     },
     "execution_count": 16,
     "metadata": {},
     "output_type": "execute_result"
    }
   ],
   "source": [
    "# As another sanity check, let's see Wisconsin's color\n",
    "query = \"\"\"\n",
    "        SELECT *\n",
    "        FROM `bigquery-public-data.ncaa_basketball.team_colors`\n",
    "        WHERE market = 'Wisconsin'\n",
    "        \"\"\"\n",
    "\n",
    "client = bigquery.Client()\n",
    "query_job = client.query(query)\n",
    "wisc = query_job.to_dataframe()\n",
    "wisc"
   ]
  },
  {
   "cell_type": "code",
   "execution_count": 17,
   "metadata": {
    "execution": {
     "iopub.execute_input": "2021-06-13T21:01:28.495004Z",
     "iopub.status.busy": "2021-06-13T21:01:28.494432Z",
     "iopub.status.idle": "2021-06-13T21:01:28.498181Z",
     "shell.execute_reply": "2021-06-13T21:01:28.497689Z",
     "shell.execute_reply.started": "2021-06-13T18:05:17.993963Z"
    },
    "papermill": {
     "duration": 0.031313,
     "end_time": "2021-06-13T21:01:28.498315",
     "exception": false,
     "start_time": "2021-06-13T21:01:28.467002",
     "status": "completed"
    },
    "tags": []
   },
   "outputs": [],
   "source": [
    "# Wisconsin's color is be0f34, which has relatively high red intensity and low green/blue intensities\n",
    "# However, are there any teams with maximum red intensity as a color?"
   ]
  },
  {
   "cell_type": "code",
   "execution_count": 18,
   "metadata": {
    "execution": {
     "iopub.execute_input": "2021-06-13T21:01:28.555601Z",
     "iopub.status.busy": "2021-06-13T21:01:28.555006Z",
     "iopub.status.idle": "2021-06-13T21:01:29.358367Z",
     "shell.execute_reply": "2021-06-13T21:01:29.358876Z",
     "shell.execute_reply.started": "2021-06-13T18:05:17.997992Z"
    },
    "papermill": {
     "duration": 0.835459,
     "end_time": "2021-06-13T21:01:29.359083",
     "exception": false,
     "start_time": "2021-06-13T21:01:28.523624",
     "status": "completed"
    },
    "tags": []
   },
   "outputs": [
    {
     "name": "stdout",
     "output_type": "stream",
     "text": [
      "Using Kaggle's public dataset BigQuery integration.\n"
     ]
    },
    {
     "name": "stderr",
     "output_type": "stream",
     "text": [
      "/opt/conda/lib/python3.7/site-packages/google/cloud/bigquery/client.py:440: UserWarning: Cannot create BigQuery Storage client, the dependency google-cloud-bigquery-storage is not installed.\n",
      "  \"Cannot create BigQuery Storage client, the dependency \"\n"
     ]
    },
    {
     "data": {
      "text/html": [
       "<div>\n",
       "<style scoped>\n",
       "    .dataframe tbody tr th:only-of-type {\n",
       "        vertical-align: middle;\n",
       "    }\n",
       "\n",
       "    .dataframe tbody tr th {\n",
       "        vertical-align: top;\n",
       "    }\n",
       "\n",
       "    .dataframe thead th {\n",
       "        text-align: right;\n",
       "    }\n",
       "</style>\n",
       "<table border=\"1\" class=\"dataframe\">\n",
       "  <thead>\n",
       "    <tr style=\"text-align: right;\">\n",
       "      <th></th>\n",
       "      <th>market</th>\n",
       "      <th>id</th>\n",
       "      <th>code_ncaa</th>\n",
       "      <th>color</th>\n",
       "    </tr>\n",
       "  </thead>\n",
       "  <tbody>\n",
       "    <tr>\n",
       "      <th>0</th>\n",
       "      <td>Oklahoma State</td>\n",
       "      <td>8ab00d43-840a-4c96-bdee-bf88fa6e3f11</td>\n",
       "      <td>521</td>\n",
       "      <td>#FF6600</td>\n",
       "    </tr>\n",
       "    <tr>\n",
       "      <th>1</th>\n",
       "      <td>South Dakota</td>\n",
       "      <td>c946b7ac-5159-4817-93c4-fc9495c6425b</td>\n",
       "      <td>650</td>\n",
       "      <td>#ff2310</td>\n",
       "    </tr>\n",
       "    <tr>\n",
       "      <th>2</th>\n",
       "      <td>Syracuse</td>\n",
       "      <td>8cd24de1-2be8-4b77-bcfa-47be0495a5f4</td>\n",
       "      <td>688</td>\n",
       "      <td>#ff5113</td>\n",
       "    </tr>\n",
       "    <tr>\n",
       "      <th>3</th>\n",
       "      <td>Pacific</td>\n",
       "      <td>c9570e17-c4fd-41e6-908a-1a083941319d</td>\n",
       "      <td>534</td>\n",
       "      <td>#ff6900</td>\n",
       "    </tr>\n",
       "    <tr>\n",
       "      <th>4</th>\n",
       "      <td>Tennessee-Martin</td>\n",
       "      <td>9febd5fa-982f-4f40-ad1d-8e49be96cf4f</td>\n",
       "      <td>695</td>\n",
       "      <td>#ff6900</td>\n",
       "    </tr>\n",
       "    <tr>\n",
       "      <th>5</th>\n",
       "      <td>Idaho State</td>\n",
       "      <td>6a67ba19-56a8-4dd8-a5ae-9e9f2523c274</td>\n",
       "      <td>294</td>\n",
       "      <td>#ff7800</td>\n",
       "    </tr>\n",
       "    <tr>\n",
       "      <th>6</th>\n",
       "      <td>Northern Colorado</td>\n",
       "      <td>7e42fa84-68cd-47a6-b49a-18b5414d8084</td>\n",
       "      <td>502</td>\n",
       "      <td>#ffb500</td>\n",
       "    </tr>\n",
       "    <tr>\n",
       "      <th>7</th>\n",
       "      <td>North Carolina A&amp;T</td>\n",
       "      <td>53aaac6a-796e-41a6-a04e-6ce74c5717f8</td>\n",
       "      <td>488</td>\n",
       "      <td>#ffb82b</td>\n",
       "    </tr>\n",
       "    <tr>\n",
       "      <th>8</th>\n",
       "      <td>Morehead State</td>\n",
       "      <td>b7747a03-c85b-4de6-94bf-1b5b68553248</td>\n",
       "      <td>444</td>\n",
       "      <td>#ffc300</td>\n",
       "    </tr>\n",
       "  </tbody>\n",
       "</table>\n",
       "</div>"
      ],
      "text/plain": [
       "               market                                    id  code_ncaa  \\\n",
       "0      Oklahoma State  8ab00d43-840a-4c96-bdee-bf88fa6e3f11        521   \n",
       "1        South Dakota  c946b7ac-5159-4817-93c4-fc9495c6425b        650   \n",
       "2            Syracuse  8cd24de1-2be8-4b77-bcfa-47be0495a5f4        688   \n",
       "3             Pacific  c9570e17-c4fd-41e6-908a-1a083941319d        534   \n",
       "4    Tennessee-Martin  9febd5fa-982f-4f40-ad1d-8e49be96cf4f        695   \n",
       "5         Idaho State  6a67ba19-56a8-4dd8-a5ae-9e9f2523c274        294   \n",
       "6   Northern Colorado  7e42fa84-68cd-47a6-b49a-18b5414d8084        502   \n",
       "7  North Carolina A&T  53aaac6a-796e-41a6-a04e-6ce74c5717f8        488   \n",
       "8      Morehead State  b7747a03-c85b-4de6-94bf-1b5b68553248        444   \n",
       "\n",
       "     color  \n",
       "0  #FF6600  \n",
       "1  #ff2310  \n",
       "2  #ff5113  \n",
       "3  #ff6900  \n",
       "4  #ff6900  \n",
       "5  #ff7800  \n",
       "6  #ffb500  \n",
       "7  #ffb82b  \n",
       "8  #ffc300  "
      ]
     },
     "execution_count": 18,
     "metadata": {},
     "output_type": "execute_result"
    }
   ],
   "source": [
    "# Query teams with higher red intensity than Wisconsin\n",
    "query = \"\"\"\n",
    "        SELECT *\n",
    "        FROM `bigquery-public-data.ncaa_basketball.team_colors`\n",
    "        WHERE color LIKE \"#FF%\" OR color LIKE \"#ff%\"\n",
    "        \"\"\"\n",
    "\n",
    "client = bigquery.Client()\n",
    "query_job = client.query(query)\n",
    "wisc = query_job.to_dataframe()\n",
    "wisc"
   ]
  },
  {
   "cell_type": "markdown",
   "metadata": {
    "execution": {
     "iopub.execute_input": "2021-06-13T14:28:35.212367Z",
     "iopub.status.busy": "2021-06-13T14:28:35.21037Z",
     "iopub.status.idle": "2021-06-13T14:28:35.22255Z",
     "shell.execute_reply": "2021-06-13T14:28:35.221567Z",
     "shell.execute_reply.started": "2021-06-13T14:28:35.212028Z"
    },
    "papermill": {
     "duration": 0.025615,
     "end_time": "2021-06-13T21:01:29.411628",
     "exception": false,
     "start_time": "2021-06-13T21:01:29.386013",
     "status": "completed"
    },
    "tags": []
   },
   "source": [
    "# Wisconsin Team Information"
   ]
  },
  {
   "cell_type": "code",
   "execution_count": 19,
   "metadata": {
    "execution": {
     "iopub.execute_input": "2021-06-13T21:01:29.468971Z",
     "iopub.status.busy": "2021-06-13T21:01:29.468368Z",
     "iopub.status.idle": "2021-06-13T21:01:29.593544Z",
     "shell.execute_reply": "2021-06-13T21:01:29.592945Z",
     "shell.execute_reply.started": "2021-06-13T18:05:19.289234Z"
    },
    "papermill": {
     "duration": 0.156258,
     "end_time": "2021-06-13T21:01:29.593681",
     "exception": false,
     "start_time": "2021-06-13T21:01:29.437423",
     "status": "completed"
    },
    "tags": []
   },
   "outputs": [],
   "source": [
    "# Select the team information table\n",
    "table_ref = dataset_ref.table(\"mbb_teams\")\n",
    "table = client.get_table(table_ref)"
   ]
  },
  {
   "cell_type": "code",
   "execution_count": 20,
   "metadata": {
    "execution": {
     "iopub.execute_input": "2021-06-13T21:01:29.651949Z",
     "iopub.status.busy": "2021-06-13T21:01:29.650968Z",
     "iopub.status.idle": "2021-06-13T21:01:29.655279Z",
     "shell.execute_reply": "2021-06-13T21:01:29.654864Z",
     "shell.execute_reply.started": "2021-06-13T18:05:19.512224Z"
    },
    "papermill": {
     "duration": 0.034811,
     "end_time": "2021-06-13T21:01:29.655406",
     "exception": false,
     "start_time": "2021-06-13T21:01:29.620595",
     "status": "completed"
    },
    "tags": []
   },
   "outputs": [
    {
     "data": {
      "text/plain": [
       "[SchemaField('market', 'STRING', 'NULLABLE', None, (), None),\n",
       " SchemaField('alias', 'STRING', 'NULLABLE', None, (), None),\n",
       " SchemaField('name', 'STRING', 'NULLABLE', None, (), None),\n",
       " SchemaField('id', 'STRING', 'NULLABLE', None, (), None),\n",
       " SchemaField('code_ncaa', 'INTEGER', 'NULLABLE', None, (), None),\n",
       " SchemaField('kaggle_team_id', 'INTEGER', 'NULLABLE', None, (), None),\n",
       " SchemaField('school_ncaa', 'STRING', 'NULLABLE', None, (), None),\n",
       " SchemaField('turner_name', 'STRING', 'NULLABLE', None, (), None),\n",
       " SchemaField('league_name', 'STRING', 'NULLABLE', None, (), None),\n",
       " SchemaField('league_alias', 'STRING', 'NULLABLE', None, (), None),\n",
       " SchemaField('league_id', 'STRING', 'NULLABLE', None, (), None),\n",
       " SchemaField('conf_name', 'STRING', 'NULLABLE', None, (), None),\n",
       " SchemaField('conf_alias', 'STRING', 'NULLABLE', None, (), None),\n",
       " SchemaField('conf_id', 'STRING', 'NULLABLE', None, (), None),\n",
       " SchemaField('division_name', 'STRING', 'NULLABLE', None, (), None),\n",
       " SchemaField('division_alias', 'STRING', 'NULLABLE', None, (), None),\n",
       " SchemaField('division_id', 'STRING', 'NULLABLE', None, (), None),\n",
       " SchemaField('venue_id', 'STRING', 'NULLABLE', None, (), None),\n",
       " SchemaField('venue_city', 'STRING', 'NULLABLE', None, (), None),\n",
       " SchemaField('venue_state', 'STRING', 'NULLABLE', None, (), None),\n",
       " SchemaField('venue_address', 'STRING', 'NULLABLE', None, (), None),\n",
       " SchemaField('venue_zip', 'STRING', 'NULLABLE', None, (), None),\n",
       " SchemaField('venue_country', 'STRING', 'NULLABLE', None, (), None),\n",
       " SchemaField('venue_name', 'STRING', 'NULLABLE', None, (), None),\n",
       " SchemaField('venue_capacity', 'INTEGER', 'NULLABLE', None, (), None),\n",
       " SchemaField('logo_large', 'STRING', 'NULLABLE', None, (), None),\n",
       " SchemaField('logo_medium', 'STRING', 'NULLABLE', None, (), None),\n",
       " SchemaField('logo_small', 'STRING', 'NULLABLE', None, (), None)]"
      ]
     },
     "execution_count": 20,
     "metadata": {},
     "output_type": "execute_result"
    }
   ],
   "source": [
    "# Check layout of team information table\n",
    "table.schema"
   ]
  },
  {
   "cell_type": "code",
   "execution_count": 21,
   "metadata": {
    "execution": {
     "iopub.execute_input": "2021-06-13T21:01:29.716177Z",
     "iopub.status.busy": "2021-06-13T21:01:29.715626Z",
     "iopub.status.idle": "2021-06-13T21:01:29.980808Z",
     "shell.execute_reply": "2021-06-13T21:01:29.981213Z",
     "shell.execute_reply.started": "2021-06-13T18:05:19.51984Z"
    },
    "papermill": {
     "duration": 0.299016,
     "end_time": "2021-06-13T21:01:29.981390",
     "exception": false,
     "start_time": "2021-06-13T21:01:29.682374",
     "status": "completed"
    },
    "tags": []
   },
   "outputs": [
    {
     "name": "stderr",
     "output_type": "stream",
     "text": [
      "/opt/conda/lib/python3.7/site-packages/ipykernel_launcher.py:2: UserWarning: Cannot use bqstorage_client if max_results is set, reverting to fetching data with the tabledata.list endpoint.\n",
      "  \n"
     ]
    },
    {
     "data": {
      "text/html": [
       "<div>\n",
       "<style scoped>\n",
       "    .dataframe tbody tr th:only-of-type {\n",
       "        vertical-align: middle;\n",
       "    }\n",
       "\n",
       "    .dataframe tbody tr th {\n",
       "        vertical-align: top;\n",
       "    }\n",
       "\n",
       "    .dataframe thead th {\n",
       "        text-align: right;\n",
       "    }\n",
       "</style>\n",
       "<table border=\"1\" class=\"dataframe\">\n",
       "  <thead>\n",
       "    <tr style=\"text-align: right;\">\n",
       "      <th></th>\n",
       "      <th>market</th>\n",
       "      <th>alias</th>\n",
       "      <th>name</th>\n",
       "      <th>id</th>\n",
       "      <th>code_ncaa</th>\n",
       "      <th>kaggle_team_id</th>\n",
       "      <th>school_ncaa</th>\n",
       "      <th>turner_name</th>\n",
       "      <th>league_name</th>\n",
       "      <th>league_alias</th>\n",
       "      <th>...</th>\n",
       "      <th>venue_city</th>\n",
       "      <th>venue_state</th>\n",
       "      <th>venue_address</th>\n",
       "      <th>venue_zip</th>\n",
       "      <th>venue_country</th>\n",
       "      <th>venue_name</th>\n",
       "      <th>venue_capacity</th>\n",
       "      <th>logo_large</th>\n",
       "      <th>logo_medium</th>\n",
       "      <th>logo_small</th>\n",
       "    </tr>\n",
       "  </thead>\n",
       "  <tbody>\n",
       "    <tr>\n",
       "      <th>0</th>\n",
       "      <td>Princeton</td>\n",
       "      <td>PRIN</td>\n",
       "      <td>Tigers</td>\n",
       "      <td>fe406882-9f22-495e-9df6-ef357a6803c6</td>\n",
       "      <td>554</td>\n",
       "      <td>1343</td>\n",
       "      <td>Princeton</td>\n",
       "      <td>Princeton University</td>\n",
       "      <td>NCAA MEN</td>\n",
       "      <td>NCAAM</td>\n",
       "      <td>...</td>\n",
       "      <td>Princeton</td>\n",
       "      <td>NJ</td>\n",
       "      <td>Princeton University</td>\n",
       "      <td>8542</td>\n",
       "      <td>USA</td>\n",
       "      <td>Jadwin Gymnasium</td>\n",
       "      <td>6854</td>\n",
       "      <td>https://www.ncaa.com/sites/default/files/image...</td>\n",
       "      <td>https://www.ncaa.com/sites/default/files/image...</td>\n",
       "      <td>https://www.ncaa.com/sites/default/files/image...</td>\n",
       "    </tr>\n",
       "    <tr>\n",
       "      <th>1</th>\n",
       "      <td>Yale</td>\n",
       "      <td>YALE</td>\n",
       "      <td>Bulldogs</td>\n",
       "      <td>ca478771-aa3d-4231-81e0-b70f519134fb</td>\n",
       "      <td>813</td>\n",
       "      <td>1463</td>\n",
       "      <td>Yale</td>\n",
       "      <td>Yale University</td>\n",
       "      <td>NCAA MEN</td>\n",
       "      <td>NCAAM</td>\n",
       "      <td>...</td>\n",
       "      <td>New Haven</td>\n",
       "      <td>CT</td>\n",
       "      <td>70 Tower Pkwy</td>\n",
       "      <td>6511</td>\n",
       "      <td>USA</td>\n",
       "      <td>John J. Lee Amphitheater</td>\n",
       "      <td>2532</td>\n",
       "      <td>https://www.ncaa.com/sites/default/files/image...</td>\n",
       "      <td>https://www.ncaa.com/sites/default/files/image...</td>\n",
       "      <td>https://www.ncaa.com/sites/default/files/image...</td>\n",
       "    </tr>\n",
       "    <tr>\n",
       "      <th>2</th>\n",
       "      <td>Harvard</td>\n",
       "      <td>HARV</td>\n",
       "      <td>Crimson</td>\n",
       "      <td>5c7bf63f-bc39-43c5-9907-73b50b7a6b34</td>\n",
       "      <td>275</td>\n",
       "      <td>1217</td>\n",
       "      <td>Harvard</td>\n",
       "      <td>Harvard University</td>\n",
       "      <td>NCAA MEN</td>\n",
       "      <td>NCAAM</td>\n",
       "      <td>...</td>\n",
       "      <td>Allston</td>\n",
       "      <td>MA</td>\n",
       "      <td>Soldiers Field Road</td>\n",
       "      <td>2163</td>\n",
       "      <td>USA</td>\n",
       "      <td>Lavietes Pavilion</td>\n",
       "      <td>2195</td>\n",
       "      <td>https://www.ncaa.com/sites/default/files/image...</td>\n",
       "      <td>https://www.ncaa.com/sites/default/files/image...</td>\n",
       "      <td>https://www.ncaa.com/sites/default/files/image...</td>\n",
       "    </tr>\n",
       "    <tr>\n",
       "      <th>3</th>\n",
       "      <td>Dartmouth</td>\n",
       "      <td>DART</td>\n",
       "      <td>Big Green</td>\n",
       "      <td>d60357bd-1205-42e9-9092-d986a2843a34</td>\n",
       "      <td>172</td>\n",
       "      <td>1171</td>\n",
       "      <td>Dartmouth</td>\n",
       "      <td>Dartmouth College</td>\n",
       "      <td>NCAA MEN</td>\n",
       "      <td>NCAAM</td>\n",
       "      <td>...</td>\n",
       "      <td>Hanover</td>\n",
       "      <td>NH</td>\n",
       "      <td>6 South Park Street</td>\n",
       "      <td>03755</td>\n",
       "      <td>USA</td>\n",
       "      <td>Edward Leede Arena</td>\n",
       "      <td>2100</td>\n",
       "      <td>https://www.ncaa.com/sites/default/files/image...</td>\n",
       "      <td>https://www.ncaa.com/sites/default/files/image...</td>\n",
       "      <td>https://www.ncaa.com/sites/default/files/image...</td>\n",
       "    </tr>\n",
       "    <tr>\n",
       "      <th>4</th>\n",
       "      <td>Cornell</td>\n",
       "      <td>COR</td>\n",
       "      <td>Big Red</td>\n",
       "      <td>88ff8c00-958e-4ccf-a21d-77fab9e93692</td>\n",
       "      <td>167</td>\n",
       "      <td>1165</td>\n",
       "      <td>Cornell</td>\n",
       "      <td>Cornell University</td>\n",
       "      <td>NCAA MEN</td>\n",
       "      <td>NCAAM</td>\n",
       "      <td>...</td>\n",
       "      <td>Ithaca</td>\n",
       "      <td>NY</td>\n",
       "      <td>Bartels Hall</td>\n",
       "      <td>14853</td>\n",
       "      <td>USA</td>\n",
       "      <td>Newman Arena</td>\n",
       "      <td>4473</td>\n",
       "      <td>https://www.ncaa.com/sites/default/files/image...</td>\n",
       "      <td>https://www.ncaa.com/sites/default/files/image...</td>\n",
       "      <td>https://www.ncaa.com/sites/default/files/image...</td>\n",
       "    </tr>\n",
       "  </tbody>\n",
       "</table>\n",
       "<p>5 rows × 28 columns</p>\n",
       "</div>"
      ],
      "text/plain": [
       "      market alias       name                                    id  \\\n",
       "0  Princeton  PRIN     Tigers  fe406882-9f22-495e-9df6-ef357a6803c6   \n",
       "1       Yale  YALE   Bulldogs  ca478771-aa3d-4231-81e0-b70f519134fb   \n",
       "2    Harvard  HARV    Crimson  5c7bf63f-bc39-43c5-9907-73b50b7a6b34   \n",
       "3  Dartmouth  DART  Big Green  d60357bd-1205-42e9-9092-d986a2843a34   \n",
       "4    Cornell   COR    Big Red  88ff8c00-958e-4ccf-a21d-77fab9e93692   \n",
       "\n",
       "   code_ncaa  kaggle_team_id school_ncaa           turner_name league_name  \\\n",
       "0        554            1343   Princeton  Princeton University    NCAA MEN   \n",
       "1        813            1463        Yale       Yale University    NCAA MEN   \n",
       "2        275            1217     Harvard    Harvard University    NCAA MEN   \n",
       "3        172            1171   Dartmouth     Dartmouth College    NCAA MEN   \n",
       "4        167            1165     Cornell    Cornell University    NCAA MEN   \n",
       "\n",
       "  league_alias  ... venue_city venue_state         venue_address venue_zip  \\\n",
       "0        NCAAM  ...  Princeton          NJ  Princeton University      8542   \n",
       "1        NCAAM  ...  New Haven          CT         70 Tower Pkwy      6511   \n",
       "2        NCAAM  ...    Allston          MA   Soldiers Field Road      2163   \n",
       "3        NCAAM  ...    Hanover          NH   6 South Park Street     03755   \n",
       "4        NCAAM  ...     Ithaca          NY          Bartels Hall     14853   \n",
       "\n",
       "  venue_country                venue_name venue_capacity  \\\n",
       "0           USA          Jadwin Gymnasium           6854   \n",
       "1           USA  John J. Lee Amphitheater           2532   \n",
       "2           USA         Lavietes Pavilion           2195   \n",
       "3           USA        Edward Leede Arena           2100   \n",
       "4           USA              Newman Arena           4473   \n",
       "\n",
       "                                          logo_large  \\\n",
       "0  https://www.ncaa.com/sites/default/files/image...   \n",
       "1  https://www.ncaa.com/sites/default/files/image...   \n",
       "2  https://www.ncaa.com/sites/default/files/image...   \n",
       "3  https://www.ncaa.com/sites/default/files/image...   \n",
       "4  https://www.ncaa.com/sites/default/files/image...   \n",
       "\n",
       "                                         logo_medium  \\\n",
       "0  https://www.ncaa.com/sites/default/files/image...   \n",
       "1  https://www.ncaa.com/sites/default/files/image...   \n",
       "2  https://www.ncaa.com/sites/default/files/image...   \n",
       "3  https://www.ncaa.com/sites/default/files/image...   \n",
       "4  https://www.ncaa.com/sites/default/files/image...   \n",
       "\n",
       "                                          logo_small  \n",
       "0  https://www.ncaa.com/sites/default/files/image...  \n",
       "1  https://www.ncaa.com/sites/default/files/image...  \n",
       "2  https://www.ncaa.com/sites/default/files/image...  \n",
       "3  https://www.ncaa.com/sites/default/files/image...  \n",
       "4  https://www.ncaa.com/sites/default/files/image...  \n",
       "\n",
       "[5 rows x 28 columns]"
      ]
     },
     "execution_count": 21,
     "metadata": {},
     "output_type": "execute_result"
    }
   ],
   "source": [
    "# Some example records\n",
    "client.list_rows(table, max_results=5).to_dataframe()"
   ]
  },
  {
   "cell_type": "code",
   "execution_count": 22,
   "metadata": {
    "execution": {
     "iopub.execute_input": "2021-06-13T21:01:30.043688Z",
     "iopub.status.busy": "2021-06-13T21:01:30.042815Z",
     "iopub.status.idle": "2021-06-13T21:01:30.747674Z",
     "shell.execute_reply": "2021-06-13T21:01:30.748127Z",
     "shell.execute_reply.started": "2021-06-13T18:05:20.114932Z"
    },
    "papermill": {
     "duration": 0.738911,
     "end_time": "2021-06-13T21:01:30.748284",
     "exception": false,
     "start_time": "2021-06-13T21:01:30.009373",
     "status": "completed"
    },
    "tags": []
   },
   "outputs": [
    {
     "name": "stdout",
     "output_type": "stream",
     "text": [
      "Using Kaggle's public dataset BigQuery integration.\n"
     ]
    },
    {
     "name": "stderr",
     "output_type": "stream",
     "text": [
      "/opt/conda/lib/python3.7/site-packages/google/cloud/bigquery/client.py:440: UserWarning: Cannot create BigQuery Storage client, the dependency google-cloud-bigquery-storage is not installed.\n",
      "  \"Cannot create BigQuery Storage client, the dependency \"\n"
     ]
    },
    {
     "data": {
      "text/html": [
       "<div>\n",
       "<style scoped>\n",
       "    .dataframe tbody tr th:only-of-type {\n",
       "        vertical-align: middle;\n",
       "    }\n",
       "\n",
       "    .dataframe tbody tr th {\n",
       "        vertical-align: top;\n",
       "    }\n",
       "\n",
       "    .dataframe thead th {\n",
       "        text-align: right;\n",
       "    }\n",
       "</style>\n",
       "<table border=\"1\" class=\"dataframe\">\n",
       "  <thead>\n",
       "    <tr style=\"text-align: right;\">\n",
       "      <th></th>\n",
       "      <th>market</th>\n",
       "      <th>league_name</th>\n",
       "      <th>conf_name</th>\n",
       "      <th>division_name</th>\n",
       "      <th>venue_name</th>\n",
       "      <th>venue_capacity</th>\n",
       "    </tr>\n",
       "  </thead>\n",
       "  <tbody>\n",
       "    <tr>\n",
       "      <th>0</th>\n",
       "      <td>Wisconsin</td>\n",
       "      <td>NCAA MEN</td>\n",
       "      <td>Big Ten</td>\n",
       "      <td>NCAA Division I</td>\n",
       "      <td>Kohl Center</td>\n",
       "      <td>17230</td>\n",
       "    </tr>\n",
       "  </tbody>\n",
       "</table>\n",
       "</div>"
      ],
      "text/plain": [
       "      market league_name conf_name    division_name   venue_name  \\\n",
       "0  Wisconsin    NCAA MEN   Big Ten  NCAA Division I  Kohl Center   \n",
       "\n",
       "   venue_capacity  \n",
       "0           17230  "
      ]
     },
     "execution_count": 22,
     "metadata": {},
     "output_type": "execute_result"
    }
   ],
   "source": [
    "# Query Wisconsin's team information\n",
    "query = \"\"\"\n",
    "        SELECT \n",
    "            market,\n",
    "            league_name,\n",
    "            conf_name,\n",
    "            division_name,\n",
    "            venue_name,\n",
    "            venue_capacity\n",
    "        FROM `bigquery-public-data.ncaa_basketball.mbb_teams`\n",
    "        WHERE market = \"Wisconsin\"\n",
    "        \"\"\"\n",
    "\n",
    "client = bigquery.Client()\n",
    "query_job = client.query(query)\n",
    "wisc = query_job.to_dataframe()\n",
    "wisc"
   ]
  },
  {
   "cell_type": "code",
   "execution_count": 23,
   "metadata": {
    "execution": {
     "iopub.execute_input": "2021-06-13T21:01:30.807966Z",
     "iopub.status.busy": "2021-06-13T21:01:30.807382Z",
     "iopub.status.idle": "2021-06-13T21:01:30.810139Z",
     "shell.execute_reply": "2021-06-13T21:01:30.810674Z",
     "shell.execute_reply.started": "2021-06-13T18:05:21.342621Z"
    },
    "papermill": {
     "duration": 0.033661,
     "end_time": "2021-06-13T21:01:30.810827",
     "exception": false,
     "start_time": "2021-06-13T21:01:30.777166",
     "status": "completed"
    },
    "tags": []
   },
   "outputs": [],
   "source": [
    "# So, we can see that Wisconin is a NCAA Men's Division I team playing in the Big Ten.\n",
    "# They play at the Kohl Center, which has a capacity of 17,230.\n",
    "# Let's check out some other Wisconsin and Big Ten teams."
   ]
  },
  {
   "cell_type": "code",
   "execution_count": 24,
   "metadata": {
    "execution": {
     "iopub.execute_input": "2021-06-13T21:01:30.869917Z",
     "iopub.status.busy": "2021-06-13T21:01:30.869363Z",
     "iopub.status.idle": "2021-06-13T21:01:31.555913Z",
     "shell.execute_reply": "2021-06-13T21:01:31.555403Z",
     "shell.execute_reply.started": "2021-06-13T18:05:21.347735Z"
    },
    "papermill": {
     "duration": 0.717186,
     "end_time": "2021-06-13T21:01:31.556046",
     "exception": false,
     "start_time": "2021-06-13T21:01:30.838860",
     "status": "completed"
    },
    "tags": []
   },
   "outputs": [
    {
     "name": "stdout",
     "output_type": "stream",
     "text": [
      "Using Kaggle's public dataset BigQuery integration.\n"
     ]
    },
    {
     "name": "stderr",
     "output_type": "stream",
     "text": [
      "/opt/conda/lib/python3.7/site-packages/google/cloud/bigquery/client.py:440: UserWarning: Cannot create BigQuery Storage client, the dependency google-cloud-bigquery-storage is not installed.\n",
      "  \"Cannot create BigQuery Storage client, the dependency \"\n"
     ]
    },
    {
     "data": {
      "text/html": [
       "<div>\n",
       "<style scoped>\n",
       "    .dataframe tbody tr th:only-of-type {\n",
       "        vertical-align: middle;\n",
       "    }\n",
       "\n",
       "    .dataframe tbody tr th {\n",
       "        vertical-align: top;\n",
       "    }\n",
       "\n",
       "    .dataframe thead th {\n",
       "        text-align: right;\n",
       "    }\n",
       "</style>\n",
       "<table border=\"1\" class=\"dataframe\">\n",
       "  <thead>\n",
       "    <tr style=\"text-align: right;\">\n",
       "      <th></th>\n",
       "      <th>market</th>\n",
       "      <th>league_name</th>\n",
       "      <th>conf_name</th>\n",
       "      <th>division_name</th>\n",
       "      <th>venue_name</th>\n",
       "      <th>venue_capacity</th>\n",
       "    </tr>\n",
       "  </thead>\n",
       "  <tbody>\n",
       "    <tr>\n",
       "      <th>0</th>\n",
       "      <td>Marquette</td>\n",
       "      <td>NCAA MEN</td>\n",
       "      <td>Big East</td>\n",
       "      <td>NCAA Division I</td>\n",
       "      <td>BMO Harris Bradley Center</td>\n",
       "      <td>18717</td>\n",
       "    </tr>\n",
       "    <tr>\n",
       "      <th>1</th>\n",
       "      <td>Wisconsin</td>\n",
       "      <td>NCAA MEN</td>\n",
       "      <td>Big Ten</td>\n",
       "      <td>NCAA Division I</td>\n",
       "      <td>Kohl Center</td>\n",
       "      <td>17230</td>\n",
       "    </tr>\n",
       "    <tr>\n",
       "      <th>2</th>\n",
       "      <td>Milwaukee</td>\n",
       "      <td>NCAA MEN</td>\n",
       "      <td>Horizon</td>\n",
       "      <td>NCAA Division I</td>\n",
       "      <td>UW-Milwaukee Panther Arena</td>\n",
       "      <td>10783</td>\n",
       "    </tr>\n",
       "    <tr>\n",
       "      <th>3</th>\n",
       "      <td>Green Bay</td>\n",
       "      <td>NCAA MEN</td>\n",
       "      <td>Horizon</td>\n",
       "      <td>NCAA Division I</td>\n",
       "      <td>Resch Center</td>\n",
       "      <td>9729</td>\n",
       "    </tr>\n",
       "  </tbody>\n",
       "</table>\n",
       "</div>"
      ],
      "text/plain": [
       "      market league_name conf_name    division_name  \\\n",
       "0  Marquette    NCAA MEN  Big East  NCAA Division I   \n",
       "1  Wisconsin    NCAA MEN   Big Ten  NCAA Division I   \n",
       "2  Milwaukee    NCAA MEN   Horizon  NCAA Division I   \n",
       "3  Green Bay    NCAA MEN   Horizon  NCAA Division I   \n",
       "\n",
       "                   venue_name  venue_capacity  \n",
       "0   BMO Harris Bradley Center           18717  \n",
       "1                 Kohl Center           17230  \n",
       "2  UW-Milwaukee Panther Arena           10783  \n",
       "3                Resch Center            9729  "
      ]
     },
     "execution_count": 24,
     "metadata": {},
     "output_type": "execute_result"
    }
   ],
   "source": [
    "# Query other teams in Wisconsin\n",
    "query = \"\"\"\n",
    "        SELECT \n",
    "            market,\n",
    "            league_name,\n",
    "            conf_name,\n",
    "            division_name,\n",
    "            venue_name,\n",
    "            venue_capacity\n",
    "        FROM `bigquery-public-data.ncaa_basketball.mbb_teams`\n",
    "        WHERE venue_state = \"WI\"\n",
    "        ORDER BY venue_capacity DESC\n",
    "        \"\"\"\n",
    "\n",
    "client = bigquery.Client()\n",
    "query_job = client.query(query)\n",
    "wisc = query_job.to_dataframe()\n",
    "wisc"
   ]
  },
  {
   "cell_type": "code",
   "execution_count": 25,
   "metadata": {
    "execution": {
     "iopub.execute_input": "2021-06-13T21:01:31.618529Z",
     "iopub.status.busy": "2021-06-13T21:01:31.617886Z",
     "iopub.status.idle": "2021-06-13T21:01:31.621110Z",
     "shell.execute_reply": "2021-06-13T21:01:31.620548Z",
     "shell.execute_reply.started": "2021-06-13T18:05:22.332491Z"
    },
    "papermill": {
     "duration": 0.036186,
     "end_time": "2021-06-13T21:01:31.621246",
     "exception": false,
     "start_time": "2021-06-13T21:01:31.585060",
     "status": "completed"
    },
    "tags": []
   },
   "outputs": [],
   "source": [
    "# There are three other D1 basketball programs in Wisconsin, but none plays in the Big Ten.\n",
    "# Marquette has the largest venue in Wisconsin."
   ]
  },
  {
   "cell_type": "code",
   "execution_count": 26,
   "metadata": {
    "execution": {
     "iopub.execute_input": "2021-06-13T21:01:31.687064Z",
     "iopub.status.busy": "2021-06-13T21:01:31.686389Z",
     "iopub.status.idle": "2021-06-13T21:01:32.422683Z",
     "shell.execute_reply": "2021-06-13T21:01:32.421840Z",
     "shell.execute_reply.started": "2021-06-13T18:05:22.337177Z"
    },
    "papermill": {
     "duration": 0.771912,
     "end_time": "2021-06-13T21:01:32.422824",
     "exception": false,
     "start_time": "2021-06-13T21:01:31.650912",
     "status": "completed"
    },
    "tags": []
   },
   "outputs": [
    {
     "name": "stdout",
     "output_type": "stream",
     "text": [
      "Using Kaggle's public dataset BigQuery integration.\n"
     ]
    },
    {
     "name": "stderr",
     "output_type": "stream",
     "text": [
      "/opt/conda/lib/python3.7/site-packages/google/cloud/bigquery/client.py:440: UserWarning: Cannot create BigQuery Storage client, the dependency google-cloud-bigquery-storage is not installed.\n",
      "  \"Cannot create BigQuery Storage client, the dependency \"\n"
     ]
    },
    {
     "data": {
      "text/html": [
       "<div>\n",
       "<style scoped>\n",
       "    .dataframe tbody tr th:only-of-type {\n",
       "        vertical-align: middle;\n",
       "    }\n",
       "\n",
       "    .dataframe tbody tr th {\n",
       "        vertical-align: top;\n",
       "    }\n",
       "\n",
       "    .dataframe thead th {\n",
       "        text-align: right;\n",
       "    }\n",
       "</style>\n",
       "<table border=\"1\" class=\"dataframe\">\n",
       "  <thead>\n",
       "    <tr style=\"text-align: right;\">\n",
       "      <th></th>\n",
       "      <th>market</th>\n",
       "      <th>venue_name</th>\n",
       "      <th>venue_capacity</th>\n",
       "    </tr>\n",
       "  </thead>\n",
       "  <tbody>\n",
       "    <tr>\n",
       "      <th>0</th>\n",
       "      <td>Ohio State</td>\n",
       "      <td>Value City Arena at the Jerome Schottenstein C...</td>\n",
       "      <td>18809</td>\n",
       "    </tr>\n",
       "    <tr>\n",
       "      <th>1</th>\n",
       "      <td>Maryland</td>\n",
       "      <td>Xfinity Center</td>\n",
       "      <td>17950</td>\n",
       "    </tr>\n",
       "    <tr>\n",
       "      <th>2</th>\n",
       "      <td>Northwestern</td>\n",
       "      <td>Allstate Arena</td>\n",
       "      <td>17500</td>\n",
       "    </tr>\n",
       "    <tr>\n",
       "      <th>3</th>\n",
       "      <td>Indiana</td>\n",
       "      <td>Assembly Hall</td>\n",
       "      <td>17472</td>\n",
       "    </tr>\n",
       "    <tr>\n",
       "      <th>4</th>\n",
       "      <td>Wisconsin</td>\n",
       "      <td>Kohl Center</td>\n",
       "      <td>17230</td>\n",
       "    </tr>\n",
       "    <tr>\n",
       "      <th>5</th>\n",
       "      <td>Michigan State</td>\n",
       "      <td>Jack Breslin Students Events Center</td>\n",
       "      <td>16280</td>\n",
       "    </tr>\n",
       "    <tr>\n",
       "      <th>6</th>\n",
       "      <td>Illinois</td>\n",
       "      <td>State Farm Center</td>\n",
       "      <td>15500</td>\n",
       "    </tr>\n",
       "    <tr>\n",
       "      <th>7</th>\n",
       "      <td>Iowa</td>\n",
       "      <td>Carver-Hawkeye Arena</td>\n",
       "      <td>15400</td>\n",
       "    </tr>\n",
       "    <tr>\n",
       "      <th>8</th>\n",
       "      <td>Penn State</td>\n",
       "      <td>Bryce Jordan Center</td>\n",
       "      <td>15261</td>\n",
       "    </tr>\n",
       "    <tr>\n",
       "      <th>9</th>\n",
       "      <td>Nebraska</td>\n",
       "      <td>Pinnacle Bank Arena</td>\n",
       "      <td>15147</td>\n",
       "    </tr>\n",
       "    <tr>\n",
       "      <th>10</th>\n",
       "      <td>Purdue</td>\n",
       "      <td>Mackey Arena</td>\n",
       "      <td>14846</td>\n",
       "    </tr>\n",
       "    <tr>\n",
       "      <th>11</th>\n",
       "      <td>Minnesota</td>\n",
       "      <td>Williams Arena</td>\n",
       "      <td>14625</td>\n",
       "    </tr>\n",
       "    <tr>\n",
       "      <th>12</th>\n",
       "      <td>Michigan</td>\n",
       "      <td>Crisler Center</td>\n",
       "      <td>12707</td>\n",
       "    </tr>\n",
       "    <tr>\n",
       "      <th>13</th>\n",
       "      <td>Rutgers</td>\n",
       "      <td>Louis Brown Athletic Center</td>\n",
       "      <td>8000</td>\n",
       "    </tr>\n",
       "  </tbody>\n",
       "</table>\n",
       "</div>"
      ],
      "text/plain": [
       "            market                                         venue_name  \\\n",
       "0       Ohio State  Value City Arena at the Jerome Schottenstein C...   \n",
       "1         Maryland                                     Xfinity Center   \n",
       "2     Northwestern                                     Allstate Arena   \n",
       "3          Indiana                                      Assembly Hall   \n",
       "4        Wisconsin                                        Kohl Center   \n",
       "5   Michigan State                Jack Breslin Students Events Center   \n",
       "6         Illinois                                  State Farm Center   \n",
       "7             Iowa                               Carver-Hawkeye Arena   \n",
       "8       Penn State                                Bryce Jordan Center   \n",
       "9         Nebraska                                Pinnacle Bank Arena   \n",
       "10          Purdue                                       Mackey Arena   \n",
       "11       Minnesota                                     Williams Arena   \n",
       "12        Michigan                                     Crisler Center   \n",
       "13         Rutgers                        Louis Brown Athletic Center   \n",
       "\n",
       "    venue_capacity  \n",
       "0            18809  \n",
       "1            17950  \n",
       "2            17500  \n",
       "3            17472  \n",
       "4            17230  \n",
       "5            16280  \n",
       "6            15500  \n",
       "7            15400  \n",
       "8            15261  \n",
       "9            15147  \n",
       "10           14846  \n",
       "11           14625  \n",
       "12           12707  \n",
       "13            8000  "
      ]
     },
     "execution_count": 26,
     "metadata": {},
     "output_type": "execute_result"
    }
   ],
   "source": [
    "# Query other teams in the Big Ten\n",
    "query = \"\"\"\n",
    "        SELECT \n",
    "            market,\n",
    "            venue_name,\n",
    "            venue_capacity\n",
    "        FROM `bigquery-public-data.ncaa_basketball.mbb_teams`\n",
    "        WHERE conf_name = \"Big Ten\"\n",
    "        ORDER BY venue_capacity DESC\n",
    "        \"\"\"\n",
    "\n",
    "client = bigquery.Client()\n",
    "query_job = client.query(query)\n",
    "big_ten = query_job.to_dataframe()\n",
    "big_ten"
   ]
  },
  {
   "cell_type": "code",
   "execution_count": 27,
   "metadata": {
    "execution": {
     "iopub.execute_input": "2021-06-13T21:01:32.487037Z",
     "iopub.status.busy": "2021-06-13T21:01:32.486467Z",
     "iopub.status.idle": "2021-06-13T21:01:32.488848Z",
     "shell.execute_reply": "2021-06-13T21:01:32.488256Z",
     "shell.execute_reply.started": "2021-06-13T18:05:23.469463Z"
    },
    "papermill": {
     "duration": 0.03618,
     "end_time": "2021-06-13T21:01:32.488979",
     "exception": false,
     "start_time": "2021-06-13T21:01:32.452799",
     "status": "completed"
    },
    "tags": []
   },
   "outputs": [],
   "source": [
    "# Much to my surprise, the Big Ten conference actually has 14 teams.\n",
    "# Wisconsin has the fifth largest venue in the Big Ten."
   ]
  }
 ],
 "metadata": {
  "kernelspec": {
   "display_name": "Python 3",
   "language": "python",
   "name": "python3"
  },
  "language_info": {
   "codemirror_mode": {
    "name": "ipython",
    "version": 3
   },
   "file_extension": ".py",
   "mimetype": "text/x-python",
   "name": "python",
   "nbconvert_exporter": "python",
   "pygments_lexer": "ipython3",
   "version": "3.8.5"
  },
  "papermill": {
   "default_parameters": {},
   "duration": 21.861431,
   "end_time": "2021-06-13T21:01:33.862763",
   "environment_variables": {},
   "exception": null,
   "input_path": "__notebook__.ipynb",
   "output_path": "__notebook__.ipynb",
   "parameters": {},
   "start_time": "2021-06-13T21:01:12.001332",
   "version": "2.3.3"
  }
 },
 "nbformat": 4,
 "nbformat_minor": 5
}
