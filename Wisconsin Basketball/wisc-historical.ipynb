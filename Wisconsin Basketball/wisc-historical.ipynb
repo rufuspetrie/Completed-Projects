{
 "cells": [
  {
   "cell_type": "markdown",
   "metadata": {},
   "source": [
    "# Analysis of NCAA Basketball Data\n",
    "In this notebook, I analyze a variety of information about NCAA basketball. I use a large database hosted on Google Bigquery, which can be found at https://www.kaggle.com/ncaa/ncaa-basketball.\n",
    "\n",
    "\n",
    "The database contains the following tables:\n",
    "- mascots\n",
    "- team_colors\n",
    "- mbb_teams\n",
    "- mbb_historical_teams_seasons - historical season data (1894/1895-present)\n",
    "- mbb_historical_teams_games - final scores, one entry per team per game (1996/1997-present)\n",
    "- mbb_historical_tournament_games - historical data about tournament games (1984/1985-present)\n",
    "- mbb_games_sr - team level box scores (2013/2014-2017/2018)\n",
    "- mbb_pbp_sr - play by play information about games (2013/2014-present)\n",
    "- mbb_players_games_sr - player level box scores (2013/2014-2017/2018)\n",
    "- mbb_teams_games_sr - team level box scores (2013/2014-2017/2018)\n",
    "\n",
    "Because I attended Boston College and Wisconsin, and Wisconsin has the much better basketball team, I will mainly attempt to get a sense of Wisconsin's program and its performance over the years. Based on the database tables, it looks like I may be able to answer the following questions:\n",
    "- What is Wisconin's mascot?\n",
    "- What is Wisconsin's team color?\n",
    "- Where does Wisconsin play home games?\n",
    "- Where has Wisconsin played the most games?\n",
    "- Home vs. away performance\n",
    "- Highest scoring games\n",
    "- Tournament performance\n",
    "- Chokes vs. Upsets"
   ]
  },
  {
   "cell_type": "code",
   "execution_count": 1,
   "metadata": {
    "execution": {
     "iopub.execute_input": "2021-06-16T15:06:15.616504Z",
     "iopub.status.busy": "2021-06-16T15:06:15.615757Z",
     "iopub.status.idle": "2021-06-16T15:06:15.631066Z",
     "shell.execute_reply": "2021-06-16T15:06:15.630169Z",
     "shell.execute_reply.started": "2021-06-16T15:06:15.616435Z"
    }
   },
   "outputs": [],
   "source": [
    "# Import packages\n",
    "import numpy as np\n",
    "import pandas as pd\n",
    "import datetime as dt\n",
    "import matplotlib.pyplot as plt\n",
    "from google.cloud import bigquery\n",
    "%matplotlib inline\n",
    "\n",
    "# Accessing Kaggle data files\n",
    "import os\n",
    "for dirname, _, filenames in os.walk('/kaggle/input'):\n",
    "    for filename in filenames:\n",
    "        print(os.path.join(dirname, filename))"
   ]
  },
  {
   "cell_type": "code",
   "execution_count": 2,
   "metadata": {
    "execution": {
     "iopub.execute_input": "2021-06-16T15:06:15.638060Z",
     "iopub.status.busy": "2021-06-16T15:06:15.637383Z",
     "iopub.status.idle": "2021-06-16T15:06:15.983372Z",
     "shell.execute_reply": "2021-06-16T15:06:15.982284Z",
     "shell.execute_reply.started": "2021-06-16T15:06:15.638008Z"
    }
   },
   "outputs": [
    {
     "name": "stdout",
     "output_type": "stream",
     "text": [
      "Using Kaggle's public dataset BigQuery integration.\n"
     ]
    }
   ],
   "source": [
    "# Retrieve NCAA data\n",
    "client = bigquery.Client()\n",
    "dataset_ref = client.dataset(\"ncaa_basketball\", project=\"bigquery-public-data\")\n",
    "dataset = client.get_dataset(dataset_ref)"
   ]
  },
  {
   "cell_type": "code",
   "execution_count": 3,
   "metadata": {
    "execution": {
     "iopub.execute_input": "2021-06-16T15:06:15.985541Z",
     "iopub.status.busy": "2021-06-16T15:06:15.985178Z",
     "iopub.status.idle": "2021-06-16T15:06:16.225683Z",
     "shell.execute_reply": "2021-06-16T15:06:16.224457Z",
     "shell.execute_reply.started": "2021-06-16T15:06:15.985498Z"
    }
   },
   "outputs": [
    {
     "name": "stdout",
     "output_type": "stream",
     "text": [
      "mascots\n",
      "mbb_games_sr\n",
      "mbb_historical_teams_games\n",
      "mbb_historical_teams_seasons\n",
      "mbb_historical_tournament_games\n",
      "mbb_pbp_sr\n",
      "mbb_players_games_sr\n",
      "mbb_teams\n",
      "mbb_teams_games_sr\n",
      "team_colors\n"
     ]
    }
   ],
   "source": [
    "# Make sure we have the correct database\n",
    "tables = list(client.list_tables(dataset))\n",
    "for table in tables:  \n",
    "    print(table.table_id)"
   ]
  },
  {
   "cell_type": "markdown",
   "metadata": {},
   "source": [
    "# Wisconsin's Historical Performance\n",
    "In this notebook, I'll be analyzing the following tables that relate to Wisconsin's historical performance:\n",
    "- mbb_historical_teams_seasons - historical season data (1894/1895-present)\n",
    "- mbb_historical_teams_games - final scores, one entry per team per game (1996/1997-present)\n",
    "- mbb_historical_tournament_games - historical data about tournament games (1984/1985-present)\n",
    "\n",
    "Note: Wisconsin Team Code = 796"
   ]
  },
  {
   "cell_type": "code",
   "execution_count": 4,
   "metadata": {
    "execution": {
     "iopub.execute_input": "2021-06-16T15:06:16.227721Z",
     "iopub.status.busy": "2021-06-16T15:06:16.227271Z",
     "iopub.status.idle": "2021-06-16T15:06:16.232619Z",
     "shell.execute_reply": "2021-06-16T15:06:16.231196Z",
     "shell.execute_reply.started": "2021-06-16T15:06:16.227674Z"
    }
   },
   "outputs": [],
   "source": [
    "# # Insert this code after query to check data usage\n",
    "# dry_run_config = bigquery.QueryJobConfig(dry_run=True)\n",
    "# dry_run_query_job = client.query(query, job_config=dry_run_config)\n",
    "# print(\"This query will process {} bytes.\".format(dry_run_query_job.total_bytes_processed))"
   ]
  },
  {
   "cell_type": "code",
   "execution_count": 5,
   "metadata": {
    "execution": {
     "iopub.execute_input": "2021-06-16T15:06:16.234308Z",
     "iopub.status.busy": "2021-06-16T15:06:16.233952Z",
     "iopub.status.idle": "2021-06-16T15:06:16.479005Z",
     "shell.execute_reply": "2021-06-16T15:06:16.477938Z",
     "shell.execute_reply.started": "2021-06-16T15:06:16.234274Z"
    }
   },
   "outputs": [],
   "source": [
    "# Select the historical team seasons table\n",
    "table_ref = dataset_ref.table(\"mbb_historical_teams_seasons\")\n",
    "table = client.get_table(table_ref)"
   ]
  },
  {
   "cell_type": "code",
   "execution_count": 6,
   "metadata": {
    "execution": {
     "iopub.execute_input": "2021-06-16T15:06:16.480615Z",
     "iopub.status.busy": "2021-06-16T15:06:16.480296Z",
     "iopub.status.idle": "2021-06-16T15:06:16.489751Z",
     "shell.execute_reply": "2021-06-16T15:06:16.488588Z",
     "shell.execute_reply.started": "2021-06-16T15:06:16.480586Z"
    }
   },
   "outputs": [
    {
     "data": {
      "text/plain": [
       "[SchemaField('season', 'INTEGER', 'NULLABLE', 'Season the game was played in', (), None),\n",
       " SchemaField('market', 'STRING', 'NULLABLE', 'Team school name (using Sportradar names)', (), None),\n",
       " SchemaField('name', 'STRING', 'NULLABLE', 'Team name', (), None),\n",
       " SchemaField('team_code', 'INTEGER', 'NULLABLE', 'School code (see http://stats.ncaa.org/game_upload/team_codes)', (), None),\n",
       " SchemaField('team_id', 'STRING', 'NULLABLE', 'Sportradar team ID', (), None),\n",
       " SchemaField('alias', 'STRING', 'NULLABLE', 'Team alias', (), None),\n",
       " SchemaField('division', 'INTEGER', 'NULLABLE', 'The division the team played in at this time of this season', (), None),\n",
       " SchemaField('current_division', 'STRING', 'NULLABLE', 'The division the team currently plays in', (), None),\n",
       " SchemaField('wins', 'INTEGER', 'NULLABLE', 'Number of wins in this season', (), None),\n",
       " SchemaField('losses', 'INTEGER', 'NULLABLE', 'Number of losses in this season', (), None),\n",
       " SchemaField('ties', 'INTEGER', 'NULLABLE', 'Number of ties in this season', (), None)]"
      ]
     },
     "execution_count": 6,
     "metadata": {},
     "output_type": "execute_result"
    }
   ],
   "source": [
    "# Check layout of historical team seasons table\n",
    "table.schema"
   ]
  },
  {
   "cell_type": "code",
   "execution_count": 7,
   "metadata": {
    "execution": {
     "iopub.execute_input": "2021-06-16T15:06:16.491491Z",
     "iopub.status.busy": "2021-06-16T15:06:16.491189Z",
     "iopub.status.idle": "2021-06-16T15:06:16.853303Z",
     "shell.execute_reply": "2021-06-16T15:06:16.852014Z",
     "shell.execute_reply.started": "2021-06-16T15:06:16.491462Z"
    }
   },
   "outputs": [
    {
     "name": "stderr",
     "output_type": "stream",
     "text": [
      "/opt/conda/lib/python3.7/site-packages/ipykernel_launcher.py:2: UserWarning: Cannot use bqstorage_client if max_results is set, reverting to fetching data with the tabledata.list endpoint.\n",
      "  \n"
     ]
    },
    {
     "data": {
      "text/html": [
       "<div>\n",
       "<style scoped>\n",
       "    .dataframe tbody tr th:only-of-type {\n",
       "        vertical-align: middle;\n",
       "    }\n",
       "\n",
       "    .dataframe tbody tr th {\n",
       "        vertical-align: top;\n",
       "    }\n",
       "\n",
       "    .dataframe thead th {\n",
       "        text-align: right;\n",
       "    }\n",
       "</style>\n",
       "<table border=\"1\" class=\"dataframe\">\n",
       "  <thead>\n",
       "    <tr style=\"text-align: right;\">\n",
       "      <th></th>\n",
       "      <th>season</th>\n",
       "      <th>market</th>\n",
       "      <th>name</th>\n",
       "      <th>team_code</th>\n",
       "      <th>team_id</th>\n",
       "      <th>alias</th>\n",
       "      <th>division</th>\n",
       "      <th>current_division</th>\n",
       "      <th>wins</th>\n",
       "      <th>losses</th>\n",
       "      <th>ties</th>\n",
       "    </tr>\n",
       "  </thead>\n",
       "  <tbody>\n",
       "    <tr>\n",
       "      <th>0</th>\n",
       "      <td>1956</td>\n",
       "      <td>None</td>\n",
       "      <td>None</td>\n",
       "      <td>296</td>\n",
       "      <td>None</td>\n",
       "      <td>None</td>\n",
       "      <td>1</td>\n",
       "      <td>None</td>\n",
       "      <td>0</td>\n",
       "      <td>0</td>\n",
       "      <td>0</td>\n",
       "    </tr>\n",
       "    <tr>\n",
       "      <th>1</th>\n",
       "      <td>1903</td>\n",
       "      <td>None</td>\n",
       "      <td>None</td>\n",
       "      <td>137</td>\n",
       "      <td>None</td>\n",
       "      <td>None</td>\n",
       "      <td>1</td>\n",
       "      <td>None</td>\n",
       "      <td>7</td>\n",
       "      <td>0</td>\n",
       "      <td>0</td>\n",
       "    </tr>\n",
       "    <tr>\n",
       "      <th>2</th>\n",
       "      <td>1908</td>\n",
       "      <td>None</td>\n",
       "      <td>None</td>\n",
       "      <td>137</td>\n",
       "      <td>None</td>\n",
       "      <td>None</td>\n",
       "      <td>1</td>\n",
       "      <td>None</td>\n",
       "      <td>12</td>\n",
       "      <td>0</td>\n",
       "      <td>0</td>\n",
       "    </tr>\n",
       "    <tr>\n",
       "      <th>3</th>\n",
       "      <td>2006</td>\n",
       "      <td>None</td>\n",
       "      <td>None</td>\n",
       "      <td>28593</td>\n",
       "      <td>None</td>\n",
       "      <td>None</td>\n",
       "      <td>1</td>\n",
       "      <td>None</td>\n",
       "      <td>0</td>\n",
       "      <td>0</td>\n",
       "      <td>0</td>\n",
       "    </tr>\n",
       "    <tr>\n",
       "      <th>4</th>\n",
       "      <td>1908</td>\n",
       "      <td>None</td>\n",
       "      <td>None</td>\n",
       "      <td>479</td>\n",
       "      <td>None</td>\n",
       "      <td>None</td>\n",
       "      <td>1</td>\n",
       "      <td>None</td>\n",
       "      <td>13</td>\n",
       "      <td>0</td>\n",
       "      <td>0</td>\n",
       "    </tr>\n",
       "  </tbody>\n",
       "</table>\n",
       "</div>"
      ],
      "text/plain": [
       "   season market  name  team_code team_id alias  division current_division  \\\n",
       "0    1956   None  None        296    None  None         1             None   \n",
       "1    1903   None  None        137    None  None         1             None   \n",
       "2    1908   None  None        137    None  None         1             None   \n",
       "3    2006   None  None      28593    None  None         1             None   \n",
       "4    1908   None  None        479    None  None         1             None   \n",
       "\n",
       "   wins  losses  ties  \n",
       "0     0       0     0  \n",
       "1     7       0     0  \n",
       "2    12       0     0  \n",
       "3     0       0     0  \n",
       "4    13       0     0  "
      ]
     },
     "execution_count": 7,
     "metadata": {},
     "output_type": "execute_result"
    }
   ],
   "source": [
    "# Some example records\n",
    "client.list_rows(table, max_results=5).to_dataframe()"
   ]
  },
  {
   "cell_type": "code",
   "execution_count": 8,
   "metadata": {
    "execution": {
     "iopub.execute_input": "2021-06-16T15:06:16.856483Z",
     "iopub.status.busy": "2021-06-16T15:06:16.856154Z",
     "iopub.status.idle": "2021-06-16T15:06:18.179888Z",
     "shell.execute_reply": "2021-06-16T15:06:18.178602Z",
     "shell.execute_reply.started": "2021-06-16T15:06:16.856452Z"
    }
   },
   "outputs": [
    {
     "name": "stdout",
     "output_type": "stream",
     "text": [
      "Using Kaggle's public dataset BigQuery integration.\n"
     ]
    },
    {
     "name": "stderr",
     "output_type": "stream",
     "text": [
      "/opt/conda/lib/python3.7/site-packages/google/cloud/bigquery/client.py:440: UserWarning: Cannot create BigQuery Storage client, the dependency google-cloud-bigquery-storage is not installed.\n",
      "  \"Cannot create BigQuery Storage client, the dependency \"\n"
     ]
    },
    {
     "data": {
      "text/html": [
       "<div>\n",
       "<style scoped>\n",
       "    .dataframe tbody tr th:only-of-type {\n",
       "        vertical-align: middle;\n",
       "    }\n",
       "\n",
       "    .dataframe tbody tr th {\n",
       "        vertical-align: top;\n",
       "    }\n",
       "\n",
       "    .dataframe thead th {\n",
       "        text-align: right;\n",
       "    }\n",
       "</style>\n",
       "<table border=\"1\" class=\"dataframe\">\n",
       "  <thead>\n",
       "    <tr style=\"text-align: right;\">\n",
       "      <th></th>\n",
       "      <th>season</th>\n",
       "      <th>market</th>\n",
       "      <th>division</th>\n",
       "      <th>current_division</th>\n",
       "      <th>gp</th>\n",
       "      <th>wins</th>\n",
       "      <th>losses</th>\n",
       "      <th>ties</th>\n",
       "      <th>win_pct</th>\n",
       "    </tr>\n",
       "  </thead>\n",
       "  <tbody>\n",
       "    <tr>\n",
       "      <th>0</th>\n",
       "      <td>2016</td>\n",
       "      <td>University of Wisconsin, Madison</td>\n",
       "      <td>1</td>\n",
       "      <td>D1</td>\n",
       "      <td>37</td>\n",
       "      <td>27</td>\n",
       "      <td>10</td>\n",
       "      <td>0</td>\n",
       "      <td>0.729730</td>\n",
       "    </tr>\n",
       "    <tr>\n",
       "      <th>1</th>\n",
       "      <td>2015</td>\n",
       "      <td>University of Wisconsin, Madison</td>\n",
       "      <td>1</td>\n",
       "      <td>D1</td>\n",
       "      <td>35</td>\n",
       "      <td>22</td>\n",
       "      <td>13</td>\n",
       "      <td>0</td>\n",
       "      <td>0.628571</td>\n",
       "    </tr>\n",
       "    <tr>\n",
       "      <th>2</th>\n",
       "      <td>2014</td>\n",
       "      <td>University of Wisconsin, Madison</td>\n",
       "      <td>1</td>\n",
       "      <td>D1</td>\n",
       "      <td>40</td>\n",
       "      <td>36</td>\n",
       "      <td>4</td>\n",
       "      <td>0</td>\n",
       "      <td>0.900000</td>\n",
       "    </tr>\n",
       "    <tr>\n",
       "      <th>3</th>\n",
       "      <td>2013</td>\n",
       "      <td>University of Wisconsin, Madison</td>\n",
       "      <td>1</td>\n",
       "      <td>D1</td>\n",
       "      <td>38</td>\n",
       "      <td>30</td>\n",
       "      <td>8</td>\n",
       "      <td>0</td>\n",
       "      <td>0.789474</td>\n",
       "    </tr>\n",
       "    <tr>\n",
       "      <th>4</th>\n",
       "      <td>2012</td>\n",
       "      <td>University of Wisconsin, Madison</td>\n",
       "      <td>1</td>\n",
       "      <td>D1</td>\n",
       "      <td>35</td>\n",
       "      <td>23</td>\n",
       "      <td>12</td>\n",
       "      <td>0</td>\n",
       "      <td>0.657143</td>\n",
       "    </tr>\n",
       "    <tr>\n",
       "      <th>...</th>\n",
       "      <td>...</td>\n",
       "      <td>...</td>\n",
       "      <td>...</td>\n",
       "      <td>...</td>\n",
       "      <td>...</td>\n",
       "      <td>...</td>\n",
       "      <td>...</td>\n",
       "      <td>...</td>\n",
       "      <td>...</td>\n",
       "    </tr>\n",
       "    <tr>\n",
       "      <th>114</th>\n",
       "      <td>1902</td>\n",
       "      <td>University of Wisconsin, Madison</td>\n",
       "      <td>1</td>\n",
       "      <td>D1</td>\n",
       "      <td>7</td>\n",
       "      <td>5</td>\n",
       "      <td>2</td>\n",
       "      <td>0</td>\n",
       "      <td>0.714286</td>\n",
       "    </tr>\n",
       "    <tr>\n",
       "      <th>115</th>\n",
       "      <td>1901</td>\n",
       "      <td>University of Wisconsin, Madison</td>\n",
       "      <td>1</td>\n",
       "      <td>D1</td>\n",
       "      <td>10</td>\n",
       "      <td>7</td>\n",
       "      <td>3</td>\n",
       "      <td>0</td>\n",
       "      <td>0.700000</td>\n",
       "    </tr>\n",
       "    <tr>\n",
       "      <th>116</th>\n",
       "      <td>1900</td>\n",
       "      <td>University of Wisconsin, Madison</td>\n",
       "      <td>1</td>\n",
       "      <td>D1</td>\n",
       "      <td>2</td>\n",
       "      <td>1</td>\n",
       "      <td>1</td>\n",
       "      <td>0</td>\n",
       "      <td>0.500000</td>\n",
       "    </tr>\n",
       "    <tr>\n",
       "      <th>117</th>\n",
       "      <td>1899</td>\n",
       "      <td>University of Wisconsin, Madison</td>\n",
       "      <td>1</td>\n",
       "      <td>D1</td>\n",
       "      <td>2</td>\n",
       "      <td>1</td>\n",
       "      <td>1</td>\n",
       "      <td>0</td>\n",
       "      <td>0.500000</td>\n",
       "    </tr>\n",
       "    <tr>\n",
       "      <th>118</th>\n",
       "      <td>1898</td>\n",
       "      <td>University of Wisconsin, Madison</td>\n",
       "      <td>1</td>\n",
       "      <td>D1</td>\n",
       "      <td>3</td>\n",
       "      <td>0</td>\n",
       "      <td>3</td>\n",
       "      <td>0</td>\n",
       "      <td>0.000000</td>\n",
       "    </tr>\n",
       "  </tbody>\n",
       "</table>\n",
       "<p>119 rows × 9 columns</p>\n",
       "</div>"
      ],
      "text/plain": [
       "     season                            market  division current_division  gp  \\\n",
       "0      2016  University of Wisconsin, Madison         1               D1  37   \n",
       "1      2015  University of Wisconsin, Madison         1               D1  35   \n",
       "2      2014  University of Wisconsin, Madison         1               D1  40   \n",
       "3      2013  University of Wisconsin, Madison         1               D1  38   \n",
       "4      2012  University of Wisconsin, Madison         1               D1  35   \n",
       "..      ...                               ...       ...              ...  ..   \n",
       "114    1902  University of Wisconsin, Madison         1               D1   7   \n",
       "115    1901  University of Wisconsin, Madison         1               D1  10   \n",
       "116    1900  University of Wisconsin, Madison         1               D1   2   \n",
       "117    1899  University of Wisconsin, Madison         1               D1   2   \n",
       "118    1898  University of Wisconsin, Madison         1               D1   3   \n",
       "\n",
       "     wins  losses  ties   win_pct  \n",
       "0      27      10     0  0.729730  \n",
       "1      22      13     0  0.628571  \n",
       "2      36       4     0  0.900000  \n",
       "3      30       8     0  0.789474  \n",
       "4      23      12     0  0.657143  \n",
       "..    ...     ...   ...       ...  \n",
       "114     5       2     0  0.714286  \n",
       "115     7       3     0  0.700000  \n",
       "116     1       1     0  0.500000  \n",
       "117     1       1     0  0.500000  \n",
       "118     0       3     0  0.000000  \n",
       "\n",
       "[119 rows x 9 columns]"
      ]
     },
     "execution_count": 8,
     "metadata": {},
     "output_type": "execute_result"
    }
   ],
   "source": [
    "# Query Wisconsin season information\n",
    "query = \"\"\"\n",
    "        SELECT\n",
    "            season,\n",
    "            market,\n",
    "            division,\n",
    "            current_division,\n",
    "            wins+losses+ties as gp,\n",
    "            wins,\n",
    "            losses,\n",
    "            ties,\n",
    "            wins/(wins+losses+ties) as win_pct\n",
    "        FROM `bigquery-public-data.ncaa_basketball.mbb_historical_teams_seasons`\n",
    "        WHERE team_code = 796\n",
    "        ORDER BY season DESC\n",
    "        \"\"\"\n",
    "\n",
    "client = bigquery.Client()\n",
    "query_job = client.query(query)\n",
    "wisc = query_job.to_dataframe()\n",
    "wisc"
   ]
  },
  {
   "cell_type": "code",
   "execution_count": 9,
   "metadata": {
    "execution": {
     "iopub.execute_input": "2021-06-16T15:06:18.183158Z",
     "iopub.status.busy": "2021-06-16T15:06:18.182647Z",
     "iopub.status.idle": "2021-06-16T15:06:18.189062Z",
     "shell.execute_reply": "2021-06-16T15:06:18.187918Z",
     "shell.execute_reply.started": "2021-06-16T15:06:18.183107Z"
    }
   },
   "outputs": [],
   "source": [
    "# Set index to the year variable\n",
    "wisc.set_index('season', inplace=True)"
   ]
  },
  {
   "cell_type": "code",
   "execution_count": 10,
   "metadata": {
    "execution": {
     "iopub.execute_input": "2021-06-16T15:06:18.190880Z",
     "iopub.status.busy": "2021-06-16T15:06:18.190486Z",
     "iopub.status.idle": "2021-06-16T15:06:18.206615Z",
     "shell.execute_reply": "2021-06-16T15:06:18.205359Z",
     "shell.execute_reply.started": "2021-06-16T15:06:18.190831Z"
    }
   },
   "outputs": [
    {
     "name": "stdout",
     "output_type": "stream",
     "text": [
      "Maximum wins: 36\n",
      "Minimum wins: 0\n",
      "Average win percentage: 56.62\n",
      "Maximum win percentage 100.00\n"
     ]
    }
   ],
   "source": [
    "# Let's look at the data a bit\n",
    "max_wins = wisc['wins'].max()\n",
    "min_wins = wisc['wins'].min()\n",
    "avg_wpct = wisc['win_pct'].mean()*100\n",
    "max_wpct = wisc['win_pct'].max()*100\n",
    "print('Maximum wins: {0}\\nMinimum wins: {1}'.format(max_wins, min_wins))\n",
    "print('Average win percentage: {0:0.2f}\\nMaximum win percentage {1:0.2f}'.format(avg_wpct, max_wpct))"
   ]
  },
  {
   "cell_type": "code",
   "execution_count": 11,
   "metadata": {
    "execution": {
     "iopub.execute_input": "2021-06-16T15:06:18.208414Z",
     "iopub.status.busy": "2021-06-16T15:06:18.208085Z",
     "iopub.status.idle": "2021-06-16T15:06:18.233757Z",
     "shell.execute_reply": "2021-06-16T15:06:18.232195Z",
     "shell.execute_reply.started": "2021-06-16T15:06:18.208376Z"
    }
   },
   "outputs": [
    {
     "data": {
      "text/html": [
       "<div>\n",
       "<style scoped>\n",
       "    .dataframe tbody tr th:only-of-type {\n",
       "        vertical-align: middle;\n",
       "    }\n",
       "\n",
       "    .dataframe tbody tr th {\n",
       "        vertical-align: top;\n",
       "    }\n",
       "\n",
       "    .dataframe thead th {\n",
       "        text-align: right;\n",
       "    }\n",
       "</style>\n",
       "<table border=\"1\" class=\"dataframe\">\n",
       "  <thead>\n",
       "    <tr style=\"text-align: right;\">\n",
       "      <th></th>\n",
       "      <th>market</th>\n",
       "      <th>division</th>\n",
       "      <th>current_division</th>\n",
       "      <th>gp</th>\n",
       "      <th>wins</th>\n",
       "      <th>losses</th>\n",
       "      <th>ties</th>\n",
       "      <th>win_pct</th>\n",
       "    </tr>\n",
       "    <tr>\n",
       "      <th>season</th>\n",
       "      <th></th>\n",
       "      <th></th>\n",
       "      <th></th>\n",
       "      <th></th>\n",
       "      <th></th>\n",
       "      <th></th>\n",
       "      <th></th>\n",
       "      <th></th>\n",
       "    </tr>\n",
       "  </thead>\n",
       "  <tbody>\n",
       "    <tr>\n",
       "      <th>1913</th>\n",
       "      <td>University of Wisconsin, Madison</td>\n",
       "      <td>1</td>\n",
       "      <td>D1</td>\n",
       "      <td>15</td>\n",
       "      <td>15</td>\n",
       "      <td>0</td>\n",
       "      <td>0</td>\n",
       "      <td>1.0</td>\n",
       "    </tr>\n",
       "    <tr>\n",
       "      <th>1911</th>\n",
       "      <td>University of Wisconsin, Madison</td>\n",
       "      <td>1</td>\n",
       "      <td>D1</td>\n",
       "      <td>15</td>\n",
       "      <td>15</td>\n",
       "      <td>0</td>\n",
       "      <td>0</td>\n",
       "      <td>1.0</td>\n",
       "    </tr>\n",
       "  </tbody>\n",
       "</table>\n",
       "</div>"
      ],
      "text/plain": [
       "                                  market  division current_division  gp  wins  \\\n",
       "season                                                                          \n",
       "1913    University of Wisconsin, Madison         1               D1  15    15   \n",
       "1911    University of Wisconsin, Madison         1               D1  15    15   \n",
       "\n",
       "        losses  ties  win_pct  \n",
       "season                         \n",
       "1913         0     0      1.0  \n",
       "1911         0     0      1.0  "
      ]
     },
     "execution_count": 11,
     "metadata": {},
     "output_type": "execute_result"
    }
   ],
   "source": [
    "# What were the undefeated seasons?\n",
    "wisc[wisc.win_pct==1]"
   ]
  },
  {
   "cell_type": "code",
   "execution_count": 12,
   "metadata": {
    "execution": {
     "iopub.execute_input": "2021-06-16T15:06:18.236119Z",
     "iopub.status.busy": "2021-06-16T15:06:18.235601Z",
     "iopub.status.idle": "2021-06-16T15:06:18.581609Z",
     "shell.execute_reply": "2021-06-16T15:06:18.580422Z",
     "shell.execute_reply.started": "2021-06-16T15:06:18.236069Z"
    }
   },
   "outputs": [
    {
     "data": {
      "image/png": "[encoded data removed]",
      "text/plain": [
       "<Figure size 432x288 with 1 Axes>"
      ]
     },
     "metadata": {
      "needs_background": "light"
     },
     "output_type": "display_data"
    }
   ],
   "source": [
    "# It looks like they didn't play much in the early days\n",
    "# How have games played changed over time?\n",
    "fig, ax = plt.subplots()\n",
    "ax.plot(wisc.index, wisc['gp'])\n",
    "\n",
    "ax.set_title('Wisconsin games per season')\n",
    "ax.set_xlabel('Year')\n",
    "ax.set_ylabel('Games played')\n",
    "\n",
    "ax.spines['top'].set_visible(False)\n",
    "ax.spines['right'].set_visible(False)\n",
    "\n",
    "plt.savefig('games_played.pdf', bbox_inches='tight')\n",
    "plt.show()"
   ]
  },
  {
   "cell_type": "code",
   "execution_count": 13,
   "metadata": {
    "execution": {
     "iopub.execute_input": "2021-06-16T15:06:18.583703Z",
     "iopub.status.busy": "2021-06-16T15:06:18.583219Z",
     "iopub.status.idle": "2021-06-16T15:06:18.590230Z",
     "shell.execute_reply": "2021-06-16T15:06:18.588502Z",
     "shell.execute_reply.started": "2021-06-16T15:06:18.583654Z"
    }
   },
   "outputs": [],
   "source": [
    "# Let's look at records from 1970 onwards\n",
    "wisc = wisc[wisc.index >= 1970]"
   ]
  },
  {
   "cell_type": "code",
   "execution_count": 14,
   "metadata": {
    "execution": {
     "iopub.execute_input": "2021-06-16T15:06:18.592820Z",
     "iopub.status.busy": "2021-06-16T15:06:18.592124Z",
     "iopub.status.idle": "2021-06-16T15:06:18.607051Z",
     "shell.execute_reply": "2021-06-16T15:06:18.605552Z",
     "shell.execute_reply.started": "2021-06-16T15:06:18.592607Z"
    }
   },
   "outputs": [
    {
     "name": "stdout",
     "output_type": "stream",
     "text": [
      "Maximum wins: 36\n",
      "Minimum wins: 0\n",
      "Average win percentage: 54.28\n",
      "Maximum win percentage 90.00\n"
     ]
    }
   ],
   "source": [
    "# Let's see the revised numbers\n",
    "max_wins = wisc['wins'].max()\n",
    "min_wins = wisc['wins'].min()\n",
    "avg_wpct = wisc['win_pct'].mean()*100\n",
    "max_wpct = wisc['win_pct'].max()*100\n",
    "print('Maximum wins: {0}\\nMinimum wins: {1}'.format(max_wins, min_wins))\n",
    "print('Average win percentage: {0:0.2f}\\nMaximum win percentage {1:0.2f}'.format(avg_wpct, max_wpct))"
   ]
  },
  {
   "cell_type": "code",
   "execution_count": 15,
   "metadata": {
    "execution": {
     "iopub.execute_input": "2021-06-16T15:06:18.609653Z",
     "iopub.status.busy": "2021-06-16T15:06:18.609167Z",
     "iopub.status.idle": "2021-06-16T15:06:18.633186Z",
     "shell.execute_reply": "2021-06-16T15:06:18.632368Z",
     "shell.execute_reply.started": "2021-06-16T15:06:18.609604Z"
    }
   },
   "outputs": [
    {
     "data": {
      "text/html": [
       "<div>\n",
       "<style scoped>\n",
       "    .dataframe tbody tr th:only-of-type {\n",
       "        vertical-align: middle;\n",
       "    }\n",
       "\n",
       "    .dataframe tbody tr th {\n",
       "        vertical-align: top;\n",
       "    }\n",
       "\n",
       "    .dataframe thead th {\n",
       "        text-align: right;\n",
       "    }\n",
       "</style>\n",
       "<table border=\"1\" class=\"dataframe\">\n",
       "  <thead>\n",
       "    <tr style=\"text-align: right;\">\n",
       "      <th></th>\n",
       "      <th>market</th>\n",
       "      <th>division</th>\n",
       "      <th>current_division</th>\n",
       "      <th>gp</th>\n",
       "      <th>wins</th>\n",
       "      <th>losses</th>\n",
       "      <th>ties</th>\n",
       "      <th>win_pct</th>\n",
       "    </tr>\n",
       "    <tr>\n",
       "      <th>season</th>\n",
       "      <th></th>\n",
       "      <th></th>\n",
       "      <th></th>\n",
       "      <th></th>\n",
       "      <th></th>\n",
       "      <th></th>\n",
       "      <th></th>\n",
       "      <th></th>\n",
       "    </tr>\n",
       "  </thead>\n",
       "  <tbody>\n",
       "    <tr>\n",
       "      <th>1983</th>\n",
       "      <td>University of Wisconsin, Madison</td>\n",
       "      <td>1</td>\n",
       "      <td>D1</td>\n",
       "      <td>28</td>\n",
       "      <td>0</td>\n",
       "      <td>28</td>\n",
       "      <td>0</td>\n",
       "      <td>0.0</td>\n",
       "    </tr>\n",
       "    <tr>\n",
       "      <th>1982</th>\n",
       "      <td>University of Wisconsin, Madison</td>\n",
       "      <td>1</td>\n",
       "      <td>D1</td>\n",
       "      <td>28</td>\n",
       "      <td>0</td>\n",
       "      <td>28</td>\n",
       "      <td>0</td>\n",
       "      <td>0.0</td>\n",
       "    </tr>\n",
       "  </tbody>\n",
       "</table>\n",
       "</div>"
      ],
      "text/plain": [
       "                                  market  division current_division  gp  wins  \\\n",
       "season                                                                          \n",
       "1983    University of Wisconsin, Madison         1               D1  28     0   \n",
       "1982    University of Wisconsin, Madison         1               D1  28     0   \n",
       "\n",
       "        losses  ties  win_pct  \n",
       "season                         \n",
       "1983        28     0      0.0  \n",
       "1982        28     0      0.0  "
      ]
     },
     "execution_count": 15,
     "metadata": {},
     "output_type": "execute_result"
    }
   ],
   "source": [
    "# Still at least one zero win season, let's see it\n",
    "wisc[wisc.wins==0]"
   ]
  },
  {
   "cell_type": "code",
   "execution_count": 16,
   "metadata": {
    "execution": {
     "iopub.execute_input": "2021-06-16T15:06:18.634881Z",
     "iopub.status.busy": "2021-06-16T15:06:18.634556Z",
     "iopub.status.idle": "2021-06-16T15:06:18.893431Z",
     "shell.execute_reply": "2021-06-16T15:06:18.892386Z",
     "shell.execute_reply.started": "2021-06-16T15:06:18.634838Z"
    }
   },
   "outputs": [
    {
     "data": {
      "image/png": "[encoded data removed]",
      "text/plain": [
       "<Figure size 432x288 with 1 Axes>"
      ]
     },
     "metadata": {
      "needs_background": "light"
     },
     "output_type": "display_data"
    }
   ],
   "source": [
    "# How has Wisconsin's winning percentage changed over time?\n",
    "fig, ax = plt.subplots()\n",
    "ax.plot(wisc.index, wisc['win_pct'])\n",
    "\n",
    "ax.set_title('Wisconsin Win Percentage')\n",
    "ax.set_xlabel('Year')\n",
    "ax.set_ylabel('Win Percentage')\n",
    "\n",
    "ax.spines['top'].set_visible(False)\n",
    "ax.spines['right'].set_visible(False)\n",
    "\n",
    "plt.savefig('win_pct.pdf', bbox_inches='tight')\n",
    "plt.show()"
   ]
  },
  {
   "cell_type": "code",
   "execution_count": 17,
   "metadata": {
    "execution": {
     "iopub.execute_input": "2021-06-16T15:06:18.894980Z",
     "iopub.status.busy": "2021-06-16T15:06:18.894664Z",
     "iopub.status.idle": "2021-06-16T15:06:19.116687Z",
     "shell.execute_reply": "2021-06-16T15:06:19.115939Z",
     "shell.execute_reply.started": "2021-06-16T15:06:18.894948Z"
    }
   },
   "outputs": [],
   "source": [
    "# Select the historical team games table\n",
    "table_ref = dataset_ref.table(\"mbb_historical_teams_games\")\n",
    "table = client.get_table(table_ref)"
   ]
  },
  {
   "cell_type": "code",
   "execution_count": 18,
   "metadata": {
    "execution": {
     "iopub.execute_input": "2021-06-16T15:06:19.118068Z",
     "iopub.status.busy": "2021-06-16T15:06:19.117709Z",
     "iopub.status.idle": "2021-06-16T15:06:19.124214Z",
     "shell.execute_reply": "2021-06-16T15:06:19.123189Z",
     "shell.execute_reply.started": "2021-06-16T15:06:19.118035Z"
    }
   },
   "outputs": [
    {
     "data": {
      "text/plain": [
       "[SchemaField('season', 'INTEGER', 'NULLABLE', '[Game data] Season the game was played in', (), None),\n",
       " SchemaField('scheduled_date', 'STRING', 'NULLABLE', '[Game data] Date the game was played', (), None),\n",
       " SchemaField('attendance', 'FLOAT', 'NULLABLE', '[Game data] Attendance of the game', (), None),\n",
       " SchemaField('market', 'STRING', 'NULLABLE', '[Team data] Team school name (using Sportradar names)', (), None),\n",
       " SchemaField('name', 'STRING', 'NULLABLE', '[Team data] Team name', (), None),\n",
       " SchemaField('team_code', 'STRING', 'NULLABLE', '[Team data] School code (see http://stats.ncaa.org/game_upload/team_codes)', (), None),\n",
       " SchemaField('team_id', 'STRING', 'NULLABLE', '[Team data] Sportradar team ID', (), None),\n",
       " SchemaField('alias', 'STRING', 'NULLABLE', '[Team data] Team alias', (), None),\n",
       " SchemaField('current_division', 'STRING', 'NULLABLE', '[Team data] The division the team currently plays in', (), None),\n",
       " SchemaField('points_game', 'INTEGER', 'NULLABLE', '[Game data] Points scored by team', (), None),\n",
       " SchemaField('win', 'BOOLEAN', 'NULLABLE', '[Game data] Whether the team won the game', (), None),\n",
       " SchemaField('opp_market', 'STRING', 'NULLABLE', '[Opponent data] Opponent school name (using Sportradar names)', (), None),\n",
       " SchemaField('opp_name', 'STRING', 'NULLABLE', '[Opponent data] Opponent name', (), None),\n",
       " SchemaField('opp_code', 'INTEGER', 'NULLABLE', '[Opponent data] Opponent school code (see http://stats.ncaa.org/game_upload/team_codes)', (), None),\n",
       " SchemaField('opp_id', 'STRING', 'NULLABLE', '[Opponent data] Opponent school ID (using Sportradar IDs)', (), None),\n",
       " SchemaField('opp_alias', 'STRING', 'NULLABLE', '[Opponent data] Opponent alias', (), None),\n",
       " SchemaField('opp_current_division', 'STRING', 'NULLABLE', '[Opponent data] The division the opponent currently plays in', (), None),\n",
       " SchemaField('opp_points_game', 'INTEGER', 'NULLABLE', '[Opponent data] Points scored by opponent', (), None)]"
      ]
     },
     "execution_count": 18,
     "metadata": {},
     "output_type": "execute_result"
    }
   ],
   "source": [
    "# Check layout of historical team games table\n",
    "table.schema"
   ]
  },
  {
   "cell_type": "code",
   "execution_count": 19,
   "metadata": {
    "execution": {
     "iopub.execute_input": "2021-06-16T15:06:19.126023Z",
     "iopub.status.busy": "2021-06-16T15:06:19.125513Z",
     "iopub.status.idle": "2021-06-16T15:06:19.629268Z",
     "shell.execute_reply": "2021-06-16T15:06:19.628441Z",
     "shell.execute_reply.started": "2021-06-16T15:06:19.125984Z"
    }
   },
   "outputs": [
    {
     "name": "stderr",
     "output_type": "stream",
     "text": [
      "/opt/conda/lib/python3.7/site-packages/ipykernel_launcher.py:2: UserWarning: Cannot use bqstorage_client if max_results is set, reverting to fetching data with the tabledata.list endpoint.\n",
      "  \n"
     ]
    },
    {
     "data": {
      "text/html": [
       "<div>\n",
       "<style scoped>\n",
       "    .dataframe tbody tr th:only-of-type {\n",
       "        vertical-align: middle;\n",
       "    }\n",
       "\n",
       "    .dataframe tbody tr th {\n",
       "        vertical-align: top;\n",
       "    }\n",
       "\n",
       "    .dataframe thead th {\n",
       "        text-align: right;\n",
       "    }\n",
       "</style>\n",
       "<table border=\"1\" class=\"dataframe\">\n",
       "  <thead>\n",
       "    <tr style=\"text-align: right;\">\n",
       "      <th></th>\n",
       "      <th>season</th>\n",
       "      <th>scheduled_date</th>\n",
       "      <th>attendance</th>\n",
       "      <th>market</th>\n",
       "      <th>name</th>\n",
       "      <th>team_code</th>\n",
       "      <th>team_id</th>\n",
       "      <th>alias</th>\n",
       "      <th>current_division</th>\n",
       "      <th>points_game</th>\n",
       "      <th>win</th>\n",
       "      <th>opp_market</th>\n",
       "      <th>opp_name</th>\n",
       "      <th>opp_code</th>\n",
       "      <th>opp_id</th>\n",
       "      <th>opp_alias</th>\n",
       "      <th>opp_current_division</th>\n",
       "      <th>opp_points_game</th>\n",
       "    </tr>\n",
       "  </thead>\n",
       "  <tbody>\n",
       "    <tr>\n",
       "      <th>0</th>\n",
       "      <td>1997</td>\n",
       "      <td>None</td>\n",
       "      <td>NaN</td>\n",
       "      <td>University of Evansville</td>\n",
       "      <td>Aces</td>\n",
       "      <td>219</td>\n",
       "      <td>d8217105-e9c2-4267-9538-3aaeea1ae167</td>\n",
       "      <td>d8217105-e9c2-4267-9538-3aaeea1ae167</td>\n",
       "      <td>None</td>\n",
       "      <td>80</td>\n",
       "      <td>True</td>\n",
       "      <td>None</td>\n",
       "      <td>None</td>\n",
       "      <td>24361</td>\n",
       "      <td>None</td>\n",
       "      <td>None</td>\n",
       "      <td>None</td>\n",
       "      <td>46</td>\n",
       "    </tr>\n",
       "    <tr>\n",
       "      <th>1</th>\n",
       "      <td>2000</td>\n",
       "      <td>None</td>\n",
       "      <td>0.0</td>\n",
       "      <td>University of Evansville</td>\n",
       "      <td>Aces</td>\n",
       "      <td>219</td>\n",
       "      <td>d8217105-e9c2-4267-9538-3aaeea1ae167</td>\n",
       "      <td>d8217105-e9c2-4267-9538-3aaeea1ae167</td>\n",
       "      <td>None</td>\n",
       "      <td>83</td>\n",
       "      <td>True</td>\n",
       "      <td>None</td>\n",
       "      <td>None</td>\n",
       "      <td>24361</td>\n",
       "      <td>None</td>\n",
       "      <td>None</td>\n",
       "      <td>None</td>\n",
       "      <td>63</td>\n",
       "    </tr>\n",
       "    <tr>\n",
       "      <th>2</th>\n",
       "      <td>2007</td>\n",
       "      <td>15-DEC-07 12:00 AM</td>\n",
       "      <td>4583.0</td>\n",
       "      <td>University of Evansville</td>\n",
       "      <td>Aces</td>\n",
       "      <td>219</td>\n",
       "      <td>d8217105-e9c2-4267-9538-3aaeea1ae167</td>\n",
       "      <td>d8217105-e9c2-4267-9538-3aaeea1ae167</td>\n",
       "      <td>None</td>\n",
       "      <td>57</td>\n",
       "      <td>True</td>\n",
       "      <td>None</td>\n",
       "      <td>None</td>\n",
       "      <td>1115</td>\n",
       "      <td>None</td>\n",
       "      <td>None</td>\n",
       "      <td>None</td>\n",
       "      <td>44</td>\n",
       "    </tr>\n",
       "    <tr>\n",
       "      <th>3</th>\n",
       "      <td>1996</td>\n",
       "      <td>None</td>\n",
       "      <td>NaN</td>\n",
       "      <td>University of Evansville</td>\n",
       "      <td>Aces</td>\n",
       "      <td>219</td>\n",
       "      <td>d8217105-e9c2-4267-9538-3aaeea1ae167</td>\n",
       "      <td>d8217105-e9c2-4267-9538-3aaeea1ae167</td>\n",
       "      <td>D1</td>\n",
       "      <td>44</td>\n",
       "      <td>True</td>\n",
       "      <td>Iona College</td>\n",
       "      <td>Gaels</td>\n",
       "      <td>310</td>\n",
       "      <td>255c2a87-40c0-4989-bbb9-d286aac5d28e</td>\n",
       "      <td>IONA</td>\n",
       "      <td>D1</td>\n",
       "      <td>41</td>\n",
       "    </tr>\n",
       "    <tr>\n",
       "      <th>4</th>\n",
       "      <td>2000</td>\n",
       "      <td>None</td>\n",
       "      <td>0.0</td>\n",
       "      <td>University of Evansville</td>\n",
       "      <td>Aces</td>\n",
       "      <td>219</td>\n",
       "      <td>d8217105-e9c2-4267-9538-3aaeea1ae167</td>\n",
       "      <td>d8217105-e9c2-4267-9538-3aaeea1ae167</td>\n",
       "      <td>D1</td>\n",
       "      <td>66</td>\n",
       "      <td>True</td>\n",
       "      <td>Elon University</td>\n",
       "      <td>Phoenix</td>\n",
       "      <td>1068</td>\n",
       "      <td>8accb91e-6086-41b3-a420-7a82fa442365</td>\n",
       "      <td>ELON</td>\n",
       "      <td>D1</td>\n",
       "      <td>51</td>\n",
       "    </tr>\n",
       "  </tbody>\n",
       "</table>\n",
       "</div>"
      ],
      "text/plain": [
       "   season      scheduled_date  attendance                    market  name  \\\n",
       "0    1997                None         NaN  University of Evansville  Aces   \n",
       "1    2000                None         0.0  University of Evansville  Aces   \n",
       "2    2007  15-DEC-07 12:00 AM      4583.0  University of Evansville  Aces   \n",
       "3    1996                None         NaN  University of Evansville  Aces   \n",
       "4    2000                None         0.0  University of Evansville  Aces   \n",
       "\n",
       "  team_code                               team_id  \\\n",
       "0       219  d8217105-e9c2-4267-9538-3aaeea1ae167   \n",
       "1       219  d8217105-e9c2-4267-9538-3aaeea1ae167   \n",
       "2       219  d8217105-e9c2-4267-9538-3aaeea1ae167   \n",
       "3       219  d8217105-e9c2-4267-9538-3aaeea1ae167   \n",
       "4       219  d8217105-e9c2-4267-9538-3aaeea1ae167   \n",
       "\n",
       "                                  alias current_division  points_game   win  \\\n",
       "0  d8217105-e9c2-4267-9538-3aaeea1ae167             None           80  True   \n",
       "1  d8217105-e9c2-4267-9538-3aaeea1ae167             None           83  True   \n",
       "2  d8217105-e9c2-4267-9538-3aaeea1ae167             None           57  True   \n",
       "3  d8217105-e9c2-4267-9538-3aaeea1ae167               D1           44  True   \n",
       "4  d8217105-e9c2-4267-9538-3aaeea1ae167               D1           66  True   \n",
       "\n",
       "        opp_market opp_name  opp_code                                opp_id  \\\n",
       "0             None     None     24361                                  None   \n",
       "1             None     None     24361                                  None   \n",
       "2             None     None      1115                                  None   \n",
       "3     Iona College    Gaels       310  255c2a87-40c0-4989-bbb9-d286aac5d28e   \n",
       "4  Elon University  Phoenix      1068  8accb91e-6086-41b3-a420-7a82fa442365   \n",
       "\n",
       "  opp_alias opp_current_division  opp_points_game  \n",
       "0      None                 None               46  \n",
       "1      None                 None               63  \n",
       "2      None                 None               44  \n",
       "3      IONA                   D1               41  \n",
       "4      ELON                   D1               51  "
      ]
     },
     "execution_count": 19,
     "metadata": {},
     "output_type": "execute_result"
    }
   ],
   "source": [
    "# Some example records\n",
    "client.list_rows(table, max_results=5).to_dataframe()"
   ]
  },
  {
   "cell_type": "code",
   "execution_count": 20,
   "metadata": {
    "execution": {
     "iopub.execute_input": "2021-06-16T15:06:19.631059Z",
     "iopub.status.busy": "2021-06-16T15:06:19.630687Z",
     "iopub.status.idle": "2021-06-16T15:06:20.647316Z",
     "shell.execute_reply": "2021-06-16T15:06:20.646137Z",
     "shell.execute_reply.started": "2021-06-16T15:06:19.631023Z"
    }
   },
   "outputs": [
    {
     "name": "stdout",
     "output_type": "stream",
     "text": [
      "Using Kaggle's public dataset BigQuery integration.\n"
     ]
    },
    {
     "name": "stderr",
     "output_type": "stream",
     "text": [
      "/opt/conda/lib/python3.7/site-packages/google/cloud/bigquery/client.py:440: UserWarning: Cannot create BigQuery Storage client, the dependency google-cloud-bigquery-storage is not installed.\n",
      "  \"Cannot create BigQuery Storage client, the dependency \"\n"
     ]
    },
    {
     "data": {
      "text/html": [
       "<div>\n",
       "<style scoped>\n",
       "    .dataframe tbody tr th:only-of-type {\n",
       "        vertical-align: middle;\n",
       "    }\n",
       "\n",
       "    .dataframe tbody tr th {\n",
       "        vertical-align: top;\n",
       "    }\n",
       "\n",
       "    .dataframe thead th {\n",
       "        text-align: right;\n",
       "    }\n",
       "</style>\n",
       "<table border=\"1\" class=\"dataframe\">\n",
       "  <thead>\n",
       "    <tr style=\"text-align: right;\">\n",
       "      <th></th>\n",
       "      <th>market</th>\n",
       "      <th>opponent</th>\n",
       "      <th>wins</th>\n",
       "      <th>avg_attendance</th>\n",
       "      <th>avg_points_for</th>\n",
       "      <th>avg_points_against</th>\n",
       "    </tr>\n",
       "  </thead>\n",
       "  <tbody>\n",
       "    <tr>\n",
       "      <th>0</th>\n",
       "      <td>University of Wisconsin, Madison</td>\n",
       "      <td>Pennsylvania State University</td>\n",
       "      <td>31</td>\n",
       "      <td>12870.640000</td>\n",
       "      <td>68.741935</td>\n",
       "      <td>54.774194</td>\n",
       "    </tr>\n",
       "    <tr>\n",
       "      <th>1</th>\n",
       "      <td>University of Wisconsin, Madison</td>\n",
       "      <td>University of Minnesota, Twin Cities</td>\n",
       "      <td>28</td>\n",
       "      <td>14134.423077</td>\n",
       "      <td>68.464286</td>\n",
       "      <td>57.642857</td>\n",
       "    </tr>\n",
       "    <tr>\n",
       "      <th>2</th>\n",
       "      <td>University of Wisconsin, Madison</td>\n",
       "      <td>Northwestern University</td>\n",
       "      <td>28</td>\n",
       "      <td>11376.217391</td>\n",
       "      <td>67.000000</td>\n",
       "      <td>49.464286</td>\n",
       "    </tr>\n",
       "    <tr>\n",
       "      <th>3</th>\n",
       "      <td>University of Wisconsin, Madison</td>\n",
       "      <td>Indiana University, Bloomington</td>\n",
       "      <td>27</td>\n",
       "      <td>15838.923077</td>\n",
       "      <td>70.555556</td>\n",
       "      <td>58.666667</td>\n",
       "    </tr>\n",
       "    <tr>\n",
       "      <th>4</th>\n",
       "      <td>University of Wisconsin, Madison</td>\n",
       "      <td>University of Illinois, Champaign</td>\n",
       "      <td>26</td>\n",
       "      <td>15635.217391</td>\n",
       "      <td>69.230769</td>\n",
       "      <td>56.461538</td>\n",
       "    </tr>\n",
       "  </tbody>\n",
       "</table>\n",
       "</div>"
      ],
      "text/plain": [
       "                             market                              opponent  \\\n",
       "0  University of Wisconsin, Madison         Pennsylvania State University   \n",
       "1  University of Wisconsin, Madison  University of Minnesota, Twin Cities   \n",
       "2  University of Wisconsin, Madison               Northwestern University   \n",
       "3  University of Wisconsin, Madison       Indiana University, Bloomington   \n",
       "4  University of Wisconsin, Madison     University of Illinois, Champaign   \n",
       "\n",
       "   wins  avg_attendance  avg_points_for  avg_points_against  \n",
       "0    31    12870.640000       68.741935           54.774194  \n",
       "1    28    14134.423077       68.464286           57.642857  \n",
       "2    28    11376.217391       67.000000           49.464286  \n",
       "3    27    15838.923077       70.555556           58.666667  \n",
       "4    26    15635.217391       69.230769           56.461538  "
      ]
     },
     "execution_count": 20,
     "metadata": {},
     "output_type": "execute_result"
    }
   ],
   "source": [
    "# Who has Wisconsin beat the most?\n",
    "query = \"\"\"\n",
    "        SELECT\n",
    "            market,\n",
    "            opp_market as opponent,\n",
    "            COUNT(1) as wins,\n",
    "            AVG(attendance) as avg_attendance,\n",
    "            AVG(points_game) as avg_points_for,\n",
    "            AVG(opp_points_game) as avg_points_against\n",
    "        FROM `bigquery-public-data.ncaa_basketball.mbb_historical_teams_games`\n",
    "        WHERE team_code = \"796\" AND win = True\n",
    "        GROUP BY market, opponent\n",
    "        ORDER BY wins DESC\n",
    "        LIMIT 5\n",
    "        \"\"\"\n",
    "\n",
    "client = bigquery.Client()\n",
    "query_job = client.query(query)\n",
    "wisc = query_job.to_dataframe()\n",
    "wisc.head()"
   ]
  },
  {
   "cell_type": "code",
   "execution_count": 21,
   "metadata": {
    "execution": {
     "iopub.execute_input": "2021-06-16T15:06:20.649433Z",
     "iopub.status.busy": "2021-06-16T15:06:20.648964Z",
     "iopub.status.idle": "2021-06-16T15:06:21.684727Z",
     "shell.execute_reply": "2021-06-16T15:06:21.683914Z",
     "shell.execute_reply.started": "2021-06-16T15:06:20.649382Z"
    }
   },
   "outputs": [
    {
     "name": "stdout",
     "output_type": "stream",
     "text": [
      "Using Kaggle's public dataset BigQuery integration.\n"
     ]
    },
    {
     "name": "stderr",
     "output_type": "stream",
     "text": [
      "/opt/conda/lib/python3.7/site-packages/google/cloud/bigquery/client.py:440: UserWarning: Cannot create BigQuery Storage client, the dependency google-cloud-bigquery-storage is not installed.\n",
      "  \"Cannot create BigQuery Storage client, the dependency \"\n"
     ]
    },
    {
     "data": {
      "text/html": [
       "<div>\n",
       "<style scoped>\n",
       "    .dataframe tbody tr th:only-of-type {\n",
       "        vertical-align: middle;\n",
       "    }\n",
       "\n",
       "    .dataframe tbody tr th {\n",
       "        vertical-align: top;\n",
       "    }\n",
       "\n",
       "    .dataframe thead th {\n",
       "        text-align: right;\n",
       "    }\n",
       "</style>\n",
       "<table border=\"1\" class=\"dataframe\">\n",
       "  <thead>\n",
       "    <tr style=\"text-align: right;\">\n",
       "      <th></th>\n",
       "      <th>market</th>\n",
       "      <th>opponent</th>\n",
       "      <th>losses</th>\n",
       "      <th>avg_attendance</th>\n",
       "      <th>avg_points_for</th>\n",
       "      <th>avg_points_against</th>\n",
       "    </tr>\n",
       "  </thead>\n",
       "  <tbody>\n",
       "    <tr>\n",
       "      <th>0</th>\n",
       "      <td>University of Wisconsin, Madison</td>\n",
       "      <td>Michigan State University</td>\n",
       "      <td>26</td>\n",
       "      <td>10965.300000</td>\n",
       "      <td>52.846154</td>\n",
       "      <td>63.038462</td>\n",
       "    </tr>\n",
       "    <tr>\n",
       "      <th>1</th>\n",
       "      <td>University of Wisconsin, Madison</td>\n",
       "      <td>The Ohio State University</td>\n",
       "      <td>19</td>\n",
       "      <td>13616.066667</td>\n",
       "      <td>55.000000</td>\n",
       "      <td>63.210526</td>\n",
       "    </tr>\n",
       "    <tr>\n",
       "      <th>2</th>\n",
       "      <td>University of Wisconsin, Madison</td>\n",
       "      <td>Purdue University</td>\n",
       "      <td>17</td>\n",
       "      <td>12642.466667</td>\n",
       "      <td>59.176471</td>\n",
       "      <td>68.058824</td>\n",
       "    </tr>\n",
       "    <tr>\n",
       "      <th>3</th>\n",
       "      <td>University of Wisconsin, Madison</td>\n",
       "      <td>University of Illinois, Champaign</td>\n",
       "      <td>16</td>\n",
       "      <td>15799.750000</td>\n",
       "      <td>55.500000</td>\n",
       "      <td>64.687500</td>\n",
       "    </tr>\n",
       "    <tr>\n",
       "      <th>4</th>\n",
       "      <td>University of Wisconsin, Madison</td>\n",
       "      <td>University of Michigan</td>\n",
       "      <td>12</td>\n",
       "      <td>12588.500000</td>\n",
       "      <td>58.750000</td>\n",
       "      <td>68.250000</td>\n",
       "    </tr>\n",
       "  </tbody>\n",
       "</table>\n",
       "</div>"
      ],
      "text/plain": [
       "                             market                           opponent  \\\n",
       "0  University of Wisconsin, Madison          Michigan State University   \n",
       "1  University of Wisconsin, Madison          The Ohio State University   \n",
       "2  University of Wisconsin, Madison                  Purdue University   \n",
       "3  University of Wisconsin, Madison  University of Illinois, Champaign   \n",
       "4  University of Wisconsin, Madison             University of Michigan   \n",
       "\n",
       "   losses  avg_attendance  avg_points_for  avg_points_against  \n",
       "0      26    10965.300000       52.846154           63.038462  \n",
       "1      19    13616.066667       55.000000           63.210526  \n",
       "2      17    12642.466667       59.176471           68.058824  \n",
       "3      16    15799.750000       55.500000           64.687500  \n",
       "4      12    12588.500000       58.750000           68.250000  "
      ]
     },
     "execution_count": 21,
     "metadata": {},
     "output_type": "execute_result"
    }
   ],
   "source": [
    "# Who has Wisconsin lost to the most?\n",
    "\n",
    "query = \"\"\"\n",
    "        SELECT\n",
    "            market,\n",
    "            opp_market as opponent,\n",
    "            COUNT(1) as losses,\n",
    "            AVG(attendance) as avg_attendance,\n",
    "            AVG(points_game) as avg_points_for,\n",
    "            AVG(opp_points_game) as avg_points_against\n",
    "        FROM `bigquery-public-data.ncaa_basketball.mbb_historical_teams_games`\n",
    "        WHERE team_code = \"796\" AND win = False\n",
    "        GROUP BY market, opponent\n",
    "        ORDER BY losses DESC\n",
    "        LIMIT 5\n",
    "        \"\"\"\n",
    "\n",
    "client = bigquery.Client()\n",
    "query_job = client.query(query)\n",
    "wisc = query_job.to_dataframe()\n",
    "wisc.head()"
   ]
  },
  {
   "cell_type": "code",
   "execution_count": 22,
   "metadata": {
    "execution": {
     "iopub.execute_input": "2021-06-16T15:06:21.686422Z",
     "iopub.status.busy": "2021-06-16T15:06:21.686111Z",
     "iopub.status.idle": "2021-06-16T15:06:22.779671Z",
     "shell.execute_reply": "2021-06-16T15:06:22.778564Z",
     "shell.execute_reply.started": "2021-06-16T15:06:21.686393Z"
    }
   },
   "outputs": [
    {
     "name": "stdout",
     "output_type": "stream",
     "text": [
      "Using Kaggle's public dataset BigQuery integration.\n"
     ]
    },
    {
     "name": "stderr",
     "output_type": "stream",
     "text": [
      "/opt/conda/lib/python3.7/site-packages/google/cloud/bigquery/client.py:440: UserWarning: Cannot create BigQuery Storage client, the dependency google-cloud-bigquery-storage is not installed.\n",
      "  \"Cannot create BigQuery Storage client, the dependency \"\n"
     ]
    },
    {
     "data": {
      "text/html": [
       "<div>\n",
       "<style scoped>\n",
       "    .dataframe tbody tr th:only-of-type {\n",
       "        vertical-align: middle;\n",
       "    }\n",
       "\n",
       "    .dataframe tbody tr th {\n",
       "        vertical-align: top;\n",
       "    }\n",
       "\n",
       "    .dataframe thead th {\n",
       "        text-align: right;\n",
       "    }\n",
       "</style>\n",
       "<table border=\"1\" class=\"dataframe\">\n",
       "  <thead>\n",
       "    <tr style=\"text-align: right;\">\n",
       "      <th></th>\n",
       "      <th>season</th>\n",
       "      <th>avg_attendance</th>\n",
       "      <th>avg_points_for</th>\n",
       "      <th>avg_points_against</th>\n",
       "    </tr>\n",
       "  </thead>\n",
       "  <tbody>\n",
       "    <tr>\n",
       "      <th>0</th>\n",
       "      <td>2016</td>\n",
       "      <td>15033.837838</td>\n",
       "      <td>72.378378</td>\n",
       "      <td>62.378378</td>\n",
       "    </tr>\n",
       "    <tr>\n",
       "      <th>1</th>\n",
       "      <td>2015</td>\n",
       "      <td>16041.542857</td>\n",
       "      <td>67.800000</td>\n",
       "      <td>63.800000</td>\n",
       "    </tr>\n",
       "    <tr>\n",
       "      <th>2</th>\n",
       "      <td>2014</td>\n",
       "      <td>17777.875000</td>\n",
       "      <td>72.500000</td>\n",
       "      <td>58.175000</td>\n",
       "    </tr>\n",
       "    <tr>\n",
       "      <th>3</th>\n",
       "      <td>2013</td>\n",
       "      <td>16465.578947</td>\n",
       "      <td>73.500000</td>\n",
       "      <td>64.000000</td>\n",
       "    </tr>\n",
       "    <tr>\n",
       "      <th>4</th>\n",
       "      <td>2012</td>\n",
       "      <td>15452.771429</td>\n",
       "      <td>64.971429</td>\n",
       "      <td>55.942857</td>\n",
       "    </tr>\n",
       "  </tbody>\n",
       "</table>\n",
       "</div>"
      ],
      "text/plain": [
       "   season  avg_attendance  avg_points_for  avg_points_against\n",
       "0    2016    15033.837838       72.378378           62.378378\n",
       "1    2015    16041.542857       67.800000           63.800000\n",
       "2    2014    17777.875000       72.500000           58.175000\n",
       "3    2013    16465.578947       73.500000           64.000000\n",
       "4    2012    15452.771429       64.971429           55.942857"
      ]
     },
     "execution_count": 22,
     "metadata": {},
     "output_type": "execute_result"
    }
   ],
   "source": [
    "# Query Wisconsin season information\n",
    "query = \"\"\"\n",
    "        SELECT\n",
    "            season,\n",
    "            AVG(attendance) as avg_attendance,\n",
    "            AVG(points_game) as avg_points_for,\n",
    "            AVG(opp_points_game) as avg_points_against\n",
    "        FROM `bigquery-public-data.ncaa_basketball.mbb_historical_teams_games`\n",
    "        WHERE team_code = \"796\"\n",
    "        GROUP BY season\n",
    "        ORDER BY season DESC\n",
    "        \"\"\"\n",
    "\n",
    "client = bigquery.Client()\n",
    "query_job = client.query(query)\n",
    "wisc = query_job.to_dataframe()\n",
    "wisc.head()"
   ]
  },
  {
   "cell_type": "code",
   "execution_count": 23,
   "metadata": {
    "execution": {
     "iopub.execute_input": "2021-06-16T15:06:22.781780Z",
     "iopub.status.busy": "2021-06-16T15:06:22.781337Z",
     "iopub.status.idle": "2021-06-16T15:06:22.791647Z",
     "shell.execute_reply": "2021-06-16T15:06:22.790581Z",
     "shell.execute_reply.started": "2021-06-16T15:06:22.781734Z"
    }
   },
   "outputs": [
    {
     "name": "stdout",
     "output_type": "stream",
     "text": [
      "Average attendance: 13721.15\n",
      "Maximum attendance: 17777.88\n",
      "Average offense: 66.51\n",
      "Most points scored: 73.50\n",
      "Average defense: 58.93\n",
      "Least points allowed: 53.19\n"
     ]
    }
   ],
   "source": [
    "# Relevant season statistics\n",
    "att_avg = wisc['avg_attendance'].mean()\n",
    "att_max = wisc['avg_attendance'].max()\n",
    "off_avg = wisc['avg_points_for'].mean()\n",
    "off_max = wisc['avg_points_for'].max()\n",
    "def_avg = wisc['avg_points_against'].mean()\n",
    "def_min = wisc['avg_points_against'].min()\n",
    "print('Average attendance: {0:0.2f}\\nMaximum attendance: {1:0.2f}'.format(att_avg, att_max))\n",
    "print('Average offense: {0:0.2f}\\nMost points scored: {1:0.2f}'.format(off_avg, off_max))\n",
    "print('Average defense: {0:0.2f}\\nLeast points allowed: {1:0.2f}'.format(def_avg, def_min))"
   ]
  },
  {
   "cell_type": "code",
   "execution_count": 24,
   "metadata": {
    "execution": {
     "iopub.execute_input": "2021-06-16T15:06:22.793265Z",
     "iopub.status.busy": "2021-06-16T15:06:22.792936Z",
     "iopub.status.idle": "2021-06-16T15:06:23.107987Z",
     "shell.execute_reply": "2021-06-16T15:06:23.106796Z",
     "shell.execute_reply.started": "2021-06-16T15:06:22.793233Z"
    }
   },
   "outputs": [
    {
     "data": {
      "image/png": "[encoded data removed]",
      "text/plain": [
       "<Figure size 432x288 with 1 Axes>"
      ]
     },
     "metadata": {
      "needs_background": "light"
     },
     "output_type": "display_data"
    }
   ],
   "source": [
    "# How is Wisconsin's offense? How is Wisconsin's defense?\n",
    "\n",
    "fig, ax = plt.subplots()\n",
    "ax.plot(wisc.season, wisc['avg_points_for'], alpha=0.5, label='Points for')\n",
    "ax.plot(wisc.season, wisc['avg_points_against'], alpha=0.5, label='Points against')\n",
    "\n",
    "ax.legend(loc='lower right', frameon=False)\n",
    "ax.set_title('Wisconsin Offense and Defense')\n",
    "ax.set_xlabel('Year')\n",
    "ax.set_ylabel('Points')\n",
    "ax.set_xticks(range(1996, 2020, 4))\n",
    "\n",
    "ax.spines['top'].set_visible(False)\n",
    "ax.spines['right'].set_visible(False)\n",
    "\n",
    "plt.ylim([48,75])\n",
    "plt.savefig('win_points.pdf', bbox_inches='tight')\n",
    "plt.show()"
   ]
  },
  {
   "cell_type": "code",
   "execution_count": 25,
   "metadata": {
    "execution": {
     "iopub.execute_input": "2021-06-16T15:06:23.110247Z",
     "iopub.status.busy": "2021-06-16T15:06:23.109798Z",
     "iopub.status.idle": "2021-06-16T15:06:23.375690Z",
     "shell.execute_reply": "2021-06-16T15:06:23.374467Z",
     "shell.execute_reply.started": "2021-06-16T15:06:23.110196Z"
    }
   },
   "outputs": [
    {
     "data": {
      "image/png": "[encoded data removed]",
      "text/plain": [
       "<Figure size 432x288 with 1 Axes>"
      ]
     },
     "metadata": {
      "needs_background": "light"
     },
     "output_type": "display_data"
    }
   ],
   "source": [
    "# How has Wisconsin's attendance changed over time?\n",
    "wisc = wisc[wisc.season>=2001]\n",
    "\n",
    "fig, ax = plt.subplots()\n",
    "ax.plot(wisc.season, wisc.avg_attendance)\n",
    "\n",
    "ax.set_title('Wisconsin average attendances')\n",
    "ax.set_xlabel('Year')\n",
    "ax.set_ylabel('Attendance')\n",
    "ax.set_xticks(range(2000, 2020, 4))\n",
    "\n",
    "ax.spines['top'].set_visible(False)\n",
    "ax.spines['right'].set_visible(False)\n",
    "\n",
    "plt.savefig('attendance.pdf', bbox_inches='tight')\n",
    "plt.show()"
   ]
  },
  {
   "cell_type": "code",
   "execution_count": 26,
   "metadata": {
    "execution": {
     "iopub.execute_input": "2021-06-16T15:06:23.381251Z",
     "iopub.status.busy": "2021-06-16T15:06:23.380896Z",
     "iopub.status.idle": "2021-06-16T15:06:23.591616Z",
     "shell.execute_reply": "2021-06-16T15:06:23.590482Z",
     "shell.execute_reply.started": "2021-06-16T15:06:23.381218Z"
    }
   },
   "outputs": [],
   "source": [
    "# Select the historical tournament games table\n",
    "table_ref = dataset_ref.table(\"mbb_historical_tournament_games\")\n",
    "table = client.get_table(table_ref)"
   ]
  },
  {
   "cell_type": "code",
   "execution_count": 27,
   "metadata": {
    "execution": {
     "iopub.execute_input": "2021-06-16T15:06:23.594458Z",
     "iopub.status.busy": "2021-06-16T15:06:23.593973Z",
     "iopub.status.idle": "2021-06-16T15:06:23.602145Z",
     "shell.execute_reply": "2021-06-16T15:06:23.601052Z",
     "shell.execute_reply.started": "2021-06-16T15:06:23.594406Z"
    }
   },
   "outputs": [
    {
     "data": {
      "text/plain": [
       "[SchemaField('season', 'INTEGER', 'NULLABLE', 'Year the game was played in. Note that this is different from the \"season\" values in other tables here, which use academic year.', (), None),\n",
       " SchemaField('round', 'INTEGER', 'NULLABLE', 'Tournament round, indicated by the number of teams playing in that round', (), None),\n",
       " SchemaField('days_from_epoch', 'INTEGER', 'NULLABLE', 'Days from epoch, as defined in the Kaggle competition (https://www.kaggle.com/c/mens-machine-learning-competition-2018/data)', (), None),\n",
       " SchemaField('game_date', 'DATE', 'NULLABLE', 'Date the game was played', (), None),\n",
       " SchemaField('day', 'STRING', 'NULLABLE', 'Day of the week the game was played', (), None),\n",
       " SchemaField('win_seed', 'STRING', 'NULLABLE', 'Seed of the winning team', (), None),\n",
       " SchemaField('win_region', 'STRING', 'NULLABLE', 'Region of the winning team, as defined in the Kaggle competition (https://www.kaggle.com/c/mens-machine-learning-competition-2018/data)', (), None),\n",
       " SchemaField('win_market', 'STRING', 'NULLABLE', 'School name (using Sportradar names) of the winning team', (), None),\n",
       " SchemaField('win_name', 'STRING', 'NULLABLE', 'Team name of the winning team', (), None),\n",
       " SchemaField('win_alias', 'STRING', 'NULLABLE', 'Team alias of the winning team', (), None),\n",
       " SchemaField('win_team_id', 'STRING', 'NULLABLE', 'Sportradar team ID of the winning team', (), None),\n",
       " SchemaField('win_school_ncaa', 'STRING', 'NULLABLE', 'School name of the winning team (see http://stats.ncaa.org/game_upload/team_codes)', (), None),\n",
       " SchemaField('win_code_ncaa', 'INTEGER', 'NULLABLE', 'School code of the winning team (see http://stats.ncaa.org/game_upload/team_codes)', (), None),\n",
       " SchemaField('win_kaggle_team_id', 'INTEGER', 'NULLABLE', 'Kaggle team ID of the winning team', (), None),\n",
       " SchemaField('win_pts', 'INTEGER', 'NULLABLE', 'Points scored by the winning team', (), None),\n",
       " SchemaField('lose_seed', 'STRING', 'NULLABLE', 'Seed of the losing team', (), None),\n",
       " SchemaField('lose_region', 'STRING', 'NULLABLE', 'Region of the losing team, as defined in the Kaggle competition (https://www.kaggle.com/c/mens-machine-learning-competition-2018/data)', (), None),\n",
       " SchemaField('lose_market', 'STRING', 'NULLABLE', 'School name (using Sportradar names) of the losing team', (), None),\n",
       " SchemaField('lose_name', 'STRING', 'NULLABLE', 'Team name of the losing team', (), None),\n",
       " SchemaField('lose_alias', 'STRING', 'NULLABLE', 'Team alias of the losing team', (), None),\n",
       " SchemaField('lose_team_id', 'STRING', 'NULLABLE', 'Sportradar team ID of the losing team', (), None),\n",
       " SchemaField('lose_school_ncaa', 'STRING', 'NULLABLE', 'School name of the losing team (see http://stats.ncaa.org/game_upload/team_codes)', (), None),\n",
       " SchemaField('lose_code_ncaa', 'INTEGER', 'NULLABLE', 'School code of the losing team (see http://stats.ncaa.org/game_upload/team_codes)', (), None),\n",
       " SchemaField('lose_kaggle_team_id', 'INTEGER', 'NULLABLE', 'Kaggle team ID of the losing team', (), None),\n",
       " SchemaField('lose_pts', 'INTEGER', 'NULLABLE', 'Points scored by the losing team', (), None),\n",
       " SchemaField('num_ot', 'INTEGER', 'NULLABLE', 'Number of overtime periods played in the game', (), None),\n",
       " SchemaField('academic_year', 'INTEGER', 'NULLABLE', 'The academic year the game was played in', (), None)]"
      ]
     },
     "execution_count": 27,
     "metadata": {},
     "output_type": "execute_result"
    }
   ],
   "source": [
    "# Check layout of historical team games table\n",
    "table.schema"
   ]
  },
  {
   "cell_type": "code",
   "execution_count": 28,
   "metadata": {
    "execution": {
     "iopub.execute_input": "2021-06-16T15:06:23.603524Z",
     "iopub.status.busy": "2021-06-16T15:06:23.603235Z",
     "iopub.status.idle": "2021-06-16T15:06:23.934088Z",
     "shell.execute_reply": "2021-06-16T15:06:23.932940Z",
     "shell.execute_reply.started": "2021-06-16T15:06:23.603496Z"
    }
   },
   "outputs": [
    {
     "name": "stderr",
     "output_type": "stream",
     "text": [
      "/opt/conda/lib/python3.7/site-packages/ipykernel_launcher.py:2: UserWarning: Cannot use bqstorage_client if max_results is set, reverting to fetching data with the tabledata.list endpoint.\n",
      "  \n"
     ]
    },
    {
     "data": {
      "text/html": [
       "<div>\n",
       "<style scoped>\n",
       "    .dataframe tbody tr th:only-of-type {\n",
       "        vertical-align: middle;\n",
       "    }\n",
       "\n",
       "    .dataframe tbody tr th {\n",
       "        vertical-align: top;\n",
       "    }\n",
       "\n",
       "    .dataframe thead th {\n",
       "        text-align: right;\n",
       "    }\n",
       "</style>\n",
       "<table border=\"1\" class=\"dataframe\">\n",
       "  <thead>\n",
       "    <tr style=\"text-align: right;\">\n",
       "      <th></th>\n",
       "      <th>season</th>\n",
       "      <th>round</th>\n",
       "      <th>days_from_epoch</th>\n",
       "      <th>game_date</th>\n",
       "      <th>day</th>\n",
       "      <th>win_seed</th>\n",
       "      <th>win_region</th>\n",
       "      <th>win_market</th>\n",
       "      <th>win_name</th>\n",
       "      <th>win_alias</th>\n",
       "      <th>...</th>\n",
       "      <th>lose_market</th>\n",
       "      <th>lose_name</th>\n",
       "      <th>lose_alias</th>\n",
       "      <th>lose_team_id</th>\n",
       "      <th>lose_school_ncaa</th>\n",
       "      <th>lose_code_ncaa</th>\n",
       "      <th>lose_kaggle_team_id</th>\n",
       "      <th>lose_pts</th>\n",
       "      <th>num_ot</th>\n",
       "      <th>academic_year</th>\n",
       "    </tr>\n",
       "  </thead>\n",
       "  <tbody>\n",
       "    <tr>\n",
       "      <th>0</th>\n",
       "      <td>1994</td>\n",
       "      <td>16</td>\n",
       "      <td>8849</td>\n",
       "      <td>1994-03-25</td>\n",
       "      <td>Friday</td>\n",
       "      <td>09</td>\n",
       "      <td>W</td>\n",
       "      <td>Boston College</td>\n",
       "      <td>Eagles</td>\n",
       "      <td>BC</td>\n",
       "      <td>...</td>\n",
       "      <td>Indiana</td>\n",
       "      <td>Hoosiers</td>\n",
       "      <td>IND</td>\n",
       "      <td>c3f0a8ce-af67-497f-a750-3b859376b20a</td>\n",
       "      <td>Indiana</td>\n",
       "      <td>306</td>\n",
       "      <td>1231</td>\n",
       "      <td>68</td>\n",
       "      <td>0</td>\n",
       "      <td>1993</td>\n",
       "    </tr>\n",
       "    <tr>\n",
       "      <th>1</th>\n",
       "      <td>2007</td>\n",
       "      <td>64</td>\n",
       "      <td>13587</td>\n",
       "      <td>2007-03-15</td>\n",
       "      <td>Thursday</td>\n",
       "      <td>07</td>\n",
       "      <td>W</td>\n",
       "      <td>Boston College</td>\n",
       "      <td>Eagles</td>\n",
       "      <td>BC</td>\n",
       "      <td>...</td>\n",
       "      <td>Texas Tech</td>\n",
       "      <td>Red Raiders</td>\n",
       "      <td>TTU</td>\n",
       "      <td>f8c705b7-87d3-411a-9c8b-5124daab0469</td>\n",
       "      <td>Texas Tech</td>\n",
       "      <td>700</td>\n",
       "      <td>1403</td>\n",
       "      <td>75</td>\n",
       "      <td>0</td>\n",
       "      <td>2006</td>\n",
       "    </tr>\n",
       "    <tr>\n",
       "      <th>2</th>\n",
       "      <td>2001</td>\n",
       "      <td>64</td>\n",
       "      <td>11396</td>\n",
       "      <td>2001-03-15</td>\n",
       "      <td>Thursday</td>\n",
       "      <td>03</td>\n",
       "      <td>W</td>\n",
       "      <td>Boston College</td>\n",
       "      <td>Eagles</td>\n",
       "      <td>BC</td>\n",
       "      <td>...</td>\n",
       "      <td>Southern Utah</td>\n",
       "      <td>Thunderbirds</td>\n",
       "      <td>SUU</td>\n",
       "      <td>c7116621-45ed-4ab1-9ad9-dee524120569</td>\n",
       "      <td>Southern Utah</td>\n",
       "      <td>667</td>\n",
       "      <td>1381</td>\n",
       "      <td>65</td>\n",
       "      <td>0</td>\n",
       "      <td>2000</td>\n",
       "    </tr>\n",
       "    <tr>\n",
       "      <th>3</th>\n",
       "      <td>1994</td>\n",
       "      <td>64</td>\n",
       "      <td>8842</td>\n",
       "      <td>1994-03-18</td>\n",
       "      <td>Friday</td>\n",
       "      <td>09</td>\n",
       "      <td>W</td>\n",
       "      <td>Boston College</td>\n",
       "      <td>Eagles</td>\n",
       "      <td>BC</td>\n",
       "      <td>...</td>\n",
       "      <td>Washington State</td>\n",
       "      <td>Cougars</td>\n",
       "      <td>WSU</td>\n",
       "      <td>2d4f0015-adb4-4877-8c15-4a6eed7eed03</td>\n",
       "      <td>Washington St.</td>\n",
       "      <td>754</td>\n",
       "      <td>1450</td>\n",
       "      <td>64</td>\n",
       "      <td>0</td>\n",
       "      <td>1993</td>\n",
       "    </tr>\n",
       "    <tr>\n",
       "      <th>4</th>\n",
       "      <td>1994</td>\n",
       "      <td>32</td>\n",
       "      <td>8844</td>\n",
       "      <td>1994-03-20</td>\n",
       "      <td>Sunday</td>\n",
       "      <td>09</td>\n",
       "      <td>W</td>\n",
       "      <td>Boston College</td>\n",
       "      <td>Eagles</td>\n",
       "      <td>BC</td>\n",
       "      <td>...</td>\n",
       "      <td>North Carolina</td>\n",
       "      <td>Tar Heels</td>\n",
       "      <td>UNC</td>\n",
       "      <td>e9ca48b2-00ba-41c0-a02b-6885a2da1ff1</td>\n",
       "      <td>North Carolina</td>\n",
       "      <td>457</td>\n",
       "      <td>1314</td>\n",
       "      <td>72</td>\n",
       "      <td>0</td>\n",
       "      <td>1993</td>\n",
       "    </tr>\n",
       "  </tbody>\n",
       "</table>\n",
       "<p>5 rows × 27 columns</p>\n",
       "</div>"
      ],
      "text/plain": [
       "   season  round  days_from_epoch   game_date       day win_seed win_region  \\\n",
       "0    1994     16             8849  1994-03-25    Friday       09          W   \n",
       "1    2007     64            13587  2007-03-15  Thursday       07          W   \n",
       "2    2001     64            11396  2001-03-15  Thursday       03          W   \n",
       "3    1994     64             8842  1994-03-18    Friday       09          W   \n",
       "4    1994     32             8844  1994-03-20    Sunday       09          W   \n",
       "\n",
       "       win_market win_name win_alias  ...       lose_market     lose_name  \\\n",
       "0  Boston College   Eagles        BC  ...           Indiana      Hoosiers   \n",
       "1  Boston College   Eagles        BC  ...        Texas Tech   Red Raiders   \n",
       "2  Boston College   Eagles        BC  ...     Southern Utah  Thunderbirds   \n",
       "3  Boston College   Eagles        BC  ...  Washington State       Cougars   \n",
       "4  Boston College   Eagles        BC  ...    North Carolina     Tar Heels   \n",
       "\n",
       "   lose_alias                          lose_team_id  lose_school_ncaa  \\\n",
       "0         IND  c3f0a8ce-af67-497f-a750-3b859376b20a           Indiana   \n",
       "1         TTU  f8c705b7-87d3-411a-9c8b-5124daab0469        Texas Tech   \n",
       "2         SUU  c7116621-45ed-4ab1-9ad9-dee524120569     Southern Utah   \n",
       "3         WSU  2d4f0015-adb4-4877-8c15-4a6eed7eed03    Washington St.   \n",
       "4         UNC  e9ca48b2-00ba-41c0-a02b-6885a2da1ff1    North Carolina   \n",
       "\n",
       "  lose_code_ncaa lose_kaggle_team_id lose_pts num_ot academic_year  \n",
       "0            306                1231       68      0          1993  \n",
       "1            700                1403       75      0          2006  \n",
       "2            667                1381       65      0          2000  \n",
       "3            754                1450       64      0          1993  \n",
       "4            457                1314       72      0          1993  \n",
       "\n",
       "[5 rows x 27 columns]"
      ]
     },
     "execution_count": 28,
     "metadata": {},
     "output_type": "execute_result"
    }
   ],
   "source": [
    "# Some example records\n",
    "client.list_rows(table, max_results=5).to_dataframe()"
   ]
  },
  {
   "cell_type": "code",
   "execution_count": 29,
   "metadata": {
    "execution": {
     "iopub.execute_input": "2021-06-16T15:06:23.935866Z",
     "iopub.status.busy": "2021-06-16T15:06:23.935540Z",
     "iopub.status.idle": "2021-06-16T15:06:24.962492Z",
     "shell.execute_reply": "2021-06-16T15:06:24.961433Z",
     "shell.execute_reply.started": "2021-06-16T15:06:23.935834Z"
    }
   },
   "outputs": [
    {
     "name": "stdout",
     "output_type": "stream",
     "text": [
      "Using Kaggle's public dataset BigQuery integration.\n"
     ]
    },
    {
     "name": "stderr",
     "output_type": "stream",
     "text": [
      "/opt/conda/lib/python3.7/site-packages/google/cloud/bigquery/client.py:440: UserWarning: Cannot create BigQuery Storage client, the dependency google-cloud-bigquery-storage is not installed.\n",
      "  \"Cannot create BigQuery Storage client, the dependency \"\n"
     ]
    },
    {
     "data": {
      "text/html": [
       "<div>\n",
       "<style scoped>\n",
       "    .dataframe tbody tr th:only-of-type {\n",
       "        vertical-align: middle;\n",
       "    }\n",
       "\n",
       "    .dataframe tbody tr th {\n",
       "        vertical-align: top;\n",
       "    }\n",
       "\n",
       "    .dataframe thead th {\n",
       "        text-align: right;\n",
       "    }\n",
       "</style>\n",
       "<table border=\"1\" class=\"dataframe\">\n",
       "  <thead>\n",
       "    <tr style=\"text-align: right;\">\n",
       "      <th></th>\n",
       "      <th>season</th>\n",
       "      <th>round</th>\n",
       "      <th>win_market</th>\n",
       "      <th>lose_market</th>\n",
       "      <th>win_seed</th>\n",
       "      <th>lose_seed</th>\n",
       "      <th>win_pts</th>\n",
       "      <th>lose_pts</th>\n",
       "      <th>margin</th>\n",
       "    </tr>\n",
       "  </thead>\n",
       "  <tbody>\n",
       "    <tr>\n",
       "      <th>0</th>\n",
       "      <td>2002</td>\n",
       "      <td>32</td>\n",
       "      <td>Maryland</td>\n",
       "      <td>Wisconsin</td>\n",
       "      <td>1</td>\n",
       "      <td>8</td>\n",
       "      <td>87</td>\n",
       "      <td>57</td>\n",
       "      <td>30</td>\n",
       "    </tr>\n",
       "    <tr>\n",
       "      <th>1</th>\n",
       "      <td>2016</td>\n",
       "      <td>16</td>\n",
       "      <td>Notre Dame</td>\n",
       "      <td>Wisconsin</td>\n",
       "      <td>6</td>\n",
       "      <td>7</td>\n",
       "      <td>61</td>\n",
       "      <td>56</td>\n",
       "      <td>5</td>\n",
       "    </tr>\n",
       "    <tr>\n",
       "      <th>2</th>\n",
       "      <td>2010</td>\n",
       "      <td>32</td>\n",
       "      <td>Cornell</td>\n",
       "      <td>Wisconsin</td>\n",
       "      <td>12</td>\n",
       "      <td>4</td>\n",
       "      <td>87</td>\n",
       "      <td>69</td>\n",
       "      <td>18</td>\n",
       "    </tr>\n",
       "    <tr>\n",
       "      <th>3</th>\n",
       "      <td>2017</td>\n",
       "      <td>16</td>\n",
       "      <td>Florida</td>\n",
       "      <td>Wisconsin</td>\n",
       "      <td>4</td>\n",
       "      <td>8</td>\n",
       "      <td>84</td>\n",
       "      <td>83</td>\n",
       "      <td>1</td>\n",
       "    </tr>\n",
       "    <tr>\n",
       "      <th>4</th>\n",
       "      <td>2012</td>\n",
       "      <td>16</td>\n",
       "      <td>Syracuse</td>\n",
       "      <td>Wisconsin</td>\n",
       "      <td>1</td>\n",
       "      <td>4</td>\n",
       "      <td>64</td>\n",
       "      <td>63</td>\n",
       "      <td>1</td>\n",
       "    </tr>\n",
       "  </tbody>\n",
       "</table>\n",
       "</div>"
      ],
      "text/plain": [
       "   season  round  win_market lose_market win_seed lose_seed  win_pts  \\\n",
       "0    2002     32    Maryland   Wisconsin        1         8       87   \n",
       "1    2016     16  Notre Dame   Wisconsin        6         7       61   \n",
       "2    2010     32     Cornell   Wisconsin       12         4       87   \n",
       "3    2017     16     Florida   Wisconsin        4         8       84   \n",
       "4    2012     16    Syracuse   Wisconsin        1         4       64   \n",
       "\n",
       "   lose_pts  margin  \n",
       "0        57      30  \n",
       "1        56       5  \n",
       "2        69      18  \n",
       "3        83       1  \n",
       "4        63       1  "
      ]
     },
     "execution_count": 29,
     "metadata": {},
     "output_type": "execute_result"
    }
   ],
   "source": [
    "# Query Wisconsin tournament information\n",
    "query = \"\"\"\n",
    "        SELECT\n",
    "            season,\n",
    "            round,\n",
    "            win_market,\n",
    "            lose_market,\n",
    "            replace(ltrim(replace(win_seed,'0',' ')),' ','0') as win_seed,\n",
    "            replace(ltrim(replace(lose_seed,'0',' ')),' ','0') as lose_seed,\n",
    "            win_pts,\n",
    "            lose_pts,\n",
    "            win_pts-lose_pts as margin\n",
    "        FROM `bigquery-public-data.ncaa_basketball.mbb_historical_tournament_games`\n",
    "        WHERE win_code_ncaa = 796 OR lose_code_ncaa = 796\n",
    "        \"\"\"\n",
    "\n",
    "client = bigquery.Client()\n",
    "query_job = client.query(query)\n",
    "wisc = query_job.to_dataframe()\n",
    "wisc.head()"
   ]
  },
  {
   "cell_type": "code",
   "execution_count": 30,
   "metadata": {
    "execution": {
     "iopub.execute_input": "2021-06-16T15:06:24.964013Z",
     "iopub.status.busy": "2021-06-16T15:06:24.963693Z",
     "iopub.status.idle": "2021-06-16T15:06:24.972350Z",
     "shell.execute_reply": "2021-06-16T15:06:24.971278Z",
     "shell.execute_reply.started": "2021-06-16T15:06:24.963981Z"
    }
   },
   "outputs": [
    {
     "data": {
      "text/plain": [
       "season          int64\n",
       "round           int64\n",
       "win_market     object\n",
       "lose_market    object\n",
       "win_seed       object\n",
       "lose_seed      object\n",
       "win_pts         int64\n",
       "lose_pts        int64\n",
       "margin          int64\n",
       "dtype: object"
      ]
     },
     "execution_count": 30,
     "metadata": {},
     "output_type": "execute_result"
    }
   ],
   "source": [
    "# Let's check out the datatypes to make sure no mischief is afoot\n",
    "wisc.dtypes"
   ]
  },
  {
   "cell_type": "code",
   "execution_count": 31,
   "metadata": {
    "execution": {
     "iopub.execute_input": "2021-06-16T15:06:24.974644Z",
     "iopub.status.busy": "2021-06-16T15:06:24.974292Z",
     "iopub.status.idle": "2021-06-16T15:06:24.990549Z",
     "shell.execute_reply": "2021-06-16T15:06:24.989199Z",
     "shell.execute_reply.started": "2021-06-16T15:06:24.974612Z"
    }
   },
   "outputs": [
    {
     "data": {
      "text/plain": [
       "season          int64\n",
       "round           int64\n",
       "win_market     object\n",
       "lose_market    object\n",
       "win_seed        int64\n",
       "lose_seed       int64\n",
       "win_pts         int64\n",
       "lose_pts        int64\n",
       "margin          int64\n",
       "dtype: object"
      ]
     },
     "execution_count": 31,
     "metadata": {},
     "output_type": "execute_result"
    }
   ],
   "source": [
    "# Let's fix up the seeding data\n",
    "wisc.win_seed = pd.to_numeric(wisc.win_seed)\n",
    "wisc.lose_seed = pd.to_numeric(wisc.lose_seed)\n",
    "wisc.dtypes"
   ]
  },
  {
   "cell_type": "code",
   "execution_count": 32,
   "metadata": {
    "execution": {
     "iopub.execute_input": "2021-06-16T15:06:24.992846Z",
     "iopub.status.busy": "2021-06-16T15:06:24.992373Z",
     "iopub.status.idle": "2021-06-16T15:06:25.005653Z",
     "shell.execute_reply": "2021-06-16T15:06:25.004475Z",
     "shell.execute_reply.started": "2021-06-16T15:06:24.992789Z"
    }
   },
   "outputs": [
    {
     "data": {
      "text/plain": [
       "64    21\n",
       "32    16\n",
       "16    10\n",
       "8      4\n",
       "4      3\n",
       "2      1\n",
       "Name: round, dtype: int64"
      ]
     },
     "execution_count": 32,
     "metadata": {},
     "output_type": "execute_result"
    }
   ],
   "source": [
    "# How many times has Wisconsin made it to each round?\n",
    "wisc['round'].value_counts()"
   ]
  },
  {
   "cell_type": "code",
   "execution_count": 33,
   "metadata": {
    "execution": {
     "iopub.execute_input": "2021-06-16T15:06:25.007940Z",
     "iopub.status.busy": "2021-06-16T15:06:25.007542Z",
     "iopub.status.idle": "2021-06-16T15:06:25.022396Z",
     "shell.execute_reply": "2021-06-16T15:06:25.020898Z",
     "shell.execute_reply.started": "2021-06-16T15:06:25.007900Z"
    }
   },
   "outputs": [
    {
     "name": "stdout",
     "output_type": "stream",
     "text": [
      "Wisconsin's average seed was 5.22\n"
     ]
    }
   ],
   "source": [
    "# What was Wisconsin's average seed?\n",
    "win_seeds = wisc[wisc.win_market=='Wisconsin']['win_seed'].sum()\n",
    "lose_seeds = wisc[wisc.lose_market=='Wisconsin']['lose_seed'].sum()\n",
    "total = wisc.shape[0]\n",
    "avg_seed = (win_seeds+lose_seeds)/total\n",
    "print('Wisconsin\\'s average seed was {0:0.2f}'.format(avg_seed))"
   ]
  },
  {
   "cell_type": "code",
   "execution_count": 34,
   "metadata": {
    "execution": {
     "iopub.execute_input": "2021-06-16T15:06:25.024727Z",
     "iopub.status.busy": "2021-06-16T15:06:25.024237Z",
     "iopub.status.idle": "2021-06-16T15:06:25.043846Z",
     "shell.execute_reply": "2021-06-16T15:06:25.042275Z",
     "shell.execute_reply.started": "2021-06-16T15:06:25.024675Z"
    }
   },
   "outputs": [
    {
     "data": {
      "text/html": [
       "<div>\n",
       "<style scoped>\n",
       "    .dataframe tbody tr th:only-of-type {\n",
       "        vertical-align: middle;\n",
       "    }\n",
       "\n",
       "    .dataframe tbody tr th {\n",
       "        vertical-align: top;\n",
       "    }\n",
       "\n",
       "    .dataframe thead th {\n",
       "        text-align: right;\n",
       "    }\n",
       "</style>\n",
       "<table border=\"1\" class=\"dataframe\">\n",
       "  <thead>\n",
       "    <tr style=\"text-align: right;\">\n",
       "      <th></th>\n",
       "      <th>season</th>\n",
       "      <th>round</th>\n",
       "      <th>win_market</th>\n",
       "      <th>lose_market</th>\n",
       "      <th>win_seed</th>\n",
       "      <th>lose_seed</th>\n",
       "      <th>win_pts</th>\n",
       "      <th>lose_pts</th>\n",
       "      <th>margin</th>\n",
       "    </tr>\n",
       "  </thead>\n",
       "  <tbody>\n",
       "    <tr>\n",
       "      <th>20</th>\n",
       "      <td>2015</td>\n",
       "      <td>2</td>\n",
       "      <td>Duke</td>\n",
       "      <td>Wisconsin</td>\n",
       "      <td>1</td>\n",
       "      <td>1</td>\n",
       "      <td>68</td>\n",
       "      <td>63</td>\n",
       "      <td>5</td>\n",
       "    </tr>\n",
       "  </tbody>\n",
       "</table>\n",
       "</div>"
      ],
      "text/plain": [
       "    season  round win_market lose_market  win_seed  lose_seed  win_pts  \\\n",
       "20    2015      2       Duke   Wisconsin         1          1       68   \n",
       "\n",
       "    lose_pts  margin  \n",
       "20        63       5  "
      ]
     },
     "execution_count": 34,
     "metadata": {},
     "output_type": "execute_result"
    }
   ],
   "source": [
    "# How did Wisconsin fare when they made it to the finals?\n",
    "wisc[wisc['round']==2]"
   ]
  },
  {
   "cell_type": "code",
   "execution_count": 35,
   "metadata": {
    "execution": {
     "iopub.execute_input": "2021-06-16T15:06:25.046172Z",
     "iopub.status.busy": "2021-06-16T15:06:25.045775Z",
     "iopub.status.idle": "2021-06-16T15:06:25.068211Z",
     "shell.execute_reply": "2021-06-16T15:06:25.067088Z",
     "shell.execute_reply.started": "2021-06-16T15:06:25.046137Z"
    }
   },
   "outputs": [
    {
     "data": {
      "text/html": [
       "<div>\n",
       "<style scoped>\n",
       "    .dataframe tbody tr th:only-of-type {\n",
       "        vertical-align: middle;\n",
       "    }\n",
       "\n",
       "    .dataframe tbody tr th {\n",
       "        vertical-align: top;\n",
       "    }\n",
       "\n",
       "    .dataframe thead th {\n",
       "        text-align: right;\n",
       "    }\n",
       "</style>\n",
       "<table border=\"1\" class=\"dataframe\">\n",
       "  <thead>\n",
       "    <tr style=\"text-align: right;\">\n",
       "      <th></th>\n",
       "      <th>season</th>\n",
       "      <th>round</th>\n",
       "      <th>win_market</th>\n",
       "      <th>lose_market</th>\n",
       "      <th>win_seed</th>\n",
       "      <th>lose_seed</th>\n",
       "      <th>win_pts</th>\n",
       "      <th>lose_pts</th>\n",
       "      <th>margin</th>\n",
       "    </tr>\n",
       "  </thead>\n",
       "  <tbody>\n",
       "    <tr>\n",
       "      <th>38</th>\n",
       "      <td>2014</td>\n",
       "      <td>64</td>\n",
       "      <td>Wisconsin</td>\n",
       "      <td>American University</td>\n",
       "      <td>2</td>\n",
       "      <td>15</td>\n",
       "      <td>75</td>\n",
       "      <td>35</td>\n",
       "      <td>40</td>\n",
       "    </tr>\n",
       "    <tr>\n",
       "      <th>8</th>\n",
       "      <td>2012</td>\n",
       "      <td>64</td>\n",
       "      <td>Wisconsin</td>\n",
       "      <td>Montana</td>\n",
       "      <td>4</td>\n",
       "      <td>13</td>\n",
       "      <td>73</td>\n",
       "      <td>49</td>\n",
       "      <td>24</td>\n",
       "    </tr>\n",
       "    <tr>\n",
       "      <th>40</th>\n",
       "      <td>2014</td>\n",
       "      <td>16</td>\n",
       "      <td>Wisconsin</td>\n",
       "      <td>Baylor</td>\n",
       "      <td>2</td>\n",
       "      <td>6</td>\n",
       "      <td>69</td>\n",
       "      <td>52</td>\n",
       "      <td>17</td>\n",
       "    </tr>\n",
       "    <tr>\n",
       "      <th>18</th>\n",
       "      <td>2008</td>\n",
       "      <td>32</td>\n",
       "      <td>Wisconsin</td>\n",
       "      <td>Kansas State</td>\n",
       "      <td>3</td>\n",
       "      <td>11</td>\n",
       "      <td>72</td>\n",
       "      <td>55</td>\n",
       "      <td>17</td>\n",
       "    </tr>\n",
       "    <tr>\n",
       "      <th>19</th>\n",
       "      <td>2008</td>\n",
       "      <td>64</td>\n",
       "      <td>Wisconsin</td>\n",
       "      <td>Cal State Fullerton</td>\n",
       "      <td>3</td>\n",
       "      <td>14</td>\n",
       "      <td>71</td>\n",
       "      <td>56</td>\n",
       "      <td>15</td>\n",
       "    </tr>\n",
       "  </tbody>\n",
       "</table>\n",
       "</div>"
      ],
      "text/plain": [
       "    season  round win_market          lose_market  win_seed  lose_seed  \\\n",
       "38    2014     64  Wisconsin  American University         2         15   \n",
       "8     2012     64  Wisconsin              Montana         4         13   \n",
       "40    2014     16  Wisconsin               Baylor         2          6   \n",
       "18    2008     32  Wisconsin         Kansas State         3         11   \n",
       "19    2008     64  Wisconsin  Cal State Fullerton         3         14   \n",
       "\n",
       "    win_pts  lose_pts  margin  \n",
       "38       75        35      40  \n",
       "8        73        49      24  \n",
       "40       69        52      17  \n",
       "18       72        55      17  \n",
       "19       71        56      15  "
      ]
     },
     "execution_count": 35,
     "metadata": {},
     "output_type": "execute_result"
    }
   ],
   "source": [
    "# What was Wisconsin's largest margin of victory?\n",
    "wisc[wisc.win_market=='Wisconsin'].sort_values('margin', ascending=False).head()"
   ]
  },
  {
   "cell_type": "code",
   "execution_count": 36,
   "metadata": {
    "execution": {
     "iopub.execute_input": "2021-06-16T15:06:25.070141Z",
     "iopub.status.busy": "2021-06-16T15:06:25.069682Z",
     "iopub.status.idle": "2021-06-16T15:06:25.088729Z",
     "shell.execute_reply": "2021-06-16T15:06:25.087839Z",
     "shell.execute_reply.started": "2021-06-16T15:06:25.070093Z"
    }
   },
   "outputs": [
    {
     "data": {
      "text/html": [
       "<div>\n",
       "<style scoped>\n",
       "    .dataframe tbody tr th:only-of-type {\n",
       "        vertical-align: middle;\n",
       "    }\n",
       "\n",
       "    .dataframe tbody tr th {\n",
       "        vertical-align: top;\n",
       "    }\n",
       "\n",
       "    .dataframe thead th {\n",
       "        text-align: right;\n",
       "    }\n",
       "</style>\n",
       "<table border=\"1\" class=\"dataframe\">\n",
       "  <thead>\n",
       "    <tr style=\"text-align: right;\">\n",
       "      <th></th>\n",
       "      <th>season</th>\n",
       "      <th>round</th>\n",
       "      <th>win_market</th>\n",
       "      <th>lose_market</th>\n",
       "      <th>win_seed</th>\n",
       "      <th>lose_seed</th>\n",
       "      <th>win_pts</th>\n",
       "      <th>lose_pts</th>\n",
       "      <th>margin</th>\n",
       "    </tr>\n",
       "  </thead>\n",
       "  <tbody>\n",
       "    <tr>\n",
       "      <th>0</th>\n",
       "      <td>2002</td>\n",
       "      <td>32</td>\n",
       "      <td>Maryland</td>\n",
       "      <td>Wisconsin</td>\n",
       "      <td>1</td>\n",
       "      <td>8</td>\n",
       "      <td>87</td>\n",
       "      <td>57</td>\n",
       "      <td>30</td>\n",
       "    </tr>\n",
       "    <tr>\n",
       "      <th>32</th>\n",
       "      <td>2006</td>\n",
       "      <td>64</td>\n",
       "      <td>Arizona</td>\n",
       "      <td>Wisconsin</td>\n",
       "      <td>8</td>\n",
       "      <td>9</td>\n",
       "      <td>94</td>\n",
       "      <td>75</td>\n",
       "      <td>19</td>\n",
       "    </tr>\n",
       "    <tr>\n",
       "      <th>2</th>\n",
       "      <td>2010</td>\n",
       "      <td>32</td>\n",
       "      <td>Cornell</td>\n",
       "      <td>Wisconsin</td>\n",
       "      <td>12</td>\n",
       "      <td>4</td>\n",
       "      <td>87</td>\n",
       "      <td>69</td>\n",
       "      <td>18</td>\n",
       "    </tr>\n",
       "    <tr>\n",
       "      <th>17</th>\n",
       "      <td>2008</td>\n",
       "      <td>16</td>\n",
       "      <td>Davidson</td>\n",
       "      <td>Wisconsin</td>\n",
       "      <td>10</td>\n",
       "      <td>3</td>\n",
       "      <td>73</td>\n",
       "      <td>56</td>\n",
       "      <td>17</td>\n",
       "    </tr>\n",
       "    <tr>\n",
       "      <th>5</th>\n",
       "      <td>1997</td>\n",
       "      <td>64</td>\n",
       "      <td>Texas</td>\n",
       "      <td>Wisconsin</td>\n",
       "      <td>10</td>\n",
       "      <td>7</td>\n",
       "      <td>71</td>\n",
       "      <td>58</td>\n",
       "      <td>13</td>\n",
       "    </tr>\n",
       "  </tbody>\n",
       "</table>\n",
       "</div>"
      ],
      "text/plain": [
       "    season  round win_market lose_market  win_seed  lose_seed  win_pts  \\\n",
       "0     2002     32   Maryland   Wisconsin         1          8       87   \n",
       "32    2006     64    Arizona   Wisconsin         8          9       94   \n",
       "2     2010     32    Cornell   Wisconsin        12          4       87   \n",
       "17    2008     16   Davidson   Wisconsin        10          3       73   \n",
       "5     1997     64      Texas   Wisconsin        10          7       71   \n",
       "\n",
       "    lose_pts  margin  \n",
       "0         57      30  \n",
       "32        75      19  \n",
       "2         69      18  \n",
       "17        56      17  \n",
       "5         58      13  "
      ]
     },
     "execution_count": 36,
     "metadata": {},
     "output_type": "execute_result"
    }
   ],
   "source": [
    "# What was the margin in Wisconsin's greatest defeat?\n",
    "wisc[wisc.lose_market=='Wisconsin'].sort_values('margin', ascending=False).head()"
   ]
  },
  {
   "cell_type": "code",
   "execution_count": 37,
   "metadata": {
    "execution": {
     "iopub.execute_input": "2021-06-16T15:06:25.091125Z",
     "iopub.status.busy": "2021-06-16T15:06:25.090533Z",
     "iopub.status.idle": "2021-06-16T15:06:25.105862Z",
     "shell.execute_reply": "2021-06-16T15:06:25.104785Z",
     "shell.execute_reply.started": "2021-06-16T15:06:25.091073Z"
    }
   },
   "outputs": [
    {
     "data": {
      "text/plain": [
       "Arizona         3\n",
       "Oregon          2\n",
       "Kansas State    2\n",
       "Villanova       1\n",
       "Bucknell        1\n",
       "Name: lose_market, dtype: int64"
      ]
     },
     "execution_count": 37,
     "metadata": {},
     "output_type": "execute_result"
    }
   ],
   "source": [
    "# What teams did Wisconsin beat the most?\n",
    "wisc[wisc.win_market=='Wisconsin'].lose_market.value_counts()[:5]"
   ]
  },
  {
   "cell_type": "code",
   "execution_count": 38,
   "metadata": {
    "execution": {
     "iopub.execute_input": "2021-06-16T15:06:25.108761Z",
     "iopub.status.busy": "2021-06-16T15:06:25.108088Z",
     "iopub.status.idle": "2021-06-16T15:06:25.121787Z",
     "shell.execute_reply": "2021-06-16T15:06:25.120851Z",
     "shell.execute_reply.started": "2021-06-16T15:06:25.108706Z"
    }
   },
   "outputs": [
    {
     "data": {
      "text/plain": [
       "Kentucky         2\n",
       "Georgia State    1\n",
       "Duke             1\n",
       "UNLV             1\n",
       "Notre Dame       1\n",
       "Name: win_market, dtype: int64"
      ]
     },
     "execution_count": 38,
     "metadata": {},
     "output_type": "execute_result"
    }
   ],
   "source": [
    "# What teams did Wisconsin lose to the most?\n",
    "wisc[wisc.lose_market=='Wisconsin'].win_market.value_counts()[:5]"
   ]
  },
  {
   "cell_type": "code",
   "execution_count": 39,
   "metadata": {
    "execution": {
     "iopub.execute_input": "2021-06-16T15:06:25.123925Z",
     "iopub.status.busy": "2021-06-16T15:06:25.123204Z",
     "iopub.status.idle": "2021-06-16T15:06:25.141553Z",
     "shell.execute_reply": "2021-06-16T15:06:25.140540Z",
     "shell.execute_reply.started": "2021-06-16T15:06:25.123844Z"
    }
   },
   "outputs": [
    {
     "data": {
      "text/html": [
       "<div>\n",
       "<style scoped>\n",
       "    .dataframe tbody tr th:only-of-type {\n",
       "        vertical-align: middle;\n",
       "    }\n",
       "\n",
       "    .dataframe tbody tr th {\n",
       "        vertical-align: top;\n",
       "    }\n",
       "\n",
       "    .dataframe thead th {\n",
       "        text-align: right;\n",
       "    }\n",
       "</style>\n",
       "<table border=\"1\" class=\"dataframe\">\n",
       "  <thead>\n",
       "    <tr style=\"text-align: right;\">\n",
       "      <th></th>\n",
       "      <th>season</th>\n",
       "      <th>round</th>\n",
       "      <th>win_market</th>\n",
       "      <th>lose_market</th>\n",
       "      <th>win_seed</th>\n",
       "      <th>lose_seed</th>\n",
       "      <th>win_pts</th>\n",
       "      <th>lose_pts</th>\n",
       "      <th>margin</th>\n",
       "    </tr>\n",
       "  </thead>\n",
       "  <tbody>\n",
       "    <tr>\n",
       "      <th>11</th>\n",
       "      <td>2017</td>\n",
       "      <td>32</td>\n",
       "      <td>Wisconsin</td>\n",
       "      <td>Villanova</td>\n",
       "      <td>8</td>\n",
       "      <td>1</td>\n",
       "      <td>65</td>\n",
       "      <td>62</td>\n",
       "      <td>3</td>\n",
       "    </tr>\n",
       "    <tr>\n",
       "      <th>12</th>\n",
       "      <td>2009</td>\n",
       "      <td>64</td>\n",
       "      <td>Wisconsin</td>\n",
       "      <td>Florida State</td>\n",
       "      <td>12</td>\n",
       "      <td>5</td>\n",
       "      <td>61</td>\n",
       "      <td>59</td>\n",
       "      <td>2</td>\n",
       "    </tr>\n",
       "    <tr>\n",
       "      <th>13</th>\n",
       "      <td>2016</td>\n",
       "      <td>32</td>\n",
       "      <td>Wisconsin</td>\n",
       "      <td>Xavier</td>\n",
       "      <td>7</td>\n",
       "      <td>2</td>\n",
       "      <td>66</td>\n",
       "      <td>63</td>\n",
       "      <td>3</td>\n",
       "    </tr>\n",
       "    <tr>\n",
       "      <th>37</th>\n",
       "      <td>2014</td>\n",
       "      <td>8</td>\n",
       "      <td>Wisconsin</td>\n",
       "      <td>Arizona</td>\n",
       "      <td>2</td>\n",
       "      <td>1</td>\n",
       "      <td>64</td>\n",
       "      <td>63</td>\n",
       "      <td>1</td>\n",
       "    </tr>\n",
       "    <tr>\n",
       "      <th>41</th>\n",
       "      <td>2000</td>\n",
       "      <td>8</td>\n",
       "      <td>Wisconsin</td>\n",
       "      <td>Purdue</td>\n",
       "      <td>8</td>\n",
       "      <td>6</td>\n",
       "      <td>64</td>\n",
       "      <td>60</td>\n",
       "      <td>4</td>\n",
       "    </tr>\n",
       "    <tr>\n",
       "      <th>42</th>\n",
       "      <td>2000</td>\n",
       "      <td>16</td>\n",
       "      <td>Wisconsin</td>\n",
       "      <td>LSU</td>\n",
       "      <td>8</td>\n",
       "      <td>4</td>\n",
       "      <td>61</td>\n",
       "      <td>48</td>\n",
       "      <td>13</td>\n",
       "    </tr>\n",
       "    <tr>\n",
       "      <th>43</th>\n",
       "      <td>1994</td>\n",
       "      <td>64</td>\n",
       "      <td>Wisconsin</td>\n",
       "      <td>Cincinnati</td>\n",
       "      <td>9</td>\n",
       "      <td>8</td>\n",
       "      <td>80</td>\n",
       "      <td>72</td>\n",
       "      <td>8</td>\n",
       "    </tr>\n",
       "    <tr>\n",
       "      <th>45</th>\n",
       "      <td>2000</td>\n",
       "      <td>32</td>\n",
       "      <td>Wisconsin</td>\n",
       "      <td>Arizona</td>\n",
       "      <td>8</td>\n",
       "      <td>1</td>\n",
       "      <td>66</td>\n",
       "      <td>59</td>\n",
       "      <td>7</td>\n",
       "    </tr>\n",
       "  </tbody>\n",
       "</table>\n",
       "</div>"
      ],
      "text/plain": [
       "    season  round win_market    lose_market  win_seed  lose_seed  win_pts  \\\n",
       "11    2017     32  Wisconsin      Villanova         8          1       65   \n",
       "12    2009     64  Wisconsin  Florida State        12          5       61   \n",
       "13    2016     32  Wisconsin         Xavier         7          2       66   \n",
       "37    2014      8  Wisconsin        Arizona         2          1       64   \n",
       "41    2000      8  Wisconsin         Purdue         8          6       64   \n",
       "42    2000     16  Wisconsin            LSU         8          4       61   \n",
       "43    1994     64  Wisconsin     Cincinnati         9          8       80   \n",
       "45    2000     32  Wisconsin        Arizona         8          1       66   \n",
       "\n",
       "    lose_pts  margin  \n",
       "11        62       3  \n",
       "12        59       2  \n",
       "13        63       3  \n",
       "37        63       1  \n",
       "41        60       4  \n",
       "42        48      13  \n",
       "43        72       8  \n",
       "45        59       7  "
      ]
     },
     "execution_count": 39,
     "metadata": {},
     "output_type": "execute_result"
    }
   ],
   "source": [
    "# How many times did Wisconsin upset?\n",
    "wisc[(wisc.win_market=='Wisconsin') & (wisc.win_seed > wisc.lose_seed)]"
   ]
  },
  {
   "cell_type": "code",
   "execution_count": 40,
   "metadata": {
    "execution": {
     "iopub.execute_input": "2021-06-16T15:06:25.143660Z",
     "iopub.status.busy": "2021-06-16T15:06:25.143066Z",
     "iopub.status.idle": "2021-06-16T15:06:25.168149Z",
     "shell.execute_reply": "2021-06-16T15:06:25.166967Z",
     "shell.execute_reply.started": "2021-06-16T15:06:25.143624Z"
    }
   },
   "outputs": [
    {
     "data": {
      "text/html": [
       "<div>\n",
       "<style scoped>\n",
       "    .dataframe tbody tr th:only-of-type {\n",
       "        vertical-align: middle;\n",
       "    }\n",
       "\n",
       "    .dataframe tbody tr th {\n",
       "        vertical-align: top;\n",
       "    }\n",
       "\n",
       "    .dataframe thead th {\n",
       "        text-align: right;\n",
       "    }\n",
       "</style>\n",
       "<table border=\"1\" class=\"dataframe\">\n",
       "  <thead>\n",
       "    <tr style=\"text-align: right;\">\n",
       "      <th></th>\n",
       "      <th>season</th>\n",
       "      <th>round</th>\n",
       "      <th>win_market</th>\n",
       "      <th>lose_market</th>\n",
       "      <th>win_seed</th>\n",
       "      <th>lose_seed</th>\n",
       "      <th>win_pts</th>\n",
       "      <th>lose_pts</th>\n",
       "      <th>margin</th>\n",
       "    </tr>\n",
       "  </thead>\n",
       "  <tbody>\n",
       "    <tr>\n",
       "      <th>2</th>\n",
       "      <td>2010</td>\n",
       "      <td>32</td>\n",
       "      <td>Cornell</td>\n",
       "      <td>Wisconsin</td>\n",
       "      <td>12</td>\n",
       "      <td>4</td>\n",
       "      <td>87</td>\n",
       "      <td>69</td>\n",
       "      <td>18</td>\n",
       "    </tr>\n",
       "    <tr>\n",
       "      <th>5</th>\n",
       "      <td>1997</td>\n",
       "      <td>64</td>\n",
       "      <td>Texas</td>\n",
       "      <td>Wisconsin</td>\n",
       "      <td>10</td>\n",
       "      <td>7</td>\n",
       "      <td>71</td>\n",
       "      <td>58</td>\n",
       "      <td>13</td>\n",
       "    </tr>\n",
       "    <tr>\n",
       "      <th>16</th>\n",
       "      <td>1999</td>\n",
       "      <td>64</td>\n",
       "      <td>Missouri State</td>\n",
       "      <td>Wisconsin</td>\n",
       "      <td>12</td>\n",
       "      <td>5</td>\n",
       "      <td>43</td>\n",
       "      <td>32</td>\n",
       "      <td>11</td>\n",
       "    </tr>\n",
       "    <tr>\n",
       "      <th>17</th>\n",
       "      <td>2008</td>\n",
       "      <td>16</td>\n",
       "      <td>Davidson</td>\n",
       "      <td>Wisconsin</td>\n",
       "      <td>10</td>\n",
       "      <td>3</td>\n",
       "      <td>73</td>\n",
       "      <td>56</td>\n",
       "      <td>17</td>\n",
       "    </tr>\n",
       "    <tr>\n",
       "      <th>21</th>\n",
       "      <td>2001</td>\n",
       "      <td>64</td>\n",
       "      <td>Georgia State</td>\n",
       "      <td>Wisconsin</td>\n",
       "      <td>11</td>\n",
       "      <td>6</td>\n",
       "      <td>50</td>\n",
       "      <td>49</td>\n",
       "      <td>1</td>\n",
       "    </tr>\n",
       "    <tr>\n",
       "      <th>23</th>\n",
       "      <td>2014</td>\n",
       "      <td>4</td>\n",
       "      <td>Kentucky</td>\n",
       "      <td>Wisconsin</td>\n",
       "      <td>8</td>\n",
       "      <td>2</td>\n",
       "      <td>74</td>\n",
       "      <td>73</td>\n",
       "      <td>1</td>\n",
       "    </tr>\n",
       "    <tr>\n",
       "      <th>24</th>\n",
       "      <td>2011</td>\n",
       "      <td>16</td>\n",
       "      <td>Butler</td>\n",
       "      <td>Wisconsin</td>\n",
       "      <td>8</td>\n",
       "      <td>4</td>\n",
       "      <td>61</td>\n",
       "      <td>54</td>\n",
       "      <td>7</td>\n",
       "    </tr>\n",
       "    <tr>\n",
       "      <th>34</th>\n",
       "      <td>2007</td>\n",
       "      <td>32</td>\n",
       "      <td>UNLV</td>\n",
       "      <td>Wisconsin</td>\n",
       "      <td>7</td>\n",
       "      <td>2</td>\n",
       "      <td>74</td>\n",
       "      <td>68</td>\n",
       "      <td>6</td>\n",
       "    </tr>\n",
       "    <tr>\n",
       "      <th>53</th>\n",
       "      <td>2013</td>\n",
       "      <td>64</td>\n",
       "      <td>Ole Miss</td>\n",
       "      <td>Wisconsin</td>\n",
       "      <td>12</td>\n",
       "      <td>5</td>\n",
       "      <td>57</td>\n",
       "      <td>46</td>\n",
       "      <td>11</td>\n",
       "    </tr>\n",
       "  </tbody>\n",
       "</table>\n",
       "</div>"
      ],
      "text/plain": [
       "    season  round      win_market lose_market  win_seed  lose_seed  win_pts  \\\n",
       "2     2010     32         Cornell   Wisconsin        12          4       87   \n",
       "5     1997     64           Texas   Wisconsin        10          7       71   \n",
       "16    1999     64  Missouri State   Wisconsin        12          5       43   \n",
       "17    2008     16        Davidson   Wisconsin        10          3       73   \n",
       "21    2001     64   Georgia State   Wisconsin        11          6       50   \n",
       "23    2014      4        Kentucky   Wisconsin         8          2       74   \n",
       "24    2011     16          Butler   Wisconsin         8          4       61   \n",
       "34    2007     32            UNLV   Wisconsin         7          2       74   \n",
       "53    2013     64        Ole Miss   Wisconsin        12          5       57   \n",
       "\n",
       "    lose_pts  margin  \n",
       "2         69      18  \n",
       "5         58      13  \n",
       "16        32      11  \n",
       "17        56      17  \n",
       "21        49       1  \n",
       "23        73       1  \n",
       "24        54       7  \n",
       "34        68       6  \n",
       "53        46      11  "
      ]
     },
     "execution_count": 40,
     "metadata": {},
     "output_type": "execute_result"
    }
   ],
   "source": [
    "# How many times did Wisconsin choke?\n",
    "wisc[(wisc.lose_market=='Wisconsin') & (wisc.win_seed > wisc.lose_seed)]"
   ]
  }
 ],
 "metadata": {
  "kernelspec": {
   "display_name": "Python 3",
   "language": "python",
   "name": "python3"
  },
  "language_info": {
   "codemirror_mode": {
    "name": "ipython",
    "version": 3
   },
   "file_extension": ".py",
   "mimetype": "text/x-python",
   "name": "python",
   "nbconvert_exporter": "python",
   "pygments_lexer": "ipython3",
   "version": "3.8.5"
  }
 },
 "nbformat": 4,
 "nbformat_minor": 4
}
