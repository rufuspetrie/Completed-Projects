{
 "cells": [
  {
   "cell_type": "code",
   "execution_count": 1,
   "metadata": {},
   "outputs": [
    {
     "name": "stderr",
     "output_type": "stream",
     "text": [
      "C:\\ProgramData\\Anaconda3\\lib\\site-packages\\sklearn\\ensemble\\weight_boosting.py:29: DeprecationWarning: numpy.core.umath_tests is an internal NumPy module and should not be imported. It will be removed in a future NumPy release.\n",
      "  from numpy.core.umath_tests import inner1d\n"
     ]
    }
   ],
   "source": [
    "# Import relevant libraries\n",
    "import pandas as pd\n",
    "pd.set_option('precision', 4)\n",
    "\n",
    "import matplotlib.pyplot as plt\n",
    "import seaborn as sns\n",
    "\n",
    "from sklearn.preprocessing import LabelEncoder\n",
    "from sklearn.preprocessing import StandardScaler\n",
    "\n",
    "from sklearn.model_selection import cross_val_score\n",
    "from sklearn.model_selection import train_test_split\n",
    "\n",
    "from sklearn.linear_model import LinearRegression\n",
    "from sklearn.ensemble import RandomForestRegressor\n",
    "from sklearn.neural_network import MLPRegressor"
   ]
  },
  {
   "cell_type": "code",
   "execution_count": 2,
   "metadata": {},
   "outputs": [
    {
     "name": "stdout",
     "output_type": "stream",
     "text": [
      "<class 'pandas.core.frame.DataFrame'>\n",
      "Int64Index: 2230227 entries, 0 to 2230226\n",
      "Columns: 161 entries, newgameid to RELSPRICE\n",
      "dtypes: float32(39), float64(6), int16(21), int32(1), int8(83), object(11)\n",
      "memory usage: 912.4+ MB\n"
     ]
    }
   ],
   "source": [
    "# Read in data\n",
    "datam = pd.read_stata('stubhub_panel.dta')\n",
    "datam.info()"
   ]
  },
  {
   "cell_type": "code",
   "execution_count": 3,
   "metadata": {},
   "outputs": [],
   "source": [
    "# Original Regression\n",
    "# xtreg RELSPRICE D3to5-D81plus _I* firstrow secondrow numbrow norow piggy  homerecord* awayrecord* homegameahead homegameback\n",
    "# homeaheadgtg homebackgtg awaygameahead awaygameback awaybackgtg awayaheadgtg homewildgamebackgtg homewildgameaheadgtg\n",
    "# awaywildgamebackgtg awaywildgameaheadgtg homewildgameback homewildgameahead awaywildgameback awaywildgameahead EBlist\n",
    "# EBalllist EBregpnlist EBregplist SHlist SHalllist SHregpnlist SHregplist EBlistdum EBalllistdum EBregpnlistdum EBregplistdum\n",
    "# EBlist2 EBalllist2 EBregpnlist2 EBregplist2 SHlist2 SHalllist2 SHregpnlist2 SHregplist2, fe i(gameregpfe)"
   ]
  },
  {
   "cell_type": "code",
   "execution_count": 4,
   "metadata": {},
   "outputs": [
    {
     "name": "stdout",
     "output_type": "stream",
     "text": [
      "['RELSPRICE', 'firstrow', 'secondrow', 'numbrow', 'norow', 'piggy', 'homegameahead', 'homegameback', 'homeaheadgtg', 'homebackgtg', 'awaygameahead', 'awaygameback', 'awaybackgtg', 'awayaheadgtg', 'homewildgamebackgtg', 'homewildgameaheadgtg', 'awaywildgamebackgtg', 'awaywildgameaheadgtg', 'homewildgameback', 'homewildgameahead', 'awaywildgameback', 'awaywildgameahead', 'EBlist', 'EBregpnlist', 'EBregplist', 'SHlist', 'SHalllist', 'SHregpnlist', 'SHregplist', 'EBlistdum', 'EBalllistdum', 'EBregpnlistdum', 'EBregplistdum', 'EBalllist2', 'EBregpnlist2', 'EBregplist2', 'SHlist2', 'SHalllist2', 'SHregpnlist2', 'SHregplist2', 'home', 'away', 'propmaxatt', 'D3to5', 'D6to8', 'D9to11', 'D12to14', 'D15to17', 'D18to20', 'D21to23', 'D24to26', 'D27to29', 'D30to32', 'D33to35', 'D36to38', 'D39to41', 'D42to44', 'D45to47', 'D48to50', 'D51to55', 'D56to60', 'D61to70', 'D71to80', 'D81plus', '_Inumb_2', '_Inumb_3', '_Inumb_4', '_Inumb_5', '_Inumb_6', '_Iupto_1', '_InumXupt_2_1', '_InumXupt_3_1', '_InumXupt_4_1', '_InumXupt_5_1', '_InumXupt_6_1', 'homerecord', 'gamehomerecord', 'awayrecord', 'gameawayrecord']\n"
     ]
    }
   ],
   "source": [
    "# Generate list of data from original regressions\n",
    "var_list = 'RELSPRICE firstrow secondrow numbrow norow piggy homegameahead homegameback homeaheadgtg homebackgtg awaygameahead awaygameback awaybackgtg awayaheadgtg homewildgamebackgtg homewildgameaheadgtg awaywildgamebackgtg awaywildgameaheadgtg homewildgameback homewildgameahead awaywildgameback awaywildgameahead EBlist EBregpnlist EBregplist SHlist SHalllist SHregpnlist SHregplist EBlistdum EBalllistdum EBregpnlistdum EBregplistdum EBalllist2 EBregpnlist2 EBregplist2 SHlist2 SHalllist2 SHregpnlist2 SHregplist2 home away propmaxatt'\n",
    "var_list = var_list.split()\n",
    "var_list.extend(['D3to5', 'D6to8', 'D9to11', 'D12to14', 'D15to17', 'D18to20', 'D21to23', 'D24to26', 'D27to29', 'D30to32', 'D33to35', 'D36to38', 'D39to41', 'D42to44', 'D45to47', 'D48to50', 'D51to55', 'D56to60', 'D61to70', 'D71to80', 'D81plus'])\n",
    "var_list.extend(['_Inumb_2', '_Inumb_3', '_Inumb_4', '_Inumb_5', '_Inumb_6', '_Iupto_1', '_InumXupt_2_1', '_InumXupt_3_1', '_InumXupt_4_1', '_InumXupt_5_1', '_InumXupt_6_1'])\n",
    "var_list.extend(['homerecord', 'gamehomerecord', 'awayrecord', 'gameawayrecord'])\n",
    "print(list(var_list))"
   ]
  },
  {
   "cell_type": "markdown",
   "metadata": {},
   "source": [
    "- Notes\n",
    "    - There are dummies for first/second row because baseball stadiums have varying shape, i.e. first row seats may have higher numbers than 1\n",
    "    - 'norow' indicates that the Stubhub listing did not contain a row number\n",
    "    - 'piggy' indicates that the Stubhub listing had seats in different rows\n",
    "    - _I* variables correspond to the number of tickets sold in the auction\n",
    "    - Variables beginning with SH/EB refer to the amount of competition for a listing on Stubhub/Ebay\n",
    "    - home\\* and away\\* variables correspond to performance measures for both teams\n",
    "    - D_to_ variables refer to the amount of days the listing is made before the game"
   ]
  },
  {
   "cell_type": "code",
   "execution_count": 5,
   "metadata": {},
   "outputs": [],
   "source": [
    "# Keep relevant data\n",
    "datam = datam[var_list]\n",
    "limit = datam['RELSPRICE'].quantile(0.98)\n",
    "datam = datam[datam.RELSPRICE <= limit]\n",
    "datam = datam.dropna()"
   ]
  },
  {
   "cell_type": "code",
   "execution_count": 6,
   "metadata": {},
   "outputs": [],
   "source": [
    "# Convert multi-level dummies to hot-one encoded dummies\n",
    "var_list = ['away', 'home']\n",
    "for i in var_list:\n",
    "    datam = pd.concat([datam,pd.get_dummies(datam[i], prefix=i,dummy_na=False)],axis=1).drop([i],axis=1)"
   ]
  },
  {
   "cell_type": "code",
   "execution_count": 7,
   "metadata": {},
   "outputs": [],
   "source": [
    "# Train/test split\n",
    "train_set, test_set = train_test_split(datam, test_size=0.2, random_state=21)"
   ]
  },
  {
   "cell_type": "code",
   "execution_count": 8,
   "metadata": {},
   "outputs": [],
   "source": [
    "# Split train/test sets into labels and predictor matrices\n",
    "cols = [col for col in datam.columns if col != 'RELSPRICE']\n",
    "y_train, X_train = train_set['RELSPRICE'], train_set[cols]\n",
    "y_test, X_test = test_set['RELSPRICE'], test_set[cols]"
   ]
  },
  {
   "cell_type": "code",
   "execution_count": 9,
   "metadata": {},
   "outputs": [
    {
     "data": {
      "text/plain": [
       "LinearRegression(copy_X=True, fit_intercept=True, n_jobs=1, normalize=False)"
      ]
     },
     "execution_count": 9,
     "metadata": {},
     "output_type": "execute_result"
    }
   ],
   "source": [
    "# Train a linear regression\n",
    "reg = LinearRegression()\n",
    "reg.fit(X_train, y_train)"
   ]
  },
  {
   "cell_type": "code",
   "execution_count": 10,
   "metadata": {},
   "outputs": [
    {
     "name": "stdout",
     "output_type": "stream",
     "text": [
      "The Linear Regression has an MSE of 0.9092 on the test set.\n",
      "The Linear Regression has an R-squared value of 0.2804 on the test set.\n"
     ]
    }
   ],
   "source": [
    "# Assess performance of linear regression\n",
    "r_2 = reg.score(X_test, y_test)\n",
    "mse = ((reg.predict(X_test)-y_test)**2).mean()\n",
    "print('The Linear Regression has an MSE of %0.4f on the test set.' %mse)\n",
    "print('The Linear Regression has an R-squared value of %0.4f on the test set.' %r_2)"
   ]
  },
  {
   "cell_type": "code",
   "execution_count": 11,
   "metadata": {},
   "outputs": [],
   "source": [
    "# # Code to check cross-validated scores (omitted in final runthrough due to runtime)\n",
    "# forest = RandomForestRegressor(max_features=90, n_estimators=32)\n",
    "# scores = cross_val_score(forest, X_train, y_train, cv=10)\n",
    "# print(scores.mean())"
   ]
  },
  {
   "cell_type": "code",
   "execution_count": 12,
   "metadata": {},
   "outputs": [
    {
     "data": {
      "text/plain": [
       "RandomForestRegressor(bootstrap=True, criterion='mse', max_depth=None,\n",
       "           max_features=100, max_leaf_nodes=None,\n",
       "           min_impurity_decrease=0.0, min_impurity_split=None,\n",
       "           min_samples_leaf=1, min_samples_split=2,\n",
       "           min_weight_fraction_leaf=0.0, n_estimators=128, n_jobs=-1,\n",
       "           oob_score=False, random_state=None, verbose=0, warm_start=False)"
      ]
     },
     "execution_count": 12,
     "metadata": {},
     "output_type": "execute_result"
    }
   ],
   "source": [
    "# Train a random forest\n",
    "forest = RandomForestRegressor(n_estimators=128, max_features=100, n_jobs=-1)\n",
    "forest.fit(X_train, y_train)"
   ]
  },
  {
   "cell_type": "code",
   "execution_count": 13,
   "metadata": {},
   "outputs": [
    {
     "name": "stdout",
     "output_type": "stream",
     "text": [
      "The Random Forest has an MSE of 0.2835 on the test set.\n",
      "The Random Forest has an R-squared value of 0.7757 on the test set.\n"
     ]
    }
   ],
   "source": [
    "# Assess performance of random forest\n",
    "r_2 = forest.score(X_test, y_test)\n",
    "mse = ((forest.predict(X_test)-y_test)**2).mean()\n",
    "print('The Random Forest has an MSE of %0.4f on the test set.' %mse)\n",
    "print('The Random Forest has an R-squared value of %0.4f on the test set.' %r_2)"
   ]
  },
  {
   "cell_type": "code",
   "execution_count": 14,
   "metadata": {},
   "outputs": [
    {
     "name": "stdout",
     "output_type": "stream",
     "text": [
      "Here are some of the variables with high importance:\n"
     ]
    },
    {
     "data": {
      "text/html": [
       "<div>\n",
       "<style scoped>\n",
       "    .dataframe tbody tr th:only-of-type {\n",
       "        vertical-align: middle;\n",
       "    }\n",
       "\n",
       "    .dataframe tbody tr th {\n",
       "        vertical-align: top;\n",
       "    }\n",
       "\n",
       "    .dataframe thead th {\n",
       "        text-align: right;\n",
       "    }\n",
       "</style>\n",
       "<table border=\"1\" class=\"dataframe\">\n",
       "  <thead>\n",
       "    <tr style=\"text-align: right;\">\n",
       "      <th></th>\n",
       "      <th>importance</th>\n",
       "    </tr>\n",
       "  </thead>\n",
       "  <tbody>\n",
       "    <tr>\n",
       "      <th>propmaxatt</th>\n",
       "      <td>0.1429</td>\n",
       "    </tr>\n",
       "    <tr>\n",
       "      <th>numbrow</th>\n",
       "      <td>0.1047</td>\n",
       "    </tr>\n",
       "    <tr>\n",
       "      <th>SHregplist2</th>\n",
       "      <td>0.0424</td>\n",
       "    </tr>\n",
       "    <tr>\n",
       "      <th>SHregplist</th>\n",
       "      <td>0.0424</td>\n",
       "    </tr>\n",
       "    <tr>\n",
       "      <th>away_NYY</th>\n",
       "      <td>0.0373</td>\n",
       "    </tr>\n",
       "    <tr>\n",
       "      <th>gamehomerecord</th>\n",
       "      <td>0.0330</td>\n",
       "    </tr>\n",
       "    <tr>\n",
       "      <th>SHregpnlist</th>\n",
       "      <td>0.0309</td>\n",
       "    </tr>\n",
       "    <tr>\n",
       "      <th>SHregpnlist2</th>\n",
       "      <td>0.0308</td>\n",
       "    </tr>\n",
       "    <tr>\n",
       "      <th>gameawayrecord</th>\n",
       "      <td>0.0252</td>\n",
       "    </tr>\n",
       "    <tr>\n",
       "      <th>home_ChC</th>\n",
       "      <td>0.0209</td>\n",
       "    </tr>\n",
       "  </tbody>\n",
       "</table>\n",
       "</div>"
      ],
      "text/plain": [
       "                importance\n",
       "propmaxatt          0.1429\n",
       "numbrow             0.1047\n",
       "SHregplist2         0.0424\n",
       "SHregplist          0.0424\n",
       "away_NYY            0.0373\n",
       "gamehomerecord      0.0330\n",
       "SHregpnlist         0.0309\n",
       "SHregpnlist2        0.0308\n",
       "gameawayrecord      0.0252\n",
       "home_ChC            0.0209"
      ]
     },
     "execution_count": 14,
     "metadata": {},
     "output_type": "execute_result"
    }
   ],
   "source": [
    "# Generate variable importances for random forest\n",
    "imps = pd.DataFrame(forest.feature_importances_,\n",
    "                    index = X_train.columns,\n",
    "                    columns=['importance']).sort_values('importance', ascending=False)\n",
    "print('Here are some of the variables with high importance:')\n",
    "imps.head(10)"
   ]
  },
  {
   "cell_type": "code",
   "execution_count": 15,
   "metadata": {},
   "outputs": [],
   "source": [
    "# Scale RELSPRICE to be in unit interval\n",
    "datam['relsprice'] = (datam['RELSPRICE']-datam['RELSPRICE'].min()) / (datam['RELSPRICE'].max()-datam['RELSPRICE'].min())"
   ]
  },
  {
   "cell_type": "code",
   "execution_count": 16,
   "metadata": {},
   "outputs": [],
   "source": [
    "# Train/test split\n",
    "train_set, test_set = train_test_split(datam, test_size=0.8, random_state=21)"
   ]
  },
  {
   "cell_type": "code",
   "execution_count": 17,
   "metadata": {},
   "outputs": [],
   "source": [
    "# Split train/test sets into labels and predictor matrices\n",
    "cols = [col for col in datam.columns if col not in ['RELSPRICE', 'relsprice']]\n",
    "y_train, X_train = train_set['relsprice'], train_set[cols]\n",
    "y_test, X_test = test_set['relsprice'], test_set[cols]"
   ]
  },
  {
   "cell_type": "code",
   "execution_count": 18,
   "metadata": {},
   "outputs": [],
   "source": [
    "# Scale predictors to be standard normal\n",
    "scaler = StandardScaler()\n",
    "scaler.fit(X_train)\n",
    "X_train = scaler.transform(X_train)\n",
    "X_test = scaler.transform(X_test)"
   ]
  },
  {
   "cell_type": "code",
   "execution_count": 19,
   "metadata": {},
   "outputs": [],
   "source": [
    "# # Code to check cross-validated scores (omitted in final runthrough due to runtime)\n",
    "# mlp = MLPRegressor(activation='logistic', hidden_layer_sizes=(134, 67), max_iter=1000)\n",
    "# scores = cross_val_score(mlp, X_train, y_train, cv=10)\n",
    "# print(scores.mean())"
   ]
  },
  {
   "cell_type": "code",
   "execution_count": 20,
   "metadata": {},
   "outputs": [
    {
     "data": {
      "text/plain": [
       "MLPRegressor(activation='logistic', alpha=0.0001, batch_size='auto',\n",
       "       beta_1=0.9, beta_2=0.999, early_stopping=False, epsilon=1e-08,\n",
       "       hidden_layer_sizes=(120, 60), learning_rate='constant',\n",
       "       learning_rate_init=0.001, max_iter=1000, momentum=0.9,\n",
       "       nesterovs_momentum=True, power_t=0.5, random_state=None,\n",
       "       shuffle=True, solver='adam', tol=0.0001, validation_fraction=0.1,\n",
       "       verbose=False, warm_start=False)"
      ]
     },
     "execution_count": 20,
     "metadata": {},
     "output_type": "execute_result"
    }
   ],
   "source": [
    "# Train neural network (multilayer perceptron)\n",
    "mlp = MLPRegressor(activation='logistic', hidden_layer_sizes=(120, 60), max_iter=1000)\n",
    "mlp.fit(X_train, y_train)"
   ]
  },
  {
   "cell_type": "code",
   "execution_count": 21,
   "metadata": {},
   "outputs": [
    {
     "name": "stdout",
     "output_type": "stream",
     "text": [
      "The Neural Network has an MSE of 0.6360 on the test set.\n",
      "The Neural Network has an R-squared value of 0.5001 on the test set.\n"
     ]
    }
   ],
   "source": [
    "# Assess performance of neural network\n",
    "r_2 = mlp.score(X_test, y_test)\n",
    "mse = (((mlp.predict(X_test)-y_test)*limit)**2).mean()\n",
    "print('The Neural Network has an MSE of %0.4f on the test set.' %mse)\n",
    "print('The Neural Network has an R-squared value of %0.4f on the test set.' %r_2)"
   ]
  },
  {
   "cell_type": "markdown",
   "metadata": {},
   "source": [
    "# Red Sox Random Forest"
   ]
  },
  {
   "cell_type": "code",
   "execution_count": 22,
   "metadata": {},
   "outputs": [],
   "source": [
    "# Keep only Red Sox games\n",
    "datam = datam[(datam.home_Bos==1)|(datam.away_Bos==1)]"
   ]
  },
  {
   "cell_type": "code",
   "execution_count": 23,
   "metadata": {},
   "outputs": [],
   "source": [
    "# Train/test split\n",
    "train_set, test_set = train_test_split(datam, test_size=0.8, random_state=21)"
   ]
  },
  {
   "cell_type": "code",
   "execution_count": 24,
   "metadata": {},
   "outputs": [],
   "source": [
    "# Re-select proper variables\n",
    "cols = [col for col in datam.columns if col not in ['RELSPRICE', 'relsprice']]\n",
    "y_train, X_train = train_set['RELSPRICE'], train_set[cols]\n",
    "y_test, X_test = test_set['RELSPRICE'], test_set[cols]"
   ]
  },
  {
   "cell_type": "code",
   "execution_count": 25,
   "metadata": {},
   "outputs": [
    {
     "data": {
      "text/plain": [
       "RandomForestRegressor(bootstrap=True, criterion='mse', max_depth=None,\n",
       "           max_features=100, max_leaf_nodes=None,\n",
       "           min_impurity_decrease=0.0, min_impurity_split=None,\n",
       "           min_samples_leaf=1, min_samples_split=2,\n",
       "           min_weight_fraction_leaf=0.0, n_estimators=64, n_jobs=-1,\n",
       "           oob_score=False, random_state=None, verbose=0, warm_start=False)"
      ]
     },
     "execution_count": 25,
     "metadata": {},
     "output_type": "execute_result"
    }
   ],
   "source": [
    "# Train random forest\n",
    "forest = RandomForestRegressor(n_estimators=64, max_features=100, n_jobs=-1)\n",
    "forest.fit(X_train, y_train)"
   ]
  },
  {
   "cell_type": "code",
   "execution_count": 26,
   "metadata": {},
   "outputs": [
    {
     "name": "stdout",
     "output_type": "stream",
     "text": [
      "The Random Forest has an MSE of 0.6009 on the test set.\n",
      "The Random Forest has an R-squared value of 0.6206 on the test set.\n"
     ]
    }
   ],
   "source": [
    "# Assess performance of random forest\n",
    "r_2 = forest.score(X_test, y_test)\n",
    "mse = ((forest.predict(X_test)-y_test)**2).mean()\n",
    "print('The Random Forest has an MSE of %0.4f on the test set.' %mse)\n",
    "print('The Random Forest has an R-squared value of %0.4f on the test set.' %r_2)"
   ]
  },
  {
   "cell_type": "code",
   "execution_count": 27,
   "metadata": {},
   "outputs": [
    {
     "name": "stdout",
     "output_type": "stream",
     "text": [
      "Here are some of the variables with high importance:\n"
     ]
    },
    {
     "data": {
      "text/html": [
       "<div>\n",
       "<style scoped>\n",
       "    .dataframe tbody tr th:only-of-type {\n",
       "        vertical-align: middle;\n",
       "    }\n",
       "\n",
       "    .dataframe tbody tr th {\n",
       "        vertical-align: top;\n",
       "    }\n",
       "\n",
       "    .dataframe thead th {\n",
       "        text-align: right;\n",
       "    }\n",
       "</style>\n",
       "<table border=\"1\" class=\"dataframe\">\n",
       "  <thead>\n",
       "    <tr style=\"text-align: right;\">\n",
       "      <th></th>\n",
       "      <th>importance</th>\n",
       "    </tr>\n",
       "  </thead>\n",
       "  <tbody>\n",
       "    <tr>\n",
       "      <th>away_NYY</th>\n",
       "      <td>0.1047</td>\n",
       "    </tr>\n",
       "    <tr>\n",
       "      <th>numbrow</th>\n",
       "      <td>0.0999</td>\n",
       "    </tr>\n",
       "    <tr>\n",
       "      <th>propmaxatt</th>\n",
       "      <td>0.0700</td>\n",
       "    </tr>\n",
       "    <tr>\n",
       "      <th>SHregplist</th>\n",
       "      <td>0.0593</td>\n",
       "    </tr>\n",
       "    <tr>\n",
       "      <th>SHregplist2</th>\n",
       "      <td>0.0580</td>\n",
       "    </tr>\n",
       "    <tr>\n",
       "      <th>SHregpnlist2</th>\n",
       "      <td>0.0381</td>\n",
       "    </tr>\n",
       "    <tr>\n",
       "      <th>SHregpnlist</th>\n",
       "      <td>0.0367</td>\n",
       "    </tr>\n",
       "    <tr>\n",
       "      <th>EBregplist</th>\n",
       "      <td>0.0340</td>\n",
       "    </tr>\n",
       "    <tr>\n",
       "      <th>EBregplist2</th>\n",
       "      <td>0.0339</td>\n",
       "    </tr>\n",
       "    <tr>\n",
       "      <th>gamehomerecord</th>\n",
       "      <td>0.0331</td>\n",
       "    </tr>\n",
       "  </tbody>\n",
       "</table>\n",
       "</div>"
      ],
      "text/plain": [
       "                importance\n",
       "away_NYY            0.1047\n",
       "numbrow             0.0999\n",
       "propmaxatt          0.0700\n",
       "SHregplist          0.0593\n",
       "SHregplist2         0.0580\n",
       "SHregpnlist2        0.0381\n",
       "SHregpnlist         0.0367\n",
       "EBregplist          0.0340\n",
       "EBregplist2         0.0339\n",
       "gamehomerecord      0.0331"
      ]
     },
     "execution_count": 27,
     "metadata": {},
     "output_type": "execute_result"
    }
   ],
   "source": [
    "# Generate variable importances for random forest\n",
    "imps = pd.DataFrame(forest.feature_importances_,\n",
    "                    index = X_train.columns,\n",
    "                    columns=['importance']).sort_values('importance', ascending=False)\n",
    "print('Here are some of the variables with high importance:')\n",
    "imps.head(10)"
   ]
  },
  {
   "cell_type": "markdown",
   "metadata": {},
   "source": [
    "# Graphs"
   ]
  },
  {
   "cell_type": "code",
   "execution_count": 28,
   "metadata": {},
   "outputs": [],
   "source": [
    "datam = pd.read_stata('stubhub_panel.dta')\n",
    "team_rels = datam.groupby('home')['RELSPRICE'].mean()\n",
    "team_rels = team_rels.sort_values(ascending = False)\n",
    "team_rels = pd.DataFrame(team_rels).reset_index().dropna()\n",
    "crosses = datam.groupby('home')['propmaxatt', 'RELSPRICE'].mean()"
   ]
  },
  {
   "cell_type": "code",
   "execution_count": 29,
   "metadata": {},
   "outputs": [],
   "source": [
    "datam = pd.read_stata('stubhub_crosssection.dta')\n",
    "team_relsC = datam.groupby('home')['RELSPRICE'].mean()\n",
    "team_relsC = team_relsC.sort_values(ascending = False)\n",
    "team_relsC = pd.DataFrame(team_relsC).reset_index().dropna()\n",
    "crossesC = datam.groupby('home')['propmaxatt', 'RELSPRICE'].mean()"
   ]
  },
  {
   "cell_type": "code",
   "execution_count": 30,
   "metadata": {},
   "outputs": [
    {
     "data": {
      "image/png": "[encoded data removed]",
      "text/plain": [
       "<Figure size 576x864 with 1 Axes>"
      ]
     },
     "metadata": {
      "needs_background": "light"
     },
     "output_type": "display_data"
    }
   ],
   "source": [
    "fig, ax = plt.subplots(figsize=(8,12))\n",
    "ax.barh('home', 'RELSPRICE', data=team_rels, alpha=0.5, color=['red','blue']*15)\n",
    "for i in [0.5*i for i in range(1,7)]:\n",
    "    plt.axvline(x=i, color='white')\n",
    "sns.despine()\n",
    "plt.savefig('resells.pdf', bbox_inches='tight')\n",
    "plt.show()"
   ]
  },
  {
   "cell_type": "code",
   "execution_count": 31,
   "metadata": {},
   "outputs": [
    {
     "data": {
      "image/png": "[encoded data removed]",
      "text/plain": [
       "<Figure size 576x864 with 1 Axes>"
      ]
     },
     "metadata": {
      "needs_background": "light"
     },
     "output_type": "display_data"
    }
   ],
   "source": [
    "fig, ax = plt.subplots(figsize=(8,12))\n",
    "ax.barh('home', 'RELSPRICE', data=team_relsC, alpha=0.5, color=['red','blue']*15)\n",
    "for i in [0.5*i for i in range(1,6)]:\n",
    "    plt.axvline(x=i, color='white')\n",
    "sns.despine()\n",
    "plt.savefig('resellsC.pdf', bbox_inches='tight')\n",
    "plt.show()"
   ]
  },
  {
   "cell_type": "code",
   "execution_count": 32,
   "metadata": {},
   "outputs": [
    {
     "data": {
      "image/png": "[encoded data removed]",
      "text/plain": [
       "<Figure size 576x720 with 1 Axes>"
      ]
     },
     "metadata": {
      "needs_background": "light"
     },
     "output_type": "display_data"
    }
   ],
   "source": [
    "fig, ax = plt.subplots(figsize=(8,10))\n",
    "ax.scatter('propmaxatt', 'RELSPRICE', data=crosses, color='red', alpha=0.5, label='Panel')\n",
    "ax.scatter('propmaxatt', 'RELSPRICE', data=crossesC, color='blue', alpha=0.5, label='Cross Section')\n",
    "plt.axvline(x=0.5*crosses['propmaxatt'].mean()+0.5*crossesC['propmaxatt'].mean(), linestyle=':')\n",
    "plt.axhline(y=0.5*crosses['RELSPRICE'].mean()+0.5*crosses['RELSPRICE'].mean(), linestyle=':')\n",
    "ax.set_yticks([0.3*i for i in range(5,12)])\n",
    "ax.set_xlabel('Average Attendance Ratio')\n",
    "ax.set_ylabel('Average Resell Ratio')\n",
    "plt.legend(frameon=False)\n",
    "sns.despine()\n",
    "plt.savefig('scatter.pdf', bbox_inches='tight')\n",
    "plt.show()"
   ]
  }
 ],
 "metadata": {
  "kernelspec": {
   "display_name": "Python 3",
   "language": "python",
   "name": "python3"
  },
  "language_info": {
   "codemirror_mode": {
    "name": "ipython",
    "version": 3
   },
   "file_extension": ".py",
   "mimetype": "text/x-python",
   "name": "python",
   "nbconvert_exporter": "python",
   "pygments_lexer": "ipython3",
   "version": "3.6.5"
  }
 },
 "nbformat": 4,
 "nbformat_minor": 2
}
