{
 "cells": [
  {
   "cell_type": "code",
   "execution_count": 1,
   "metadata": {},
   "outputs": [
    {
     "name": "stderr",
     "output_type": "stream",
     "text": [
      "C:\\ProgramData\\Anaconda3\\lib\\site-packages\\sklearn\\ensemble\\weight_boosting.py:29: DeprecationWarning: numpy.core.umath_tests is an internal NumPy module and should not be imported. It will be removed in a future NumPy release.\n",
      "  from numpy.core.umath_tests import inner1d\n"
     ]
    }
   ],
   "source": [
    "# Import relevant libraries\n",
    "import pandas as pd\n",
    "pd.set_option('precision', 4)\n",
    "\n",
    "import matplotlib.pyplot as plt\n",
    "import seaborn as sns\n",
    "\n",
    "from sklearn.preprocessing import LabelEncoder\n",
    "from sklearn.preprocessing import LabelBinarizer\n",
    "from sklearn.preprocessing import StandardScaler\n",
    "\n",
    "from sklearn.model_selection import train_test_split\n",
    "from sklearn.model_selection import cross_val_score\n",
    "\n",
    "from sklearn.linear_model import LinearRegression\n",
    "from sklearn.ensemble import RandomForestRegressor\n",
    "from sklearn.neural_network import MLPRegressor"
   ]
  },
  {
   "cell_type": "code",
   "execution_count": 2,
   "metadata": {},
   "outputs": [
    {
     "name": "stdout",
     "output_type": "stream",
     "text": [
      "['away', 'home', 'year', 'propmaxatt', 'homeopener', 'block', 'homediv', 'homeleague', 'homerecord', 'homegameback', 'homegametogo', 'homewildgameback', 'homegameahead', 'homewildgameahead', 'homepriortofirstgame', 'awaydiv', 'awayleague', 'awayrecord', 'awaygameback', 'awaygametogo', 'awaywildgameback', 'awaygameahead', 'awaywildgameahead', 'awaypriortofirstgame', 'interl', 'samediv', 'dow', 'month']\n"
     ]
    }
   ],
   "source": [
    "# Import data, drop irrelevant variables, interactions, missing values\n",
    "datam = pd.read_stata('expattdata.dta')\n",
    "drop = ['att', 'gamedatenum', 'expdate', 'downloaddatenum', 'homebackgtg', 'homeaheadgtg', 'awaybackgtg', 'awayaheadgtg']\n",
    "for i in drop: del datam[i]\n",
    "datam = datam.dropna()\n",
    "print(list(datam.columns))"
   ]
  },
  {
   "cell_type": "code",
   "execution_count": 3,
   "metadata": {},
   "outputs": [],
   "source": [
    "# Convert multi-level dummies to hot-one encoded dummies (Note: block = spans of ~20 games)\n",
    "var_list = ['away', 'home', 'dow', 'month', 'year', 'block', 'homediv', 'awaydiv']\n",
    "for i in var_list:\n",
    "    datam = pd.concat([datam,pd.get_dummies(datam[i], prefix=i,dummy_na=False)],axis=1).drop([i],axis=1)"
   ]
  },
  {
   "cell_type": "code",
   "execution_count": 4,
   "metadata": {},
   "outputs": [],
   "source": [
    "# Split data into training and test set\n",
    "train_set, test_set = train_test_split(datam, test_size=0.2, random_state=21)"
   ]
  },
  {
   "cell_type": "code",
   "execution_count": 5,
   "metadata": {},
   "outputs": [],
   "source": [
    "# Split training and test sets into labels and variables\n",
    "cols = [col for col in datam.columns if col != 'propmaxatt']\n",
    "y_train, X_train = train_set['propmaxatt'], train_set[cols]\n",
    "y_test, X_test = test_set['propmaxatt'], test_set[cols]"
   ]
  },
  {
   "cell_type": "code",
   "execution_count": 6,
   "metadata": {},
   "outputs": [
    {
     "data": {
      "text/plain": [
       "LinearRegression(copy_X=True, fit_intercept=True, n_jobs=1, normalize=False)"
      ]
     },
     "execution_count": 6,
     "metadata": {},
     "output_type": "execute_result"
    }
   ],
   "source": [
    "# Train Linear Regression\n",
    "reg = LinearRegression()\n",
    "reg.fit(X_train, y_train)"
   ]
  },
  {
   "cell_type": "code",
   "execution_count": 7,
   "metadata": {},
   "outputs": [
    {
     "name": "stdout",
     "output_type": "stream",
     "text": [
      "The Linear Regression has an MSE of 0.0218 on the test set.\n",
      "The Linear Regression has an R-squared value of 0.6294 on the test set.\n"
     ]
    }
   ],
   "source": [
    "# Assess performance of linear regression\n",
    "r_2 = reg.score(X_test, y_test)\n",
    "mse = ((reg.predict(X_test)-y_test)**2).mean()\n",
    "print('The Linear Regression has an MSE of %0.4f on the test set.' %mse)\n",
    "print('The Linear Regression has an R-squared value of %0.4f on the test set.' %r_2)"
   ]
  },
  {
   "cell_type": "code",
   "execution_count": 8,
   "metadata": {},
   "outputs": [],
   "source": [
    "# # Code to check cross-validated scores (omitted in final runthrough due to runtime)\n",
    "# forest = RandomForestRegressor(max_features=120, n_estimators=32)\n",
    "# scores = cross_val_score(forest, X_train, y_train, cv=10)\n",
    "# print(scores.mean())"
   ]
  },
  {
   "cell_type": "code",
   "execution_count": 9,
   "metadata": {},
   "outputs": [
    {
     "data": {
      "text/plain": [
       "RandomForestRegressor(bootstrap=True, criterion='mse', max_depth=None,\n",
       "           max_features=100, max_leaf_nodes=None,\n",
       "           min_impurity_decrease=0.0, min_impurity_split=None,\n",
       "           min_samples_leaf=1, min_samples_split=2,\n",
       "           min_weight_fraction_leaf=0.0, n_estimators=64, n_jobs=1,\n",
       "           oob_score=False, random_state=None, verbose=0, warm_start=False)"
      ]
     },
     "execution_count": 9,
     "metadata": {},
     "output_type": "execute_result"
    }
   ],
   "source": [
    "# Train random forest\n",
    "forest = RandomForestRegressor(max_features=100, n_estimators = 64)\n",
    "forest.fit(X_train, y_train)"
   ]
  },
  {
   "cell_type": "code",
   "execution_count": 10,
   "metadata": {},
   "outputs": [
    {
     "name": "stdout",
     "output_type": "stream",
     "text": [
      "The Random Forest has an MSE of 0.0009 on the test set.\n",
      "The Random Forest has an R-squared value of 0.9854 on the test set.\n"
     ]
    }
   ],
   "source": [
    "# Assess performance of random forest\n",
    "r_2 = forest.score(X_test, y_test)\n",
    "mse = ((forest.predict(X_test)-y_test)**2).mean()\n",
    "print('The Random Forest has an MSE of %0.4f on the test set.' %mse)\n",
    "print('The Random Forest has an R-squared value of %0.4f on the test set.' %r_2)"
   ]
  },
  {
   "cell_type": "code",
   "execution_count": 11,
   "metadata": {},
   "outputs": [
    {
     "name": "stdout",
     "output_type": "stream",
     "text": [
      "Here are some of the variables with high importance:\n"
     ]
    },
    {
     "data": {
      "text/html": [
       "<div>\n",
       "<style scoped>\n",
       "    .dataframe tbody tr th:only-of-type {\n",
       "        vertical-align: middle;\n",
       "    }\n",
       "\n",
       "    .dataframe tbody tr th {\n",
       "        vertical-align: top;\n",
       "    }\n",
       "\n",
       "    .dataframe thead th {\n",
       "        text-align: right;\n",
       "    }\n",
       "</style>\n",
       "<table border=\"1\" class=\"dataframe\">\n",
       "  <thead>\n",
       "    <tr style=\"text-align: right;\">\n",
       "      <th></th>\n",
       "      <th>importance</th>\n",
       "    </tr>\n",
       "  </thead>\n",
       "  <tbody>\n",
       "    <tr>\n",
       "      <th>homerecord</th>\n",
       "      <td>0.0766</td>\n",
       "    </tr>\n",
       "    <tr>\n",
       "      <th>home_MON</th>\n",
       "      <td>0.0485</td>\n",
       "    </tr>\n",
       "    <tr>\n",
       "      <th>home_SFG</th>\n",
       "      <td>0.0439</td>\n",
       "    </tr>\n",
       "    <tr>\n",
       "      <th>home_Bos</th>\n",
       "      <td>0.0416</td>\n",
       "    </tr>\n",
       "    <tr>\n",
       "      <th>dow_6</th>\n",
       "      <td>0.0409</td>\n",
       "    </tr>\n",
       "    <tr>\n",
       "      <th>home_Flo</th>\n",
       "      <td>0.0367</td>\n",
       "    </tr>\n",
       "    <tr>\n",
       "      <th>homeopener</th>\n",
       "      <td>0.0294</td>\n",
       "    </tr>\n",
       "    <tr>\n",
       "      <th>home_ChC</th>\n",
       "      <td>0.0273</td>\n",
       "    </tr>\n",
       "    <tr>\n",
       "      <th>year_2000</th>\n",
       "      <td>0.0271</td>\n",
       "    </tr>\n",
       "    <tr>\n",
       "      <th>home_Tam</th>\n",
       "      <td>0.0255</td>\n",
       "    </tr>\n",
       "  </tbody>\n",
       "</table>\n",
       "</div>"
      ],
      "text/plain": [
       "            importance\n",
       "homerecord      0.0766\n",
       "home_MON        0.0485\n",
       "home_SFG        0.0439\n",
       "home_Bos        0.0416\n",
       "dow_6           0.0409\n",
       "home_Flo        0.0367\n",
       "homeopener      0.0294\n",
       "home_ChC        0.0273\n",
       "year_2000       0.0271\n",
       "home_Tam        0.0255"
      ]
     },
     "execution_count": 11,
     "metadata": {},
     "output_type": "execute_result"
    }
   ],
   "source": [
    "# Generate variable importances for random forest\n",
    "imps = pd.DataFrame(forest.feature_importances_,\n",
    "                    index = X_train.columns,\n",
    "                    columns=['importance']).sort_values('importance', ascending=False)\n",
    "print('Here are some of the variables with high importance:')\n",
    "imps.head(10)"
   ]
  },
  {
   "cell_type": "code",
   "execution_count": 12,
   "metadata": {},
   "outputs": [],
   "source": [
    "# Scale covariates to standard normals for the neural network\n",
    "scaler = StandardScaler()\n",
    "scaler.fit(X_train)\n",
    "X_train = scaler.transform(X_train)\n",
    "X_test = scaler.transform(X_test)"
   ]
  },
  {
   "cell_type": "code",
   "execution_count": 13,
   "metadata": {},
   "outputs": [],
   "source": [
    "# # Code to check cross-validated scores (omitted in final runthrough due to runtime)\n",
    "# mlp = MLPRegressor(activation='logistic', hidden_layer_sizes=(120, 90, 60), max_iter=1000)\n",
    "# scores = cross_val_score(mlp, X_train, y_train, cv=10)\n",
    "# print(scores.mean())"
   ]
  },
  {
   "cell_type": "code",
   "execution_count": 14,
   "metadata": {},
   "outputs": [
    {
     "data": {
      "text/plain": [
       "MLPRegressor(activation='logistic', alpha=0.0001, batch_size='auto',\n",
       "       beta_1=0.9, beta_2=0.999, early_stopping=False, epsilon=1e-08,\n",
       "       hidden_layer_sizes=(120, 60), learning_rate='constant',\n",
       "       learning_rate_init=0.001, max_iter=1000, momentum=0.9,\n",
       "       nesterovs_momentum=True, power_t=0.5, random_state=None,\n",
       "       shuffle=True, solver='adam', tol=0.0001, validation_fraction=0.1,\n",
       "       verbose=False, warm_start=False)"
      ]
     },
     "execution_count": 14,
     "metadata": {},
     "output_type": "execute_result"
    }
   ],
   "source": [
    "# Train neural network (multilayer perceptron)\n",
    "mlp = MLPRegressor(activation='logistic', hidden_layer_sizes=(120, 60), max_iter=1000)\n",
    "mlp.fit(X_train, y_train)"
   ]
  },
  {
   "cell_type": "code",
   "execution_count": 15,
   "metadata": {},
   "outputs": [
    {
     "name": "stdout",
     "output_type": "stream",
     "text": [
      "The Multi-layer Perceptron has an MSE of 0.0026 on the test set.\n",
      "The Multi-layer Perceptron has an R-squared value of 0.9557 on the test set.\n"
     ]
    }
   ],
   "source": [
    "# Assess performance of neural network\n",
    "r_2 = mlp.score(X_test, y_test)\n",
    "mse = ((mlp.predict(X_test)-y_test)**2).mean()\n",
    "print('The Multi-layer Perceptron has an MSE of %0.4f on the test set.' %mse)\n",
    "print('The Multi-layer Perceptron has an R-squared value of %0.4f on the test set.' %r_2)"
   ]
  },
  {
   "cell_type": "code",
   "execution_count": 16,
   "metadata": {},
   "outputs": [],
   "source": [
    "# Generate dataframe of average attendance ratios grouped by home team\n",
    "datam = pd.read_stata('expattdata.dta')\n",
    "team_att = datam.groupby('home')['propmaxatt'].mean()\n",
    "team_att = team_att.sort_values(ascending = False)\n",
    "team_att = pd.DataFrame(team_att).reset_index()"
   ]
  },
  {
   "cell_type": "code",
   "execution_count": 17,
   "metadata": {},
   "outputs": [
    {
     "data": {
      "image/png": "[encoded data removed]",
      "text/plain": [
       "<Figure size 576x864 with 1 Axes>"
      ]
     },
     "metadata": {
      "needs_background": "light"
     },
     "output_type": "display_data"
    }
   ],
   "source": [
    "# Plot average attendance ratios by home team\n",
    "fig, ax = plt.subplots(figsize=(8,12))\n",
    "ax.barh('home', 'propmaxatt', data=team_att, alpha=0.5, color=['red','blue']*15)\n",
    "ax.set_xticks([0.1*i for i in range(11)])\n",
    "for i in [0.1*i for i in range(1,11)]:\n",
    "    plt.axvline(x=i, color='white')\n",
    "sns.despine()\n",
    "plt.savefig('attendances.pdf', bbox_inches='tight')\n",
    "plt.show()"
   ]
  }
 ],
 "metadata": {
  "kernelspec": {
   "display_name": "Python 3",
   "language": "python",
   "name": "python3"
  },
  "language_info": {
   "codemirror_mode": {
    "name": "ipython",
    "version": 3
   },
   "file_extension": ".py",
   "mimetype": "text/x-python",
   "name": "python",
   "nbconvert_exporter": "python",
   "pygments_lexer": "ipython3",
   "version": "3.6.5"
  }
 },
 "nbformat": 4,
 "nbformat_minor": 2
}
